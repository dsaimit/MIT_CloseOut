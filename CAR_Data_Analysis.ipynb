{
 "cells": [
  {
   "cell_type": "code",
   "execution_count": 1,
   "id": "accomplished-nothing",
   "metadata": {},
   "outputs": [],
   "source": [
    "import numpy as np\n",
    "import pandas as pd\n",
    "from scipy import stats\n",
    "\n",
    "import itertools\n",
    "import copy\n",
    "import re\n",
    "from datetime import datetime\n",
    "\n",
    "import matplotlib.pyplot as plt\n",
    "import seaborn as sns\n",
    "\n",
    "import optuna\n",
    "\n",
    "import random\n",
    "\n",
    "from sklearn.model_selection import train_test_split\n",
    "\n",
    "from sklearn.compose import ColumnTransformer\n",
    "from sklearn.datasets import fetch_openml\n",
    "from sklearn.pipeline import Pipeline\n",
    "from sklearn.impute import SimpleImputer\n",
    "from sklearn.preprocessing import StandardScaler, OneHotEncoder\n",
    "from sklearn.preprocessing import MinMaxScaler\n",
    "\n",
    "import statsmodels.api as sm\n",
    "from patsy import dmatrices\n",
    "\n",
    "import iml_od_preprocessing\n",
    "import iml_od_modelling"
   ]
  },
  {
   "cell_type": "code",
   "execution_count": 1387,
   "id": "acknowledged-worthy",
   "metadata": {},
   "outputs": [],
   "source": [
    "data = pd.read_csv('CAR_Raw_Data.csv')"
   ]
  },
  {
   "cell_type": "code",
   "execution_count": 1388,
   "id": "graduate-keeping",
   "metadata": {},
   "outputs": [],
   "source": [
    "desired_cols = ['Trial Id', 'Protocol #',  \n",
    "                'Product Name', 'Full Title','Protocol Phase ',\n",
    "                'Protocol Status','Therapeutic Area','Planned Enrollment',\n",
    "                'Actual Enrollment','Actual Screened','Actual Rescreened','Actual Screen Failure',\n",
    "                'Actual Randomized / Dosed','Actual Early Terminated','% Enrollment Completed',\n",
    "                'Planned Sites','Active Sites','Legacy Company','CRO','Planned Primary Study Completion Date',\n",
    "                'Actual Primary Study Completion Date','Synopsis Actual Date',\n",
    "                'Protocol Actual Date',\n",
    "                'First Site Activated Actual Date','FSS Actual Date',\n",
    "                'FSI Actual Date','FSFV Actual Date','LSI Actual Date',\n",
    "                'LSI Avg Tx Actual Date','LSO Actual Date',\n",
    "                'LSO 2 Actual Date','LSO 3 Actual Date',\n",
    "                'LSO 4 Actual Date','LSO Final Actual Date',\n",
    "                'DBL Actual Date','DBL 2 Actual Date',\n",
    "                'DBL 3  Actual Date','DBL 4 Actual Date',\n",
    "                'DBL Final Actual Date']"
   ]
  },
  {
   "cell_type": "code",
   "execution_count": 1389,
   "id": "liberal-capital",
   "metadata": {},
   "outputs": [],
   "source": [
    "new_col_names = ['TrialID', 'ProtocolNum',  \n",
    "                'ProductName', 'FullTitle','ProtocolPhase',\n",
    "                'ProtocolStatus','TA','PlannedEnrollment',\n",
    "                'ActualEnrollment','ActualScreened','ActualRescreened','ActualScreenFailure',\n",
    "                'ActualRandomizedDosed','ActualEarlyTerminated','PercEnrollmentCompleted',\n",
    "                'PlannedSites','ActiveSites','LegacyCompany','CRO','PlannedPrimaryStudy_CompletionDate',\n",
    "                'ActualPrimaryStudy_CompletionDate','SynopsisActualDate','Protocol_ActualDate',\n",
    "                'FirstSiteActivated_ActualDate','FSS_ActualDate',\n",
    "                'FSI_ActualDate','FSFV_ActualDate','LSI_ActualDate',\n",
    "                'LSI_AvgTx_ActualDate','LSO_ActualDate',\n",
    "                'LSO_2_ActualDate','LSO_3_ActualDate',\n",
    "                'LSO_4_ActualDate','LSO_Final_ActualDate',\n",
    "                'DBL_ActualDate','DBL_2_ActualDate',\n",
    "                'DBL_3_ActualDate','DBL_4_ActualDate',\n",
    "                'DBL_Final_ActualDate']"
   ]
  },
  {
   "cell_type": "code",
   "execution_count": 1390,
   "id": "greater-christian",
   "metadata": {},
   "outputs": [],
   "source": [
    "### Introducing a dictionary that maps interim phases to the generic ones \n",
    "def phase_map(x):\n",
    "    phase_dict = {'I':['PHASE 1', 'I'], 'II':['IB', 'I/II', 'II', 'IIA', 'IIB'],\n",
    "                  'III':['II/III', 'III', 'IIIA', 'IIIB']}\n",
    "        \n",
    "    if x in phase_dict['I']:\n",
    "        return 'I'\n",
    "    \n",
    "    elif x in phase_dict['II']:\n",
    "        return 'II'\n",
    "    \n",
    "    elif x in phase_dict['III']:\n",
    "        return 'III'    \n",
    "    \n",
    "    else:\n",
    "        return x"
   ]
  },
  {
   "cell_type": "code",
   "execution_count": 1394,
   "id": "careful-month",
   "metadata": {},
   "outputs": [],
   "source": [
    "df = data[desired_cols]\n",
    "df.columns = new_col_names"
   ]
  },
  {
   "cell_type": "markdown",
   "id": "joint-software",
   "metadata": {},
   "source": [
    "-----"
   ]
  },
  {
   "cell_type": "markdown",
   "id": "continental-investigator",
   "metadata": {},
   "source": [
    "---------"
   ]
  },
  {
   "cell_type": "code",
   "execution_count": 1397,
   "id": "permanent-visit",
   "metadata": {},
   "outputs": [],
   "source": [
    "DBL_conds = df.DBL_ActualDate.notna() \n",
    "LSO_conds = df.LSO_ActualDate.notna()  \n",
    "df = df[DBL_conds & LSO_conds]\n",
    "\n",
    "df = df.replace(np.nan,0)\n",
    "df = df.replace('*',0)\n"
   ]
  },
  {
   "cell_type": "code",
   "execution_count": 1398,
   "id": "formal-interaction",
   "metadata": {},
   "outputs": [
    {
     "data": {
      "text/plain": [
       "(314, 39)"
      ]
     },
     "execution_count": 1398,
     "metadata": {},
     "output_type": "execute_result"
    }
   ],
   "source": [
    "# After Removing NAs\n",
    "df.shape"
   ]
  },
  {
   "cell_type": "code",
   "execution_count": 1400,
   "id": "buried-niger",
   "metadata": {},
   "outputs": [],
   "source": [
    "def get_date_format(x):\n",
    "    if x == 0:\n",
    "        return '2500-01-01'\n",
    "    elif x != 0: \n",
    "        new_val = datetime.strptime(str(x),'%m/%d/%Y').strftime('%Y-%m-%d')\n",
    "        return new_val"
   ]
  },
  {
   "cell_type": "code",
   "execution_count": 1401,
   "id": "afraid-reporter",
   "metadata": {},
   "outputs": [],
   "source": [
    "# Dealing with dates\n",
    "date_cols = ['ActualPrimaryStudy_CompletionDate', 'SynopsisActualDate',\n",
    "             'Protocol_ActualDate', 'FirstSiteActivated_ActualDate',\n",
    "             'FSS_ActualDate', 'FSI_ActualDate', 'FSFV_ActualDate', 'LSI_ActualDate',\n",
    "             'LSI_AvgTx_ActualDate', 'LSO_ActualDate', 'LSO_2_ActualDate', \n",
    "             'LSO_3_ActualDate', 'LSO_4_ActualDate', 'LSO_Final_ActualDate',\n",
    "             'DBL_ActualDate','DBL_2_ActualDate', 'DBL_3_ActualDate',\n",
    "             'DBL_4_ActualDate', 'DBL_Final_ActualDate']\n",
    "\n",
    "for col in date_cols:\n",
    "    df.loc[:, col] = df.loc[:, col].apply(lambda x: get_date_format(x))"
   ]
  },
  {
   "cell_type": "code",
   "execution_count": 1402,
   "id": "metropolitan-intelligence",
   "metadata": {},
   "outputs": [],
   "source": [
    "# Dealing with Phases \n",
    "df.loc[:, 'ProtocolPhase'] = df.ProtocolPhase.str.upper()\n",
    "df.loc[:, 'ProtocolPhase'] = df.ProtocolPhase.apply(lambda x: phase_map(x))\n",
    "\n",
    "# Dealing with TAs\n",
    "NON_CORE_TAU = ['Plasma Derived Therapy', 'Ophthalmology', 'Immunology', \n",
    "                '0', 0, 'CVM', 'Vaccine', 'Others', 'Marketed Products']\n",
    "df.loc[df.TA.isin(NON_CORE_TAU), ['TA']] = 'NonCore'"
   ]
  },
  {
   "cell_type": "code",
   "execution_count": 1403,
   "id": "olive-logan",
   "metadata": {},
   "outputs": [],
   "source": [
    "# FY2021 = '01/01/2021'"
   ]
  },
  {
   "cell_type": "code",
   "execution_count": 1404,
   "id": "stock-tenant",
   "metadata": {},
   "outputs": [],
   "source": [
    "#temp_df = temp_df[(temp_df.DBL_ActualDate < FY2021) & (temp_df.LSO_ActualDate < FY2021)]"
   ]
  },
  {
   "cell_type": "code",
   "execution_count": 1405,
   "id": "olive-bennett",
   "metadata": {},
   "outputs": [],
   "source": [
    "#df = copy.deepcopy(temp_df)"
   ]
  },
  {
   "cell_type": "markdown",
   "id": "indoor-version",
   "metadata": {},
   "source": [
    "### Finding the final LSO and DBL times to calculate cycle time"
   ]
  },
  {
   "cell_type": "code",
   "execution_count": 1406,
   "id": "arbitrary-single",
   "metadata": {},
   "outputs": [],
   "source": [
    "def get_temp_df(df, cols):\n",
    "    # Subsets df so that we focus only on LSO or DBL values\n",
    "    \n",
    "    if cols == 'LSO_cols':\n",
    "        LSO_cols = ['LSO_ActualDate', 'LSO_2_ActualDate','LSO_3_ActualDate', \n",
    "                    'LSO_4_ActualDate', 'LSO_Final_ActualDate']\n",
    "        mod_df = df[LSO_cols]\n",
    "\n",
    "    if cols == 'DBL_cols':\n",
    "        DBL_cols = ['DBL_ActualDate', 'DBL_2_ActualDate', 'DBL_3_ActualDate',\n",
    "                    'DBL_4_ActualDate', 'DBL_Final_ActualDate']\n",
    "        mod_df = df[DBL_cols]\n",
    "        \n",
    "    return mod_df\n",
    "\n",
    "def get_true_date_val(series): \n",
    "    # Runs through each element in row to find what the last input date was\n",
    "    i = 0\n",
    "    for date in series:\n",
    "        if date != '2500-01-01':\n",
    "             val = date    \n",
    "    return val\n",
    "\n",
    "def get_true_date_col(df):\n",
    "    # Yields the values for each row (different approach to lambda function)\n",
    "    true_dates = list()\n",
    "    for index, series in df.iterrows():\n",
    "        true_dates.append(get_true_date_val(series))\n",
    "    return true_dates"
   ]
  },
  {
   "cell_type": "code",
   "execution_count": 1407,
   "id": "round-simon",
   "metadata": {},
   "outputs": [],
   "source": [
    "LSO_df = get_temp_df(df, 'LSO_cols')\n",
    "DBL_df = get_temp_df(df, 'DBL_cols')"
   ]
  },
  {
   "cell_type": "code",
   "execution_count": 1408,
   "id": "separated-filter",
   "metadata": {},
   "outputs": [],
   "source": [
    "# ## Engineering the true LSO and DBL dates\n",
    "# df['TrueLSO'] = pd.to_datetime(get_true_date_col(LSO_df))\n",
    "# df['TrueDBL'] = pd.to_datetime(get_true_date_col(DBL_df))\n",
    "\n",
    "df.DBL_ActualDate = pd.to_datetime(df.DBL_ActualDate)\n",
    "df.LSO_ActualDate = pd.to_datetime(df.LSO_ActualDate)"
   ]
  },
  {
   "cell_type": "code",
   "execution_count": 1409,
   "id": "exceptional-happiness",
   "metadata": {},
   "outputs": [],
   "source": [
    "## Calculating the cycle time for the trial\n",
    "df['CloseOut'] = (df.DBL_ActualDate - df.LSO_ActualDate) / pd.offsets.Day(1)\n",
    "df['CloseOut'] = df['CloseOut'].astype(int)"
   ]
  },
  {
   "cell_type": "markdown",
   "id": "british-backup",
   "metadata": {},
   "source": [
    "### Engineering the number of times LSO and DBL was changed"
   ]
  },
  {
   "cell_type": "code",
   "execution_count": 1410,
   "id": "representative-chamber",
   "metadata": {},
   "outputs": [],
   "source": [
    "def get_count_changes(df):\n",
    "    # Counts the number of dates are present in these rows - will equal number of times it has been changed\n",
    "    \n",
    "    df = df.replace('2500-01-01', np.nan)\n",
    "    count_vals = list()\n",
    "    for index, series in df.iterrows():\n",
    "        count_vals.append(series.notna().sum())\n",
    "    return count_vals"
   ]
  },
  {
   "cell_type": "code",
   "execution_count": 1411,
   "id": "streaming-miami",
   "metadata": {},
   "outputs": [],
   "source": [
    "df['numValsLSO'] = get_count_changes(LSO_df)\n",
    "df['numValsDBL'] = get_count_changes(DBL_df)"
   ]
  },
  {
   "cell_type": "markdown",
   "id": "bridal-arabic",
   "metadata": {},
   "source": [
    "### Engineering features for time between previous intermediate steps"
   ]
  },
  {
   "cell_type": "code",
   "execution_count": 1412,
   "id": "equal-concord",
   "metadata": {},
   "outputs": [],
   "source": [
    "def get_time_diff(df, first_col, second_col):\n",
    "    '''\n",
    "    Calculates the number of days between two specified columns\n",
    "    '''\n",
    "    df.loc[:, first_col] = df.loc[:, first_col].replace('2500-01-01', np.nan) \n",
    "    df.loc[:, first_col] = pd.to_datetime(df.loc[:, first_col])\n",
    "    \n",
    "    df.loc[:, second_col] = df.loc[:, second_col].replace('2500-01-01', np.nan) \n",
    "    df.loc[:, second_col] = pd.to_datetime(df.loc[:, second_col])\n",
    "    \n",
    "    days_diff =  (df.loc[:, second_col] - df.loc[:, first_col]) / pd.offsets.Day(1)\n",
    "    \n",
    "    return days_diff\n",
    "    "
   ]
  },
  {
   "cell_type": "code",
   "execution_count": 1413,
   "id": "after-absolute",
   "metadata": {},
   "outputs": [],
   "source": [
    "interim_cols = {'PrimaryStudy_to_Synopsis': ('ActualPrimaryStudy_CompletionDate', 'SynopsisActualDate'),\n",
    "                'Synopsis_to_Protocol': ('SynopsisActualDate','Protocol_ActualDate'),\n",
    "                'Protocol_to_FirstSiteActivated': ('Protocol_ActualDate','FirstSiteActivated_ActualDate'),\n",
    "                'FirstSiteActivated_to_FSS': ('FirstSiteActivated_ActualDate', 'FSS_ActualDate'),\n",
    "                'FSS_to_FSI': ('FSS_ActualDate', 'FSI_ActualDate'),\n",
    "                'FSI_to_FSFV': ('FSI_ActualDate', 'FSFV_ActualDate'),\n",
    "                'FSFV_to_LSI': ('FSFV_ActualDate', 'LSI_ActualDate'),\n",
    "                'LSI_to_LSIAvgTxL': ('LSI_ActualDate','LSI_AvgTx_ActualDate'), #IDK what LSI_AvgTx is\n",
    "                'LSI_to_LSO': ('LSI_ActualDate', 'LSO_ActualDate')}"
   ]
  },
  {
   "cell_type": "code",
   "execution_count": 1414,
   "id": "confident-muscle",
   "metadata": {},
   "outputs": [],
   "source": [
    "# Will iterate through the columns pairs to create a new columns, corresponding to the time delta between the two\n",
    "for cols in interim_cols:\n",
    "    first_col = interim_cols[cols][0]\n",
    "    second_col = interim_cols[cols][1]\n",
    "    \n",
    "    df[cols] = get_time_diff(df, first_col, second_col)"
   ]
  },
  {
   "cell_type": "code",
   "execution_count": 1415,
   "id": "personal-dollar",
   "metadata": {},
   "outputs": [],
   "source": [
    "df = df.loc[df.CloseOut > 25, :]"
   ]
  },
  {
   "cell_type": "markdown",
   "id": "efficient-ordering",
   "metadata": {},
   "source": [
    "------"
   ]
  },
  {
   "cell_type": "markdown",
   "id": "blank-helen",
   "metadata": {},
   "source": [
    "------"
   ]
  },
  {
   "cell_type": "code",
   "execution_count": 1416,
   "id": "cross-revelation",
   "metadata": {},
   "outputs": [],
   "source": [
    "#df.to_csv('processed_CAR_data.csv')"
   ]
  },
  {
   "cell_type": "markdown",
   "id": "fallen-relay",
   "metadata": {},
   "source": [
    "--------"
   ]
  },
  {
   "cell_type": "code",
   "execution_count": 1417,
   "id": "functional-winning",
   "metadata": {},
   "outputs": [
    {
     "name": "stderr",
     "output_type": "stream",
     "text": [
      "/usr/local/lib/python3.6/site-packages/seaborn/distributions.py:2557: FutureWarning: `distplot` is a deprecated function and will be removed in a future version. Please adapt your code to use either `displot` (a figure-level function with similar flexibility) or `histplot` (an axes-level function for histograms).\n",
      "  warnings.warn(msg, FutureWarning)\n"
     ]
    },
    {
     "data": {
      "text/plain": [
       "<AxesSubplot:xlabel='CloseOut', ylabel='Density'>"
      ]
     },
     "execution_count": 1417,
     "metadata": {},
     "output_type": "execute_result"
    },
    {
     "data": {
      "image/png": "[encoded data removed]",
      "text/plain": [
       "<Figure size 432x288 with 1 Axes>"
      ]
     },
     "metadata": {
      "needs_background": "light"
     },
     "output_type": "display_data"
    }
   ],
   "source": [
    "sns.distplot(df.CloseOut)"
   ]
  },
  {
   "cell_type": "code",
   "execution_count": 1419,
   "id": "moved-seafood",
   "metadata": {},
   "outputs": [],
   "source": [
    "classes = ['<30 days', '30-52 days', '52-80 days', '>80 days']"
   ]
  },
  {
   "cell_type": "markdown",
   "id": "nasty-convertible",
   "metadata": {},
   "source": [
    "-----"
   ]
  },
  {
   "cell_type": "markdown",
   "id": "southeast-usage",
   "metadata": {},
   "source": [
    "### Adding in number of missing domain data"
   ]
  },
  {
   "cell_type": "code",
   "execution_count": 1420,
   "id": "responsible-harrison",
   "metadata": {},
   "outputs": [],
   "source": [
    "missing = pd.read_csv('study_missing_domain.csv')\n",
    "missing = missing.drop(['Unnamed: 0'], axis = 1)\n",
    "missing.columns = ['ProtocolNum', 'MissingDomain']"
   ]
  },
  {
   "cell_type": "code",
   "execution_count": 1421,
   "id": "automotive-sheet",
   "metadata": {},
   "outputs": [],
   "source": [
    "sorted_ls = sorted(df.ProtocolNum.unique())"
   ]
  },
  {
   "cell_type": "code",
   "execution_count": 1422,
   "id": "behavioral-motor",
   "metadata": {},
   "outputs": [
    {
     "data": {
      "text/plain": [
       "False"
      ]
     },
     "execution_count": 1422,
     "metadata": {},
     "output_type": "execute_result"
    }
   ],
   "source": [
    "'Vedolizumab-1014' == 'VEDOLIZUMAB-1014'"
   ]
  },
  {
   "cell_type": "code",
   "execution_count": null,
   "id": "continuing-turkey",
   "metadata": {},
   "outputs": [],
   "source": []
  },
  {
   "cell_type": "code",
   "execution_count": 1423,
   "id": "listed-length",
   "metadata": {},
   "outputs": [],
   "source": [
    "temp = copy.deepcopy(df)\n",
    "temp = temp.join(missing.set_index('ProtocolNum'), how = 'left', on = 'ProtocolNum').reset_index()\n",
    "temp.MissingDomain = temp.MissingDomain.replace(np.nan, 0)"
   ]
  },
  {
   "cell_type": "markdown",
   "id": "polyphonic-edition",
   "metadata": {},
   "source": [
    "### ML on CAR Data"
   ]
  },
  {
   "cell_type": "code",
   "execution_count": 1424,
   "id": "future-rehabilitation",
   "metadata": {},
   "outputs": [],
   "source": [
    "wanted_cols = ['ProtocolPhase', 'TA', 'PlannedEnrollment', 'ActualEnrollment',\n",
    "              'ActualScreened', 'ActualRescreened', 'ActualScreenFailure',\n",
    "               'ActualRandomizedDosed', 'ActualEarlyTerminated',\n",
    "               'PercEnrollmentCompleted', 'PlannedSites', 'ActiveSites',\n",
    "               'CRO','numValsLSO','numValsDBL', 'DBL_ActualDate',\n",
    "               'Synopsis_to_Protocol',\n",
    "               'FSS_to_FSI','LSI_to_LSO', 'MissingDomain',\n",
    "               'CloseOut']"
   ]
  },
  {
   "cell_type": "code",
   "execution_count": 1425,
   "id": "automated-fitness",
   "metadata": {},
   "outputs": [],
   "source": [
    "#ml_df = df[wanted_cols]\n",
    "ml_df = temp[wanted_cols]"
   ]
  },
  {
   "cell_type": "code",
   "execution_count": 1426,
   "id": "destroyed-edinburgh",
   "metadata": {},
   "outputs": [],
   "source": [
    "## ML stuff"
   ]
  },
  {
   "cell_type": "markdown",
   "id": "settled-bulletin",
   "metadata": {},
   "source": [
    "### Data Wrangling"
   ]
  },
  {
   "cell_type": "code",
   "execution_count": 1427,
   "id": "communist-sponsorship",
   "metadata": {},
   "outputs": [
    {
     "name": "stderr",
     "output_type": "stream",
     "text": [
      "/usr/local/lib64/python3.6/site-packages/pandas/core/generic.py:6287: SettingWithCopyWarning: \n",
      "A value is trying to be set on a copy of a slice from a DataFrame\n",
      "\n",
      "See the caveats in the documentation: http://pandas.pydata.org/pandas-docs/stable/user_guide/indexing.html#returning-a-view-versus-a-copy\n",
      "  self._update_inplace(new_data)\n"
     ]
    }
   ],
   "source": [
    "# Imputing data\n",
    "ml_df.Synopsis_to_Protocol.fillna(ml_df.Synopsis_to_Protocol.median(), inplace= True)\n",
    "ml_df.FSS_to_FSI.fillna(ml_df.FSS_to_FSI.median(), inplace= True)\n",
    "ml_df.LSI_to_LSO.fillna(ml_df.LSI_to_LSO.median(), inplace= True)"
   ]
  },
  {
   "cell_type": "code",
   "execution_count": 1428,
   "id": "caroline-norway",
   "metadata": {},
   "outputs": [
    {
     "name": "stderr",
     "output_type": "stream",
     "text": [
      "/usr/local/lib64/python3.6/site-packages/pandas/core/indexing.py:494: SettingWithCopyWarning: \n",
      "A value is trying to be set on a copy of a slice from a DataFrame.\n",
      "Try using .loc[row_indexer,col_indexer] = value instead\n",
      "\n",
      "See the caveats in the documentation: http://pandas.pydata.org/pandas-docs/stable/user_guide/indexing.html#returning-a-view-versus-a-copy\n",
      "  self.obj[item] = s\n"
     ]
    }
   ],
   "source": [
    "# Dealing with % values\n",
    "def p2f(x):\n",
    "    return float(x.strip('%'))/100\n",
    "\n",
    "ml_df.loc[:, 'PercEnrollmentCompleted'] = ml_df.loc[:, 'PercEnrollmentCompleted'].astype(str)\n",
    "ml_df.loc[:, 'PercEnrollmentCompleted'] = ml_df.loc[:, 'PercEnrollmentCompleted'].apply(lambda x: p2f(x))"
   ]
  },
  {
   "cell_type": "code",
   "execution_count": 1429,
   "id": "chemical-legend",
   "metadata": {},
   "outputs": [],
   "source": [
    "# Dealing with CROs \n",
    "ml_df.loc[:, 'CRO'] = ml_df.CRO.str.replace('Takeda PRA Development Center', 'PRA')\n",
    "ml_df.loc[:, 'CRO'] = ml_df.CRO.str.replace('PRA Health Sciences', 'PRA')\n",
    "ml_df.loc[:, 'CRO'] = ml_df.CRO.str.replace('ICON / MAPI / Paradigm', 'ICON')\n",
    "\n",
    "\n",
    "NON_CORE_CRO = ['Hangzhou Tigermed Consulting', 'Atlant','TBD', 'TFS', 0, \n",
    "                'Hammersmith Medicines Research', 'GEICAM', 'INC Research',\n",
    "                'CMIC', 'Parexel', 'Synteract','Sarah Cannon Research Institut', \n",
    "                'Dobbs Consulting', 'In-House','Covance', 'MEDISCIENCE PLANNING INC',\n",
    "                'EPS', 'A2 Healthcare','Red Maple Trials, Rho, Triumpharma', \n",
    "                'Medpace', 'Endpoint', 'Clinical Pharmacology of Miami, INC',\n",
    "                'Bracket', 'Psi', 'DMID-CROMS Pharmacovigilance Group', 'Chiltern',\n",
    "                'Assign Group', 'Mediscience Planning Inc.', 'DP Clinical, Inc.']\n",
    "ml_df.loc[ml_df.CRO.isin(NON_CORE_CRO), 'CRO'] = 'Other'"
   ]
  },
  {
   "cell_type": "code",
   "execution_count": 1430,
   "id": "irish-vancouver",
   "metadata": {},
   "outputs": [],
   "source": [
    "## Final NAs\n",
    "ml_df = ml_df.dropna(how = 'any')\n",
    "\n",
    "## Dropping outliers \n",
    "ml_df = ml_df.loc[ml_df.CloseOut < 250, :]\n",
    "ml_df = ml_df.loc[ml_df.CloseOut >= 0, :]\n",
    "\n",
    "## Dealing with negative values on certain columns \n",
    "ml_df = ml_df.loc[ml_df.FSS_to_FSI >= 0, :]\n",
    "ml_df = ml_df.loc[ml_df.Synopsis_to_Protocol >= 0, :]\n",
    "ml_df = ml_df.loc[ml_df.LSI_to_LSO >= 0, :]"
   ]
  },
  {
   "cell_type": "code",
   "execution_count": 1431,
   "id": "north-discharge",
   "metadata": {},
   "outputs": [],
   "source": [
    "## One Hot Encoding\n",
    "## CRO\n",
    "# Processing Columns\n",
    "ml_df = iml_od_preprocessing.one_hot_encoding_one_column(ml_df, 'CRO')\n",
    "\n",
    "## TA\n",
    "ml_df = iml_od_preprocessing.one_hot_encoding_one_column(ml_df, 'TA')\n",
    "\n",
    "## Phase\n",
    "ml_df = iml_od_preprocessing.one_hot_encoding_one_column(ml_df, 'ProtocolPhase')"
   ]
  },
  {
   "cell_type": "code",
   "execution_count": 1432,
   "id": "integrated-cause",
   "metadata": {},
   "outputs": [],
   "source": [
    "# Fixing number values\n",
    "ml_df.loc[:, 'PlannedEnrollment'] = ml_df.loc[:, 'PlannedEnrollment'].astype(str).apply(lambda x: x.replace(',',''))\n",
    "ml_df.loc[:, 'PlannedEnrollment'] = ml_df.loc[:, 'PlannedEnrollment'].astype(int)\n",
    "\n",
    "ml_df.loc[:, 'ActualEnrollment'] = ml_df.loc[:, 'ActualEnrollment'].astype(str).apply(lambda x: x.replace(',',''))\n",
    "ml_df.loc[:, 'ActualEnrollment'] = ml_df.loc[:, 'ActualEnrollment'].astype(int)"
   ]
  },
  {
   "cell_type": "markdown",
   "id": "chronic-spelling",
   "metadata": {},
   "source": [
    "### Dropping non-sensical columns"
   ]
  },
  {
   "cell_type": "code",
   "execution_count": 1433,
   "id": "tender-produce",
   "metadata": {},
   "outputs": [],
   "source": [
    "# ActualRescreened dropped because it's all 0 values except for one that is 4\n",
    "ml_df = ml_df.drop(['ActualRescreened'], axis=1)\n",
    "\n",
    "# ActualScreened dropped because the values observed don't add up i.e. Enrolled != Screened - FailedScreen\n",
    "ml_df = ml_df.drop(['ActualScreened'], axis=1)"
   ]
  },
  {
   "cell_type": "markdown",
   "id": "proper-silly",
   "metadata": {},
   "source": [
    "### Visualizing correlations"
   ]
  },
  {
   "cell_type": "code",
   "execution_count": 1434,
   "id": "likely-pitch",
   "metadata": {},
   "outputs": [],
   "source": [
    "# Obtaining Correlations\n",
    "\n",
    "corr_vals = list(ml_df.corr().CloseOut)\n",
    "\n",
    "corr_names = list(ml_df.corr().index)\n",
    "\n",
    "closeOut_idx = corr_names.index('CloseOut')\n",
    "\n",
    "del corr_vals[closeOut_idx]\n",
    "del corr_names[closeOut_idx]"
   ]
  },
  {
   "cell_type": "code",
   "execution_count": 1435,
   "id": "sorted-multimedia",
   "metadata": {},
   "outputs": [],
   "source": [
    "# Obtaining features with correlations greater than a threshold \n",
    "def features_above_corr(corr_names, corr_vals, threshold):\n",
    "    \n",
    "    new_vals = list()\n",
    "    new_names = list()\n",
    "    \n",
    "    i = 0\n",
    "    for val in corr_vals:\n",
    "        if abs(val) > threshold:\n",
    "            new_vals.append(corr_vals[i])\n",
    "            new_names.append(corr_names[i])\n",
    "        i+=1 \n",
    "    \n",
    "    print(f'There are {len(new_names)} features with a correlation greater than {100*round(threshold,2)}%')\n",
    "    return new_names, new_vals"
   ]
  },
  {
   "cell_type": "code",
   "execution_count": 1436,
   "id": "electric-microwave",
   "metadata": {},
   "outputs": [],
   "source": [
    "def get_corr_bar_plot(corr_names, corr_vals, cutoff):\n",
    "    \n",
    "    threshold = cutoff\n",
    "    most_corr_names, most_corr_vals = features_above_corr(corr_names, corr_vals, threshold)   \n",
    "    \n",
    "    plt.figure(figsize = (10,8))\n",
    "    plt.title('Feature correlations with close-out times')\n",
    "    plt.xlabel('Feature Name')\n",
    "    plt.ylabel('Correlation')\n",
    "    plt.xticks(rotation = 45)\n",
    "\n",
    "    plt.bar(most_corr_names, most_corr_vals)\n",
    "    \n",
    "    pass "
   ]
  },
  {
   "cell_type": "code",
   "execution_count": 1437,
   "id": "informational-integration",
   "metadata": {},
   "outputs": [
    {
     "data": {
      "text/plain": [
       "1"
      ]
     },
     "execution_count": 1437,
     "metadata": {},
     "output_type": "execute_result"
    }
   ],
   "source": [
    "sum(df.DBL_ActualDate < '2010-01-01')"
   ]
  },
  {
   "cell_type": "code",
   "execution_count": 1438,
   "id": "internal-consumer",
   "metadata": {},
   "outputs": [
    {
     "name": "stdout",
     "output_type": "stream",
     "text": [
      "There are 14 features with a correlation greater than 5.0%\n"
     ]
    },
    {
     "data": {
      "image/png": "[encoded data removed]",
      "text/plain": [
       "<Figure size 720x576 with 1 Axes>"
      ]
     },
     "metadata": {
      "needs_background": "light"
     },
     "output_type": "display_data"
    }
   ],
   "source": [
    "cutoff = 0.05\n",
    "get_corr_bar_plot(corr_names, corr_vals, cutoff)"
   ]
  },
  {
   "cell_type": "code",
   "execution_count": 1439,
   "id": "domestic-assist",
   "metadata": {},
   "outputs": [],
   "source": [
    "ml_df.columns\n",
    "\n",
    "int_val_cols = ['PlannedEnrollment', 'ActualEnrollment',\n",
    "                'ActualScreenFailure', 'ActualRandomizedDosed',\n",
    "                'ActualEarlyTerminated', 'PercEnrollmentCompleted', 'PlannedSites',\n",
    "                'ActiveSites', 'numValsLSO', 'numValsDBL',\n",
    "                'Synopsis_to_Protocol', 'FSS_to_FSI', 'LSI_to_LSO']"
   ]
  },
  {
   "cell_type": "code",
   "execution_count": 1440,
   "id": "liked-forge",
   "metadata": {},
   "outputs": [],
   "source": [
    "def get_data_viz(col, col_vals, CloseOut_vals):\n",
    "    \n",
    "    plt.figure(figsize = (8,6))\n",
    "    plt.title(f'{col} vs. Close Out')\n",
    "    plt.xlabel(col)\n",
    "    plt.ylabel('Close Out (days)')\n",
    "    \n",
    "    return plt.scatter(col_vals, CloseOut_vals)"
   ]
  },
  {
   "cell_type": "code",
   "execution_count": 1441,
   "id": "portuguese-spell",
   "metadata": {},
   "outputs": [
    {
     "name": "stdout",
     "output_type": "stream",
     "text": [
      "Generating 13 plots...\n"
     ]
    },
    {
     "data": {
      "image/png": "[encoded data removed]",
      "text/plain": [
       "<Figure size 576x432 with 1 Axes>"
      ]
     },
     "metadata": {
      "needs_background": "light"
     },
     "output_type": "display_data"
    },
    {
     "data": {
      "image/png": "[encoded data removed]",
      "text/plain": [
       "<Figure size 576x432 with 1 Axes>"
      ]
     },
     "metadata": {
      "needs_background": "light"
     },
     "output_type": "display_data"
    },
    {
     "data": {
      "image/png": "[encoded data removed]",
      "text/plain": [
       "<Figure size 576x432 with 1 Axes>"
      ]
     },
     "metadata": {
      "needs_background": "light"
     },
     "output_type": "display_data"
    },
    {
     "data": {
      "image/png": "[encoded data removed]",
      "text/plain": [
       "<Figure size 576x432 with 1 Axes>"
      ]
     },
     "metadata": {
      "needs_background": "light"
     },
     "output_type": "display_data"
    },
    {
     "data": {
      "image/png": "[encoded data removed]",
      "text/plain": [
       "<Figure size 576x432 with 1 Axes>"
      ]
     },
     "metadata": {
      "needs_background": "light"
     },
     "output_type": "display_data"
    },
    {
     "data": {
      "image/png": "[encoded data removed]",
      "text/plain": [
       "<Figure size 576x432 with 1 Axes>"
      ]
     },
     "metadata": {
      "needs_background": "light"
     },
     "output_type": "display_data"
    },
    {
     "data": {
      "image/png": "[encoded data removed]",
      "text/plain": [
       "<Figure size 576x432 with 1 Axes>"
      ]
     },
     "metadata": {
      "needs_background": "light"
     },
     "output_type": "display_data"
    },
    {
     "data": {
      "image/png": "[encoded data removed]",
      "text/plain": [
       "<Figure size 576x432 with 1 Axes>"
      ]
     },
     "metadata": {
      "needs_background": "light"
     },
     "output_type": "display_data"
    },
    {
     "data": {
      "image/png": "[encoded data removed]",
      "text/plain": [
       "<Figure size 576x432 with 1 Axes>"
      ]
     },
     "metadata": {
      "needs_background": "light"
     },
     "output_type": "display_data"
    },
    {
     "data": {
      "image/png": "[encoded data removed]",
      "text/plain": [
       "<Figure size 576x432 with 1 Axes>"
      ]
     },
     "metadata": {
      "needs_background": "light"
     },
     "output_type": "display_data"
    },
    {
     "data": {
      "image/png": "[encoded data removed]",
      "text/plain": [
       "<Figure size 576x432 with 1 Axes>"
      ]
     },
     "metadata": {
      "needs_background": "light"
     },
     "output_type": "display_data"
    },
    {
     "data": {
      "image/png": "[encoded data removed]",
      "text/plain": [
       "<Figure size 576x432 with 1 Axes>"
      ]
     },
     "metadata": {
      "needs_background": "light"
     },
     "output_type": "display_data"
    },
    {
     "data": {
      "image/png": "[encoded data removed]",
      "text/plain": [
       "<Figure size 576x432 with 1 Axes>"
      ]
     },
     "metadata": {
      "needs_background": "light"
     },
     "output_type": "display_data"
    }
   ],
   "source": [
    "sub_ml_df = ml_df[int_val_cols]\n",
    "print(f'Generating {sub_ml_df.shape[1]} plots...')\n",
    "for col in sub_ml_df:\n",
    "    get_data_viz(col, sub_ml_df.loc[:, col], ml_df.CloseOut)"
   ]
  },
  {
   "cell_type": "code",
   "execution_count": null,
   "id": "theoretical-context",
   "metadata": {},
   "outputs": [],
   "source": []
  },
  {
   "cell_type": "markdown",
   "id": "parliamentary-african",
   "metadata": {},
   "source": [
    "### Train-Test split "
   ]
  },
  {
   "cell_type": "code",
   "execution_count": 1347,
   "id": "subsequent-childhood",
   "metadata": {},
   "outputs": [],
   "source": [
    "train = ml_df[ml_df.DBL_ActualDate < '2020-09-01']\n",
    "train = train.drop(['DBL_ActualDate'], axis=1)\n",
    "\n",
    "test = ml_df[ml_df.DBL_ActualDate >= '2020-09-01']\n",
    "test = test.drop(['DBL_ActualDate'], axis=1)"
   ]
  },
  {
   "cell_type": "code",
   "execution_count": 1229,
   "id": "greatest-mixer",
   "metadata": {},
   "outputs": [],
   "source": [
    "ml_df_weeks = copy.deepcopy(ml_df)"
   ]
  },
  {
   "cell_type": "code",
   "execution_count": 1230,
   "id": "hydraulic-malpractice",
   "metadata": {},
   "outputs": [],
   "source": [
    "# Converting CloseOut from days to weeks\n",
    "def convert_to_weeks(x):\n",
    "    '''\n",
    "    Converting days (days considered as working days) to working weeks\n",
    "    '''\n",
    "    \n",
    "    days = x\n",
    "    days_in_week = 5\n",
    "    \n",
    "    weeks = int(round(days/days_in_week, 0))\n",
    "    return weeks\n",
    "\n",
    "ml_df_weeks.loc[:, 'CloseOut'] = ml_df_weeks.loc[:, 'CloseOut'].apply(lambda x: convert_to_weeks(x)) "
   ]
  },
  {
   "cell_type": "code",
   "execution_count": 1219,
   "id": "boolean-government",
   "metadata": {},
   "outputs": [
    {
     "data": {
      "text/plain": [
       "(163, 31)"
      ]
     },
     "execution_count": 1219,
     "metadata": {},
     "output_type": "execute_result"
    }
   ],
   "source": []
  },
  {
   "cell_type": "code",
   "execution_count": 1205,
   "id": "friendly-status",
   "metadata": {},
   "outputs": [],
   "source": [
    "# Predicting on the number of weeks\n",
    "train = ml_df_weeks[ml_df_weeks.DBL_ActualDate < '2020-09-01']\n",
    "train = train.drop(['DBL_ActualDate'], axis=1)\n",
    "\n",
    "test = ml_df_weeks[ml_df_weeks.DBL_ActualDate >= '2020-09-01']\n",
    "test = test.drop(['DBL_ActualDate'], axis=1)"
   ]
  },
  {
   "cell_type": "code",
   "execution_count": 1237,
   "id": "pressed-piano",
   "metadata": {},
   "outputs": [],
   "source": [
    "# Predicting on the number of weeks before COVID\n",
    "train = ml_df_weeks[ml_df_weeks.DBL_ActualDate < '2019-03-14']\n",
    "train = train.drop(['DBL_ActualDate'], axis=1)\n",
    "\n",
    "test = ml_df_weeks[(ml_df_weeks.DBL_ActualDate >= '2019-03-14') & (ml_df_weeks.DBL_ActualDate < '2020-03-15')]\n",
    "test = test.drop(['DBL_ActualDate'], axis=1)"
   ]
  },
  {
   "cell_type": "code",
   "execution_count": 1232,
   "id": "olive-locator",
   "metadata": {},
   "outputs": [
    {
     "data": {
      "text/plain": [
       "(array([15., 81., 76., 34., 24., 19., 12.,  9.,  5.,  3.]),\n",
       " array([ 0. ,  4.7,  9.4, 14.1, 18.8, 23.5, 28.2, 32.9, 37.6, 42.3, 47. ]),\n",
       " <BarContainer object of 10 artists>)"
      ]
     },
     "execution_count": 1232,
     "metadata": {},
     "output_type": "execute_result"
    },
    {
     "data": {
      "image/png": "[encoded data removed]",
      "text/plain": [
       "<Figure size 432x288 with 1 Axes>"
      ]
     },
     "metadata": {
      "needs_background": "light"
     },
     "output_type": "display_data"
    }
   ],
   "source": [
    "plt.hist(ml_df_weeks.CloseOut)"
   ]
  },
  {
   "cell_type": "code",
   "execution_count": 1236,
   "id": "concerned-rover",
   "metadata": {},
   "outputs": [
    {
     "data": {
      "text/plain": [
       "(47, 0, 11.5)"
      ]
     },
     "execution_count": 1236,
     "metadata": {},
     "output_type": "execute_result"
    }
   ],
   "source": [
    "ml_df_weeks.CloseOut.max(), ml_df_weeks.CloseOut.min(), ml_df_weeks.CloseOut.median()"
   ]
  },
  {
   "cell_type": "code",
   "execution_count": 1249,
   "id": "charged-account",
   "metadata": {},
   "outputs": [],
   "source": [
    "def get_class_labels(x):\n",
    "    \n",
    "    if x <= 6:\n",
    "        x = '<6 weeks'\n",
    "    elif (x > 6) & (x <= 9):\n",
    "        x = '7-9 weeks'\n",
    "    elif (x > 9) & (x <= 14):\n",
    "        x = '10-14 weeks'\n",
    "    elif x >= 15:\n",
    "        x = '>=15 weeks'\n",
    "    return x\n",
    "    "
   ]
  },
  {
   "cell_type": "code",
   "execution_count": 1250,
   "id": "reasonable-finland",
   "metadata": {},
   "outputs": [],
   "source": [
    "ml_df_weeks['Classes'] = ml_df_weeks.loc[:, 'CloseOut'].apply(lambda x: get_class_labels(x))"
   ]
  },
  {
   "cell_type": "code",
   "execution_count": 1251,
   "id": "exposed-spectacular",
   "metadata": {},
   "outputs": [
    {
     "data": {
      "text/plain": [
       ">=15 weeks     106\n",
       "10-14 weeks     76\n",
       "7-9 weeks       50\n",
       "<6 weeks        46\n",
       "Name: Classes, dtype: int64"
      ]
     },
     "execution_count": 1251,
     "metadata": {},
     "output_type": "execute_result"
    }
   ],
   "source": [
    "ml_df_weeks.Classes.value_counts()"
   ]
  },
  {
   "cell_type": "code",
   "execution_count": 1348,
   "id": "delayed-player",
   "metadata": {},
   "outputs": [],
   "source": [
    "def get_train_test_data(train, test):\n",
    "    '''\n",
    "    Grouping together the training/testing specifications\n",
    "    '''\n",
    "    \n",
    "    # Train data \n",
    "    y_train = train.loc[:, 'CloseOut']\n",
    "    x_train = train.loc[:, train.columns != 'CloseOut']\n",
    "\n",
    "\n",
    "    #x_train, x_test, y_train, y_test = train_test_split(X, y, test_size=0.33, random_state=2)\n",
    "\n",
    "    # Test data\n",
    "    y_test = test.loc[:, 'CloseOut']\n",
    "    x_test = test.loc[:, test.columns != 'CloseOut']\n",
    "\n",
    "\n",
    "    x_trainvalid = x_train\n",
    "    y_trainvalid = y_train\n",
    "\n",
    "    ordinal_features = x_train.columns\n",
    "    ordinal_transformer = Pipeline(steps = [\n",
    "        ('imputer', SimpleImputer(strategy='median')),\n",
    "         ('scaler', StandardScaler())\n",
    "    ])\n",
    "\n",
    "    preprocessor = ColumnTransformer(\n",
    "            [('ord', ordinal_transformer, ordinal_features)]\n",
    "    )\n",
    "\n",
    "    x_train_processed = preprocessor.fit_transform(x_train)\n",
    "    x_test_processed = preprocessor.transform(x_test)\n",
    "\n",
    "    x_trainvalid_processed = x_train_processed  \n",
    "    return x_train_processed, x_test_processed, x_trainvalid_processed, y_train, y_test, y_trainvalid\n",
    "\n",
    "\n",
    "x_train_processed, x_test_processed, x_trainvalid_processed, y_train, y_test, y_trainvalid = get_train_test_data(train, test)"
   ]
  },
  {
   "cell_type": "code",
   "execution_count": 1349,
   "id": "handmade-polyester",
   "metadata": {},
   "outputs": [],
   "source": [
    "## Modelling \n",
    "def run_ml(select_seed):\n",
    "    random.seed(select_seed)\n",
    "    n_trials = 100\n",
    "\n",
    "    lm_results = iml_od_modelling.linear_model(x_trainvalid = x_trainvalid_processed, \n",
    "                              x_test = x_test_processed, \n",
    "                              y_trainvalid = y_trainvalid, \n",
    "                              y_test = y_test)\n",
    "\n",
    "    df_linear_model = pd.DataFrame(lm_results, index=[0])\n",
    "\n",
    "    lasso_results = iml_od_modelling.linear_lasso(x_tr = x_train_processed, \n",
    "    #                                              x_val = x_valid_processed, \n",
    "                                                 x_te = x_test_processed, \n",
    "                                                 x_trval = x_trainvalid_processed, \n",
    "                                                 y_tr = y_train, \n",
    "    #                                              y_val = y_valid, \n",
    "                                                 y_te = y_test, \n",
    "                                                 y_trval= y_trainvalid, \n",
    "                                                 n_trials = n_trials)\n",
    "\n",
    "    df_lasso = pd.DataFrame(lasso_results, index = [1])\n",
    "\n",
    "    ridge_results = iml_od_modelling.linear_ridge(x_tr = x_train_processed, \n",
    "    #                                              x_val = x_valid_processed, \n",
    "                                                 x_te = x_test_processed, \n",
    "                                                 x_trval = x_trainvalid_processed, \n",
    "                                                 y_tr = y_train, \n",
    "    #                                              y_val = y_valid, \n",
    "                                                 y_te = y_test, \n",
    "                                                 y_trval = y_trainvalid, \n",
    "                                                 n_trials = n_trials)\n",
    "\n",
    "    df_ridge = pd.DataFrame(ridge_results, index = [2])\n",
    "\n",
    "    decision_tree_results = iml_od_modelling.decision_tree(x_tr = x_train_processed, \n",
    "    #                                                      x_val = x_valid_processed, \n",
    "                                                         x_te = x_test_processed, \n",
    "                                                         x_trval = x_trainvalid_processed, \n",
    "                                                         y_tr = y_train, \n",
    "    #                                                      y_val = y_valid, \n",
    "                                                         y_te = y_test, \n",
    "                                                         y_trval = y_trainvalid, \n",
    "                                                         n_trials = n_trials)\n",
    "\n",
    "    df_decision_tree = pd.DataFrame(decision_tree_results, index = [3])\n",
    "\n",
    "#     lightgbm_results = iml_od_modelling.lightgbm_model(x_tr = x_train_processed, \n",
    "#     #                                                      x_val = x_valid_processed, \n",
    "#                                                          x_te = x_test_processed, \n",
    "#                                                          x_trval = x_trainvalid_processed, \n",
    "#                                                          y_tr = y_train, \n",
    "#     #                                                      y_val = y_valid, \n",
    "#                                                          y_te = y_test, \n",
    "#                                                          y_trval = y_trainvalid, \n",
    "#                                                          n_trials = n_trials)\n",
    "\n",
    "#     df_lightgbm = pd.DataFrame(lightgbm_results, index = [4])\n",
    "\n",
    "    # poisson_regression_results = iml_od_modelling.poisson_regression(x_tr = x_train_processed, \n",
    "    # #                                                      x_val = x_valid_processed, \n",
    "    #                                                      x_te = x_test_processed, \n",
    "    #                                                      x_trval = x_trainvalid_processed, \n",
    "    #                                                      y_tr = y_train, \n",
    "    # #                                                      y_val = y_valid, \n",
    "    #                                                      y_te = y_test, \n",
    "    #                                                      y_trval = y_trainvalid, \n",
    "    #                                                      n_trials = n_trials)\n",
    "\n",
    "    # df_poisson_regression = pd.DataFrame(poisson_regression_results, index = [4])\n",
    "\n",
    "    rf_results = iml_od_modelling.rf_model(x_tr = x_train_processed, \n",
    "    #                                                      x_val = x_valid_processed, \n",
    "                                                         x_te = x_test_processed, \n",
    "                                                         x_trval = x_trainvalid_processed, \n",
    "                                                         y_tr = y_train, \n",
    "    #                                                      y_val = y_valid, \n",
    "                                                         y_te = y_test, \n",
    "                                                         y_trval = y_trainvalid, \n",
    "                                                         n_trials = n_trials)\n",
    "\n",
    "    df_random_forest = pd.DataFrame(rf_results, index = [4])\n",
    "    \n",
    "    xgb_results = iml_od_modelling.xgb_model(x_tr = x_train_processed, \n",
    "    #                                                      x_val = x_valid_processed, \n",
    "                                                         x_te = x_test_processed, \n",
    "                                                         x_trval = x_trainvalid_processed, \n",
    "                                                         y_tr = y_train, \n",
    "    #                                                      y_val = y_valid, \n",
    "                                                         y_te = y_test, \n",
    "                                                         y_trval = y_trainvalid, \n",
    "                                                         n_trials = n_trials)\n",
    "\n",
    "    df_xgb = pd.DataFrame(xgb_results, index = [5])\n",
    "\n",
    "\n",
    "    results_concat = pd.concat([df_linear_model, \n",
    "                                df_lasso, \n",
    "                                df_ridge, \n",
    "                                df_decision_tree, \n",
    "    #                             df_poisson_regression,\n",
    "#                                df_lightgbm,\n",
    "                                df_random_forest,\n",
    "                                df_xgb\n",
    "                               ])\n",
    "\n",
    "#    print(results_concat)\n",
    "\n",
    "    return results_concat"
   ]
  },
  {
   "cell_type": "code",
   "execution_count": 1350,
   "id": "spiritual-aerospace",
   "metadata": {},
   "outputs": [
    {
     "name": "stderr",
     "output_type": "stream",
     "text": [
      "\u001b[32m[I 2021-08-04 21:10:06,539]\u001b[0m A new study created in memory with name: no-name-203b08fa-695f-4b54-855b-a24f2eb99d4b\u001b[0m\n"
     ]
    },
    {
     "name": "stdout",
     "output_type": "stream",
     "text": [
      "Time for preparing linear model result:  0.0  minutes\n"
     ]
    },
    {
     "name": "stderr",
     "output_type": "stream",
     "text": [
      "\u001b[32m[I 2021-08-04 21:10:06,879]\u001b[0m Trial 0 finished with value: -2234.5578940211794 and parameters: {'lasso_alpha': 4.1702200528555196}. Best is trial 0 with value: -2234.5578940211794.\u001b[0m\n",
      "\u001b[32m[I 2021-08-04 21:10:06,888]\u001b[0m Trial 1 finished with value: -2230.3644990734515 and parameters: {'lasso_alpha': 7.203244937218336}. Best is trial 1 with value: -2230.3644990734515.\u001b[0m\n",
      "/mnt/efs/home/glc8688/.local/lib/python3.6/site-packages/sklearn/linear_model/_coordinate_descent.py:532: ConvergenceWarning: Objective did not converge. You might want to increase the number of iterations. Duality gap: 13283.25443328722, tolerance: 33.76918987341772\n",
      "  positive)\n",
      "/mnt/efs/home/glc8688/.local/lib/python3.6/site-packages/sklearn/linear_model/_coordinate_descent.py:532: ConvergenceWarning: Objective did not converge. You might want to increase the number of iterations. Duality gap: 6725.435873425449, tolerance: 35.65434430379747\n",
      "  positive)\n",
      "/mnt/efs/home/glc8688/.local/lib/python3.6/site-packages/sklearn/linear_model/_coordinate_descent.py:532: ConvergenceWarning: Objective did not converge. You might want to increase the number of iterations. Duality gap: 10375.293482898705, tolerance: 36.15652151898734\n",
      "  positive)\n",
      "\u001b[32m[I 2021-08-04 21:10:06,916]\u001b[0m Trial 2 finished with value: -5421.539052536453 and parameters: {'lasso_alpha': 0.001143758172305118}. Best is trial 1 with value: -2230.3644990734515.\u001b[0m\n",
      "\u001b[32m[I 2021-08-04 21:10:06,925]\u001b[0m Trial 3 finished with value: -2281.6757836058637 and parameters: {'lasso_alpha': 3.0233257332950716}. Best is trial 1 with value: -2230.3644990734515.\u001b[0m\n",
      "\u001b[32m[I 2021-08-04 21:10:06,935]\u001b[0m Trial 4 finished with value: -2511.3969292822203 and parameters: {'lasso_alpha': 1.4675589167035714}. Best is trial 1 with value: -2230.3644990734515.\u001b[0m\n",
      "\u001b[32m[I 2021-08-04 21:10:06,945]\u001b[0m Trial 5 finished with value: -2637.0349799645614 and parameters: {'lasso_alpha': 0.923385956764592}. Best is trial 1 with value: -2230.3644990734515.\u001b[0m\n",
      "\u001b[32m[I 2021-08-04 21:10:06,955]\u001b[0m Trial 6 finished with value: -2437.0410070744642 and parameters: {'lasso_alpha': 1.8626021219141067}. Best is trial 1 with value: -2230.3644990734515.\u001b[0m\n",
      "\u001b[32m[I 2021-08-04 21:10:06,964]\u001b[0m Trial 7 finished with value: -2251.0559166249027 and parameters: {'lasso_alpha': 3.45560727697487}. Best is trial 1 with value: -2230.3644990734515.\u001b[0m\n",
      "\u001b[32m[I 2021-08-04 21:10:06,974]\u001b[0m Trial 8 finished with value: -2238.577367638476 and parameters: {'lasso_alpha': 3.9676747483390242}. Best is trial 1 with value: -2230.3644990734515.\u001b[0m\n",
      "\u001b[32m[I 2021-08-04 21:10:06,983]\u001b[0m Trial 9 finished with value: -2230.008666544556 and parameters: {'lasso_alpha': 5.388167344645401}. Best is trial 9 with value: -2230.008666544556.\u001b[0m\n",
      "\u001b[32m[I 2021-08-04 21:10:06,992]\u001b[0m Trial 10 finished with value: -2234.139272413857 and parameters: {'lasso_alpha': 4.191945149841002}. Best is trial 9 with value: -2230.008666544556.\u001b[0m\n",
      "\u001b[32m[I 2021-08-04 21:10:07,002]\u001b[0m Trial 11 finished with value: -2229.8192493451647 and parameters: {'lasso_alpha': 6.852195007115399}. Best is trial 11 with value: -2229.8192493451647.\u001b[0m\n",
      "\u001b[32m[I 2021-08-04 21:10:07,011]\u001b[0m Trial 12 finished with value: -2404.1594652073445 and parameters: {'lasso_alpha': 2.0445225052706517}. Best is trial 11 with value: -2229.8192493451647.\u001b[0m\n",
      "\u001b[32m[I 2021-08-04 21:10:07,021]\u001b[0m Trial 13 finished with value: -2227.8769596764682 and parameters: {'lasso_alpha': 8.78117436512828}. Best is trial 13 with value: -2227.8769596764682.\u001b[0m\n",
      "\u001b[32m[I 2021-08-04 21:10:07,031]\u001b[0m Trial 14 finished with value: -2861.7491223467955 and parameters: {'lasso_alpha': 0.27387594170538565}. Best is trial 13 with value: -2227.8769596764682.\u001b[0m\n",
      "\u001b[32m[I 2021-08-04 21:10:07,041]\u001b[0m Trial 15 finished with value: -2229.9728697130136 and parameters: {'lasso_alpha': 6.704675105079347}. Best is trial 13 with value: -2227.8769596764682.\u001b[0m\n",
      "\u001b[32m[I 2021-08-04 21:10:07,050]\u001b[0m Trial 16 finished with value: -2234.503035791731 and parameters: {'lasso_alpha': 4.173048029498221}. Best is trial 13 with value: -2227.8769596764682.\u001b[0m\n",
      "\u001b[32m[I 2021-08-04 21:10:07,060]\u001b[0m Trial 17 finished with value: -2229.8067254670295 and parameters: {'lasso_alpha': 5.586898288870618}. Best is trial 13 with value: -2227.8769596764682.\u001b[0m\n",
      "\u001b[32m[I 2021-08-04 21:10:07,069]\u001b[0m Trial 18 finished with value: -2523.5637692305118 and parameters: {'lasso_alpha': 1.4038693945484682}. Best is trial 13 with value: -2227.8769596764682.\u001b[0m\n",
      "\u001b[32m[I 2021-08-04 21:10:07,079]\u001b[0m Trial 19 finished with value: -2415.320265996199 and parameters: {'lasso_alpha': 1.9810148988677727}. Best is trial 13 with value: -2227.8769596764682.\u001b[0m\n",
      "\u001b[32m[I 2021-08-04 21:10:07,088]\u001b[0m Trial 20 finished with value: -2230.647410056965 and parameters: {'lasso_alpha': 8.007445688747922}. Best is trial 13 with value: -2227.8769596764682.\u001b[0m\n",
      "\u001b[32m[I 2021-08-04 21:10:07,098]\u001b[0m Trial 21 finished with value: -2226.549074599563 and parameters: {'lasso_alpha': 9.682615757511359}. Best is trial 21 with value: -2226.549074599563.\u001b[0m\n",
      "\u001b[32m[I 2021-08-04 21:10:07,107]\u001b[0m Trial 22 finished with value: -2270.717375614729 and parameters: {'lasso_alpha': 3.134241788458186}. Best is trial 21 with value: -2226.549074599563.\u001b[0m\n",
      "\u001b[32m[I 2021-08-04 21:10:07,116]\u001b[0m Trial 23 finished with value: -2229.9051081301536 and parameters: {'lasso_alpha': 6.923226159769914}. Best is trial 21 with value: -2226.549074599563.\u001b[0m\n",
      "\u001b[32m[I 2021-08-04 21:10:07,126]\u001b[0m Trial 24 finished with value: -2227.9251384515387 and parameters: {'lasso_alpha': 8.763891524196492}. Best is trial 21 with value: -2226.549074599563.\u001b[0m\n",
      "\u001b[32m[I 2021-08-04 21:10:07,135]\u001b[0m Trial 25 finished with value: -2227.4602782174097 and parameters: {'lasso_alpha': 8.946066636092407}. Best is trial 21 with value: -2226.549074599563.\u001b[0m\n",
      "\u001b[32m[I 2021-08-04 21:10:07,145]\u001b[0m Trial 26 finished with value: -2659.561596620228 and parameters: {'lasso_alpha': 0.850442122847337}. Best is trial 21 with value: -2226.549074599563.\u001b[0m\n",
      "\u001b[32m[I 2021-08-04 21:10:07,156]\u001b[0m Trial 27 finished with value: -2816.743746421638 and parameters: {'lasso_alpha': 0.39054784193827574}. Best is trial 21 with value: -2226.549074599563.\u001b[0m\n",
      "\u001b[32m[I 2021-08-04 21:10:07,165]\u001b[0m Trial 28 finished with value: -2468.837832285523 and parameters: {'lasso_alpha': 1.6983042039473846}. Best is trial 21 with value: -2226.549074599563.\u001b[0m\n",
      "\u001b[32m[I 2021-08-04 21:10:07,175]\u001b[0m Trial 29 finished with value: -2227.8762671803147 and parameters: {'lasso_alpha': 8.781425035512706}. Best is trial 21 with value: -2226.549074599563.\u001b[0m\n",
      "\u001b[32m[I 2021-08-04 21:10:07,185]\u001b[0m Trial 30 finished with value: -2619.0663678014575 and parameters: {'lasso_alpha': 0.9834683473470326}. Best is trial 21 with value: -2226.549074599563.\u001b[0m\n",
      "\u001b[32m[I 2021-08-04 21:10:07,194]\u001b[0m Trial 31 finished with value: -2233.7826100131238 and parameters: {'lasso_alpha': 4.211076255839445}. Best is trial 21 with value: -2226.549074599563.\u001b[0m\n",
      "\u001b[32m[I 2021-08-04 21:10:07,204]\u001b[0m Trial 32 finished with value: -2226.583469851761 and parameters: {'lasso_alpha': 9.578895301926124}. Best is trial 21 with value: -2226.549074599563.\u001b[0m\n",
      "\u001b[32m[I 2021-08-04 21:10:07,213]\u001b[0m Trial 33 finished with value: -2230.1206155022896 and parameters: {'lasso_alpha': 5.331652854398517}. Best is trial 21 with value: -2226.549074599563.\u001b[0m\n",
      "\u001b[32m[I 2021-08-04 21:10:07,223]\u001b[0m Trial 34 finished with value: -2229.8931528844737 and parameters: {'lasso_alpha': 6.918771142585962}. Best is trial 21 with value: -2226.549074599563.\u001b[0m\n",
      "\u001b[32m[I 2021-08-04 21:10:07,232]\u001b[0m Trial 35 finished with value: -2268.785364961767 and parameters: {'lasso_alpha': 3.155156316905473}. Best is trial 21 with value: -2226.549074599563.\u001b[0m\n",
      "\u001b[32m[I 2021-08-04 21:10:07,242]\u001b[0m Trial 36 finished with value: -2229.81153504716 and parameters: {'lasso_alpha': 6.865009279950827}. Best is trial 21 with value: -2226.549074599563.\u001b[0m\n",
      "\u001b[32m[I 2021-08-04 21:10:07,251]\u001b[0m Trial 37 finished with value: -2229.3492673261394 and parameters: {'lasso_alpha': 8.346256720627473}. Best is trial 21 with value: -2226.549074599563.\u001b[0m\n",
      "\u001b[32m[I 2021-08-04 21:10:07,262]\u001b[0m Trial 38 finished with value: -2885.76688307376 and parameters: {'lasso_alpha': 0.18288278325903526}. Best is trial 21 with value: -2226.549074599563.\u001b[0m\n",
      "\u001b[32m[I 2021-08-04 21:10:07,272]\u001b[0m Trial 39 finished with value: -2230.461011843122 and parameters: {'lasso_alpha': 7.501443151948231}. Best is trial 21 with value: -2226.549074599563.\u001b[0m\n",
      "\u001b[32m[I 2021-08-04 21:10:07,281]\u001b[0m Trial 40 finished with value: -2226.5720544068386 and parameters: {'lasso_alpha': 9.888610889176336}. Best is trial 21 with value: -2226.549074599563.\u001b[0m\n",
      "\u001b[32m[I 2021-08-04 21:10:07,291]\u001b[0m Trial 41 finished with value: -2230.4414330957957 and parameters: {'lasso_alpha': 7.481656546316737}. Best is trial 21 with value: -2226.549074599563.\u001b[0m\n",
      "\u001b[32m[I 2021-08-04 21:10:07,300]\u001b[0m Trial 42 finished with value: -2304.221363367345 and parameters: {'lasso_alpha': 2.8044399278396117}. Best is trial 21 with value: -2226.549074599563.\u001b[0m\n",
      "\u001b[32m[I 2021-08-04 21:10:07,310]\u001b[0m Trial 43 finished with value: -2230.5645422212942 and parameters: {'lasso_alpha': 7.892793286622092}. Best is trial 21 with value: -2226.549074599563.\u001b[0m\n",
      "\u001b[32m[I 2021-08-04 21:10:07,320]\u001b[0m Trial 44 finished with value: -2604.8817122870473 and parameters: {'lasso_alpha': 1.0322600747441601}. Best is trial 21 with value: -2226.549074599563.\u001b[0m\n",
      "\u001b[32m[I 2021-08-04 21:10:07,329]\u001b[0m Trial 45 finished with value: -2231.7627063085824 and parameters: {'lasso_alpha': 4.478935267280116}. Best is trial 21 with value: -2226.549074599563.\u001b[0m\n",
      "\u001b[32m[I 2021-08-04 21:10:07,339]\u001b[0m Trial 46 finished with value: -2227.167787897223 and parameters: {'lasso_alpha': 9.085955031845}. Best is trial 21 with value: -2226.549074599563.\u001b[0m\n",
      "\u001b[32m[I 2021-08-04 21:10:07,349]\u001b[0m Trial 47 finished with value: -2290.790386513551 and parameters: {'lasso_alpha': 2.936141490800653}. Best is trial 21 with value: -2226.549074599563.\u001b[0m\n",
      "\u001b[32m[I 2021-08-04 21:10:07,359]\u001b[0m Trial 48 finished with value: -2296.6929107716646 and parameters: {'lasso_alpha': 2.8777533929857335}. Best is trial 21 with value: -2226.549074599563.\u001b[0m\n",
      "\u001b[32m[I 2021-08-04 21:10:07,369]\u001b[0m Trial 49 finished with value: -2543.598975082666 and parameters: {'lasso_alpha': 1.3002857298824908}. Best is trial 21 with value: -2226.549074599563.\u001b[0m\n",
      "\u001b[32m[I 2021-08-04 21:10:07,380]\u001b[0m Trial 50 finished with value: -2881.2542672708005 and parameters: {'lasso_alpha': 0.19366958850930113}. Best is trial 21 with value: -2226.549074599563.\u001b[0m\n",
      "\u001b[32m[I 2021-08-04 21:10:07,389]\u001b[0m Trial 51 finished with value: -2229.8710906228225 and parameters: {'lasso_alpha': 6.7883553326105535}. Best is trial 21 with value: -2226.549074599563.\u001b[0m\n",
      "\u001b[32m[I 2021-08-04 21:10:07,401]\u001b[0m Trial 52 finished with value: -2392.8660292956315 and parameters: {'lasso_alpha': 2.116281167884309}. Best is trial 21 with value: -2226.549074599563.\u001b[0m\n",
      "\u001b[32m[I 2021-08-04 21:10:07,413]\u001b[0m Trial 53 finished with value: -2320.7598186771356 and parameters: {'lasso_alpha': 2.655466601066795}. Best is trial 21 with value: -2226.549074599563.\u001b[0m\n",
      "\u001b[32m[I 2021-08-04 21:10:07,424]\u001b[0m Trial 54 finished with value: -2230.8856424234336 and parameters: {'lasso_alpha': 4.915731597887651}. Best is trial 21 with value: -2226.549074599563.\u001b[0m\n",
      "\u001b[32m[I 2021-08-04 21:10:07,435]\u001b[0m Trial 55 finished with value: -2764.2395807257285 and parameters: {'lasso_alpha': 0.5336254606371784}. Best is trial 21 with value: -2226.549074599563.\u001b[0m\n",
      "\u001b[32m[I 2021-08-04 21:10:07,446]\u001b[0m Trial 56 finished with value: -2229.8478821001877 and parameters: {'lasso_alpha': 5.7411760591789545}. Best is trial 21 with value: -2226.549074599563.\u001b[0m\n",
      "\u001b[32m[I 2021-08-04 21:10:07,457]\u001b[0m Trial 57 finished with value: -2511.4485566229096 and parameters: {'lasso_alpha': 1.4672857575908156}. Best is trial 21 with value: -2226.549074599563.\u001b[0m\n",
      "\u001b[32m[I 2021-08-04 21:10:07,469]\u001b[0m Trial 58 finished with value: -2229.916149689136 and parameters: {'lasso_alpha': 5.893055373139786}. Best is trial 21 with value: -2226.549074599563.\u001b[0m\n",
      "\u001b[32m[I 2021-08-04 21:10:07,480]\u001b[0m Trial 59 finished with value: -2230.1176115055187 and parameters: {'lasso_alpha': 6.997583603211727}. Best is trial 21 with value: -2226.549074599563.\u001b[0m\n",
      "\u001b[32m[I 2021-08-04 21:10:07,493]\u001b[0m Trial 60 finished with value: -2607.4578059255996 and parameters: {'lasso_alpha': 1.023344297254914}. Best is trial 21 with value: -2226.549074599563.\u001b[0m\n",
      "\u001b[32m[I 2021-08-04 21:10:07,504]\u001b[0m Trial 61 finished with value: -2235.139866087507 and parameters: {'lasso_alpha': 4.140559884055123}. Best is trial 21 with value: -2226.549074599563.\u001b[0m\n",
      "\u001b[32m[I 2021-08-04 21:10:07,514]\u001b[0m Trial 62 finished with value: -2229.9620192957677 and parameters: {'lasso_alpha': 6.944001580333449}. Best is trial 21 with value: -2226.549074599563.\u001b[0m\n",
      "\u001b[32m[I 2021-08-04 21:10:07,525]\u001b[0m Trial 63 finished with value: -2235.1154366772334 and parameters: {'lasso_alpha': 4.141792701127233}. Best is trial 21 with value: -2226.549074599563.\u001b[0m\n",
      "\u001b[32m[I 2021-08-04 21:10:07,536]\u001b[0m Trial 64 finished with value: -2776.4595900629224 and parameters: {'lasso_alpha': 0.49953459896133695}. Best is trial 21 with value: -2226.549074599563.\u001b[0m\n",
      "\u001b[32m[I 2021-08-04 21:10:07,545]\u001b[0m Trial 65 finished with value: -2230.0635047059427 and parameters: {'lasso_alpha': 5.358964063796151}. Best is trial 21 with value: -2226.549074599563.\u001b[0m\n",
      "\u001b[32m[I 2021-08-04 21:10:07,554]\u001b[0m Trial 66 finished with value: -2230.0815144713756 and parameters: {'lasso_alpha': 6.637946455559941}. Best is trial 21 with value: -2226.549074599563.\u001b[0m\n",
      "\u001b[32m[I 2021-08-04 21:10:07,564]\u001b[0m Trial 67 finished with value: -2230.483366985792 and parameters: {'lasso_alpha': 5.148891125434194}. Best is trial 21 with value: -2226.549074599563.\u001b[0m\n",
      "\u001b[32m[I 2021-08-04 21:10:07,573]\u001b[0m Trial 68 finished with value: -2226.672579661668 and parameters: {'lasso_alpha': 9.445947560462185}. Best is trial 21 with value: -2226.549074599563.\u001b[0m\n",
      "\u001b[32m[I 2021-08-04 21:10:07,583]\u001b[0m Trial 69 finished with value: -2229.8912614729934 and parameters: {'lasso_alpha': 5.865550409154379}. Best is trial 21 with value: -2226.549074599563.\u001b[0m\n",
      "\u001b[32m[I 2021-08-04 21:10:07,592]\u001b[0m Trial 70 finished with value: -2227.269843594709 and parameters: {'lasso_alpha': 9.034019153844817}. Best is trial 21 with value: -2226.549074599563.\u001b[0m\n",
      "\u001b[32m[I 2021-08-04 21:10:07,602]\u001b[0m Trial 71 finished with value: -2529.196124315239 and parameters: {'lasso_alpha': 1.374747050087628}. Best is trial 21 with value: -2226.549074599563.\u001b[0m\n",
      "\u001b[32m[I 2021-08-04 21:10:07,612]\u001b[0m Trial 72 finished with value: -2525.713910120617 and parameters: {'lasso_alpha': 1.3927634811148217}. Best is trial 21 with value: -2226.549074599563.\u001b[0m\n",
      "\u001b[32m[I 2021-08-04 21:10:07,621]\u001b[0m Trial 73 finished with value: -2230.722525552892 and parameters: {'lasso_alpha': 8.073912889021326}. Best is trial 21 with value: -2226.549074599563.\u001b[0m\n",
      "\u001b[32m[I 2021-08-04 21:10:07,631]\u001b[0m Trial 74 finished with value: -2238.3986738263548 and parameters: {'lasso_alpha': 3.976768375878567}. Best is trial 21 with value: -2226.549074599563.\u001b[0m\n",
      "\u001b[32m[I 2021-08-04 21:10:07,641]\u001b[0m Trial 75 finished with value: -2477.5143258888734 and parameters: {'lasso_alpha': 1.6535419795157855}. Best is trial 21 with value: -2226.549074599563.\u001b[0m\n",
      "\u001b[32m[I 2021-08-04 21:10:07,650]\u001b[0m Trial 76 finished with value: -2226.8613786518913 and parameters: {'lasso_alpha': 9.275085804685252}. Best is trial 21 with value: -2226.549074599563.\u001b[0m\n",
      "\u001b[32m[I 2021-08-04 21:10:07,660]\u001b[0m Trial 77 finished with value: -2250.416444807197 and parameters: {'lasso_alpha': 3.4776586039774067}. Best is trial 21 with value: -2226.549074599563.\u001b[0m\n",
      "\u001b[32m[I 2021-08-04 21:10:07,669]\u001b[0m Trial 78 finished with value: -2230.468042282739 and parameters: {'lasso_alpha': 7.508121033853434}. Best is trial 21 with value: -2226.549074599563.\u001b[0m\n",
      "\u001b[32m[I 2021-08-04 21:10:07,678]\u001b[0m Trial 79 finished with value: -2230.3500903904614 and parameters: {'lasso_alpha': 7.259979856244534}. Best is trial 21 with value: -2226.549074599563.\u001b[0m\n",
      "\u001b[32m[I 2021-08-04 21:10:07,688]\u001b[0m Trial 80 finished with value: -2227.737452770332 and parameters: {'lasso_alpha': 8.833060913225037}. Best is trial 21 with value: -2226.549074599563.\u001b[0m\n",
      "\u001b[32m[I 2021-08-04 21:10:07,697]\u001b[0m Trial 81 finished with value: -2230.942879519774 and parameters: {'lasso_alpha': 6.236722074319366}. Best is trial 21 with value: -2226.549074599563.\u001b[0m\n",
      "\u001b[32m[I 2021-08-04 21:10:07,707]\u001b[0m Trial 82 finished with value: -2230.4694392798538 and parameters: {'lasso_alpha': 7.509424342763947}. Best is trial 21 with value: -2226.549074599563.\u001b[0m\n",
      "\u001b[32m[I 2021-08-04 21:10:07,716]\u001b[0m Trial 83 finished with value: -2250.0928857575586 and parameters: {'lasso_alpha': 3.4889834262894417}. Best is trial 21 with value: -2226.549074599563.\u001b[0m\n",
      "\u001b[32m[I 2021-08-04 21:10:07,726]\u001b[0m Trial 84 finished with value: -2315.758145480034 and parameters: {'lasso_alpha': 2.6992789249509817}. Best is trial 21 with value: -2226.549074599563.\u001b[0m\n",
      "\u001b[32m[I 2021-08-04 21:10:07,735]\u001b[0m Trial 85 finished with value: -2227.4311972698897 and parameters: {'lasso_alpha': 8.958862183001806}. Best is trial 21 with value: -2226.549074599563.\u001b[0m\n",
      "\u001b[32m[I 2021-08-04 21:10:07,744]\u001b[0m Trial 86 finished with value: -2232.9875394885025 and parameters: {'lasso_alpha': 4.2809119044320365}. Best is trial 21 with value: -2226.549074599563.\u001b[0m\n",
      "\u001b[32m[I 2021-08-04 21:10:07,754]\u001b[0m Trial 87 finished with value: -2226.557018035226 and parameters: {'lasso_alpha': 9.648400471835455}. Best is trial 21 with value: -2226.549074599563.\u001b[0m\n",
      "\u001b[32m[I 2021-08-04 21:10:07,763]\u001b[0m Trial 88 finished with value: -2230.0879408018222 and parameters: {'lasso_alpha': 6.634414981550065}. Best is trial 21 with value: -2226.549074599563.\u001b[0m\n",
      "\u001b[32m[I 2021-08-04 21:10:07,773]\u001b[0m Trial 89 finished with value: -2230.9564978146404 and parameters: {'lasso_alpha': 6.21695720587426}. Best is trial 21 with value: -2226.549074599563.\u001b[0m\n",
      "\u001b[32m[I 2021-08-04 21:10:07,782]\u001b[0m Trial 90 finished with value: -2574.1875001035755 and parameters: {'lasso_alpha': 1.147459738386292}. Best is trial 21 with value: -2226.549074599563.\u001b[0m\n",
      "\u001b[32m[I 2021-08-04 21:10:07,792]\u001b[0m Trial 91 finished with value: -2226.6338905328253 and parameters: {'lasso_alpha': 9.49489258757582}. Best is trial 21 with value: -2226.549074599563.\u001b[0m\n",
      "\u001b[32m[I 2021-08-04 21:10:07,801]\u001b[0m Trial 92 finished with value: -2231.6500912720853 and parameters: {'lasso_alpha': 4.499121340300284}. Best is trial 21 with value: -2226.549074599563.\u001b[0m\n",
      "\u001b[32m[I 2021-08-04 21:10:07,810]\u001b[0m Trial 93 finished with value: -2229.850004551777 and parameters: {'lasso_alpha': 5.783896148087421}. Best is trial 21 with value: -2226.549074599563.\u001b[0m\n",
      "\u001b[32m[I 2021-08-04 21:10:07,820]\u001b[0m Trial 94 finished with value: -2236.3371484166223 and parameters: {'lasso_alpha': 4.081368033531443}. Best is trial 21 with value: -2226.549074599563.\u001b[0m\n",
      "\u001b[32m[I 2021-08-04 21:10:07,829]\u001b[0m Trial 95 finished with value: -2356.564759906529 and parameters: {'lasso_alpha': 2.370269810060007}. Best is trial 21 with value: -2226.549074599563.\u001b[0m\n",
      "\u001b[32m[I 2021-08-04 21:10:07,839]\u001b[0m Trial 96 finished with value: -2227.2703003727243 and parameters: {'lasso_alpha': 9.033795206588742}. Best is trial 21 with value: -2226.549074599563.\u001b[0m\n",
      "\u001b[32m[I 2021-08-04 21:10:07,848]\u001b[0m Trial 97 finished with value: -2229.8484203216944 and parameters: {'lasso_alpha': 5.736794870986063}. Best is trial 21 with value: -2226.549074599563.\u001b[0m\n",
      "/mnt/efs/home/glc8688/.local/lib/python3.6/site-packages/sklearn/linear_model/_coordinate_descent.py:532: ConvergenceWarning: Objective did not converge. You might want to increase the number of iterations. Duality gap: 3852.2311765284976, tolerance: 36.15652151898734\n",
      "  positive)\n",
      "\u001b[32m[I 2021-08-04 21:10:07,868]\u001b[0m Trial 98 finished with value: -4073.983622823085 and parameters: {'lasso_alpha': 0.02870328028288643}. Best is trial 21 with value: -2226.549074599563.\u001b[0m\n",
      "\u001b[32m[I 2021-08-04 21:10:07,877]\u001b[0m Trial 99 finished with value: -2230.82618985665 and parameters: {'lasso_alpha': 6.171449140035789}. Best is trial 21 with value: -2226.549074599563.\u001b[0m\n",
      "\u001b[32m[I 2021-08-04 21:10:07,885]\u001b[0m A new study created in memory with name: no-name-06b229e6-3dbc-49fc-81e4-70fc0b334251\u001b[0m\n",
      "\u001b[32m[I 2021-08-04 21:10:07,900]\u001b[0m Trial 0 finished with value: -2949.1756697307014 and parameters: {'ridge_alpha': 4.1702200528555196}. Best is trial 0 with value: -2949.1756697307014.\u001b[0m\n",
      "\u001b[32m[I 2021-08-04 21:10:07,910]\u001b[0m Trial 1 finished with value: -2859.4895505385734 and parameters: {'ridge_alpha': 7.203244937218336}. Best is trial 1 with value: -2859.4895505385734.\u001b[0m\n",
      "\u001b[32m[I 2021-08-04 21:10:07,920]\u001b[0m Trial 2 finished with value: -5475.018074194086 and parameters: {'ridge_alpha': 0.001143758172305118}. Best is trial 1 with value: -2859.4895505385734.\u001b[0m\n",
      "\u001b[32m[I 2021-08-04 21:10:07,930]\u001b[0m Trial 3 finished with value: -3004.2315606515817 and parameters: {'ridge_alpha': 3.0233257332950716}. Best is trial 1 with value: -2859.4895505385734.\u001b[0m\n",
      "\u001b[32m[I 2021-08-04 21:10:07,940]\u001b[0m Trial 4 finished with value: -3154.074372165269 and parameters: {'ridge_alpha': 1.4675589167035714}. Best is trial 1 with value: -2859.4895505385734.\u001b[0m\n",
      "\u001b[32m[I 2021-08-04 21:10:07,949]\u001b[0m Trial 5 finished with value: -3290.424187928977 and parameters: {'ridge_alpha': 0.923385956764592}. Best is trial 1 with value: -2859.4895505385734.\u001b[0m\n",
      "\u001b[32m[I 2021-08-04 21:10:07,960]\u001b[0m Trial 6 finished with value: -3098.57533808805 and parameters: {'ridge_alpha': 1.8626021219141067}. Best is trial 1 with value: -2859.4895505385734.\u001b[0m\n",
      "\u001b[32m[I 2021-08-04 21:10:07,970]\u001b[0m Trial 7 finished with value: -2980.9012725058187 and parameters: {'ridge_alpha': 3.45560727697487}. Best is trial 1 with value: -2859.4895505385734.\u001b[0m\n",
      "\u001b[32m[I 2021-08-04 21:10:07,979]\u001b[0m Trial 8 finished with value: -2957.4831639055246 and parameters: {'ridge_alpha': 3.9676747483390242}. Best is trial 1 with value: -2859.4895505385734.\u001b[0m\n",
      "\u001b[32m[I 2021-08-04 21:10:07,988]\u001b[0m Trial 9 finished with value: -2907.049619300986 and parameters: {'ridge_alpha': 5.388167344645401}. Best is trial 1 with value: -2859.4895505385734.\u001b[0m\n",
      "\u001b[32m[I 2021-08-04 21:10:07,998]\u001b[0m Trial 10 finished with value: -2948.3118861427806 and parameters: {'ridge_alpha': 4.191945149841002}. Best is trial 1 with value: -2859.4895505385734.\u001b[0m\n",
      "\u001b[32m[I 2021-08-04 21:10:08,006]\u001b[0m Trial 11 finished with value: -2867.7246633195587 and parameters: {'ridge_alpha': 6.852195007115399}. Best is trial 1 with value: -2859.4895505385734.\u001b[0m\n",
      "\u001b[32m[I 2021-08-04 21:10:08,015]\u001b[0m Trial 12 finished with value: -3078.820556752556 and parameters: {'ridge_alpha': 2.0445225052706517}. Best is trial 1 with value: -2859.4895505385734.\u001b[0m\n",
      "\u001b[32m[I 2021-08-04 21:10:08,025]\u001b[0m Trial 13 finished with value: -2826.409601772079 and parameters: {'ridge_alpha': 8.78117436512828}. Best is trial 13 with value: -2826.409601772079.\u001b[0m\n",
      "\u001b[32m[I 2021-08-04 21:10:08,034]\u001b[0m Trial 14 finished with value: -3915.424835199836 and parameters: {'ridge_alpha': 0.27387594170538565}. Best is trial 13 with value: -2826.409601772079.\u001b[0m\n",
      "\u001b[32m[I 2021-08-04 21:10:08,042]\u001b[0m Trial 15 finished with value: -2871.302013633518 and parameters: {'ridge_alpha': 6.704675105079347}. Best is trial 13 with value: -2826.409601772079.\u001b[0m\n",
      "\u001b[32m[I 2021-08-04 21:10:08,052]\u001b[0m Trial 16 finished with value: -2949.0629434735783 and parameters: {'ridge_alpha': 4.173048029498221}. Best is trial 13 with value: -2826.409601772079.\u001b[0m\n",
      "\u001b[32m[I 2021-08-04 21:10:08,061]\u001b[0m Trial 17 finished with value: -2901.1360233221044 and parameters: {'ridge_alpha': 5.586898288870618}. Best is trial 13 with value: -2826.409601772079.\u001b[0m\n",
      "\u001b[32m[I 2021-08-04 21:10:08,069]\u001b[0m Trial 18 finished with value: -3165.3337954704616 and parameters: {'ridge_alpha': 1.4038693945484682}. Best is trial 13 with value: -2826.409601772079.\u001b[0m\n",
      "\u001b[32m[I 2021-08-04 21:10:08,078]\u001b[0m Trial 19 finished with value: -3085.4040011413526 and parameters: {'ridge_alpha': 1.9810148988677727}. Best is trial 13 with value: -2826.409601772079.\u001b[0m\n"
     ]
    },
    {
     "name": "stdout",
     "output_type": "stream",
     "text": [
      "Time for preparing Lasso result:  0.02  minutes\n"
     ]
    },
    {
     "name": "stderr",
     "output_type": "stream",
     "text": [
      "\u001b[32m[I 2021-08-04 21:10:08,088]\u001b[0m Trial 20 finished with value: -2841.912782009858 and parameters: {'ridge_alpha': 8.007445688747922}. Best is trial 13 with value: -2826.409601772079.\u001b[0m\n",
      "\u001b[32m[I 2021-08-04 21:10:08,097]\u001b[0m Trial 21 finished with value: -2809.752356439572 and parameters: {'ridge_alpha': 9.682615757511359}. Best is trial 21 with value: -2809.752356439572.\u001b[0m\n",
      "\u001b[32m[I 2021-08-04 21:10:08,106]\u001b[0m Trial 22 finished with value: -2997.862316219369 and parameters: {'ridge_alpha': 3.134241788458186}. Best is trial 21 with value: -2809.752356439572.\u001b[0m\n",
      "\u001b[32m[I 2021-08-04 21:10:08,115]\u001b[0m Trial 23 finished with value: -2866.027564506519 and parameters: {'ridge_alpha': 6.923226159769914}. Best is trial 21 with value: -2809.752356439572.\u001b[0m\n",
      "\u001b[32m[I 2021-08-04 21:10:08,123]\u001b[0m Trial 24 finished with value: -2826.742823542719 and parameters: {'ridge_alpha': 8.763891524196492}. Best is trial 21 with value: -2809.752356439572.\u001b[0m\n",
      "\u001b[32m[I 2021-08-04 21:10:08,132]\u001b[0m Trial 25 finished with value: -2823.258146624446 and parameters: {'ridge_alpha': 8.946066636092407}. Best is trial 21 with value: -2809.752356439572.\u001b[0m\n",
      "\u001b[32m[I 2021-08-04 21:10:08,141]\u001b[0m Trial 26 finished with value: -3319.710852597678 and parameters: {'ridge_alpha': 0.850442122847337}. Best is trial 21 with value: -2809.752356439572.\u001b[0m\n",
      "\u001b[32m[I 2021-08-04 21:10:08,150]\u001b[0m Trial 27 finished with value: -3691.720258282044 and parameters: {'ridge_alpha': 0.39054784193827574}. Best is trial 21 with value: -2809.752356439572.\u001b[0m\n",
      "\u001b[32m[I 2021-08-04 21:10:08,159]\u001b[0m Trial 28 finished with value: -3119.1549829703054 and parameters: {'ridge_alpha': 1.6983042039473846}. Best is trial 21 with value: -2809.752356439572.\u001b[0m\n",
      "\u001b[32m[I 2021-08-04 21:10:08,168]\u001b[0m Trial 29 finished with value: -2826.404772836828 and parameters: {'ridge_alpha': 8.781425035512706}. Best is trial 21 with value: -2809.752356439572.\u001b[0m\n",
      "\u001b[32m[I 2021-08-04 21:10:08,177]\u001b[0m Trial 30 finished with value: -3269.1383444102516 and parameters: {'ridge_alpha': 0.9834683473470326}. Best is trial 21 with value: -2809.752356439572.\u001b[0m\n",
      "\u001b[32m[I 2021-08-04 21:10:08,186]\u001b[0m Trial 31 finished with value: -2947.555400433255 and parameters: {'ridge_alpha': 4.211076255839445}. Best is trial 21 with value: -2809.752356439572.\u001b[0m\n",
      "\u001b[32m[I 2021-08-04 21:10:08,195]\u001b[0m Trial 32 finished with value: -2811.6011030769005 and parameters: {'ridge_alpha': 9.578895301926124}. Best is trial 21 with value: -2809.752356439572.\u001b[0m\n",
      "\u001b[32m[I 2021-08-04 21:10:08,204]\u001b[0m Trial 33 finished with value: -2908.771689214515 and parameters: {'ridge_alpha': 5.331652854398517}. Best is trial 21 with value: -2809.752356439572.\u001b[0m\n",
      "\u001b[32m[I 2021-08-04 21:10:08,213]\u001b[0m Trial 34 finished with value: -2866.1335313531586 and parameters: {'ridge_alpha': 6.918771142585962}. Best is trial 21 with value: -2809.752356439572.\u001b[0m\n",
      "\u001b[32m[I 2021-08-04 21:10:08,222]\u001b[0m Trial 35 finished with value: -2996.6934598187304 and parameters: {'ridge_alpha': 3.155156316905473}. Best is trial 21 with value: -2809.752356439572.\u001b[0m\n",
      "\u001b[32m[I 2021-08-04 21:10:08,231]\u001b[0m Trial 36 finished with value: -2867.4173017315384 and parameters: {'ridge_alpha': 6.865009279950827}. Best is trial 21 with value: -2809.752356439572.\u001b[0m\n",
      "\u001b[32m[I 2021-08-04 21:10:08,240]\u001b[0m Trial 37 finished with value: -2834.97136474679 and parameters: {'ridge_alpha': 8.346256720627473}. Best is trial 21 with value: -2809.752356439572.\u001b[0m\n",
      "\u001b[32m[I 2021-08-04 21:10:08,249]\u001b[0m Trial 38 finished with value: -4191.97082238327 and parameters: {'ridge_alpha': 0.18288278325903526}. Best is trial 21 with value: -2809.752356439572.\u001b[0m\n",
      "\u001b[32m[I 2021-08-04 21:10:08,258]\u001b[0m Trial 39 finished with value: -2852.776447000561 and parameters: {'ridge_alpha': 7.501443151948231}. Best is trial 21 with value: -2809.752356439572.\u001b[0m\n",
      "\u001b[32m[I 2021-08-04 21:10:08,267]\u001b[0m Trial 40 finished with value: -2806.1288077815443 and parameters: {'ridge_alpha': 9.888610889176336}. Best is trial 40 with value: -2806.1288077815443.\u001b[0m\n",
      "\u001b[32m[I 2021-08-04 21:10:08,276]\u001b[0m Trial 41 finished with value: -2853.2143713338305 and parameters: {'ridge_alpha': 7.481656546316737}. Best is trial 40 with value: -2806.1288077815443.\u001b[0m\n",
      "\u001b[32m[I 2021-08-04 21:10:08,285]\u001b[0m Trial 42 finished with value: -3017.7360289593125 and parameters: {'ridge_alpha': 2.8044399278396117}. Best is trial 40 with value: -2806.1288077815443.\u001b[0m\n",
      "\u001b[32m[I 2021-08-04 21:10:08,294]\u001b[0m Trial 43 finished with value: -2844.3199612768026 and parameters: {'ridge_alpha': 7.892793286622092}. Best is trial 40 with value: -2806.1288077815443.\u001b[0m\n",
      "\u001b[32m[I 2021-08-04 21:10:08,303]\u001b[0m Trial 44 finished with value: -3253.4341265836006 and parameters: {'ridge_alpha': 1.0322600747441601}. Best is trial 40 with value: -2806.1288077815443.\u001b[0m\n",
      "\u001b[32m[I 2021-08-04 21:10:08,312]\u001b[0m Trial 45 finished with value: -2937.3489959408053 and parameters: {'ridge_alpha': 4.478935267280116}. Best is trial 40 with value: -2806.1288077815443.\u001b[0m\n",
      "\u001b[32m[I 2021-08-04 21:10:08,321]\u001b[0m Trial 46 finished with value: -2820.6229561369296 and parameters: {'ridge_alpha': 9.085955031845}. Best is trial 40 with value: -2806.1288077815443.\u001b[0m\n",
      "\u001b[32m[I 2021-08-04 21:10:08,330]\u001b[0m Trial 47 finished with value: -3009.4527460229306 and parameters: {'ridge_alpha': 2.936141490800653}. Best is trial 40 with value: -2806.1288077815443.\u001b[0m\n",
      "\u001b[32m[I 2021-08-04 21:10:08,339]\u001b[0m Trial 48 finished with value: -3013.0635254496005 and parameters: {'ridge_alpha': 2.8777533929857335}. Best is trial 40 with value: -2806.1288077815443.\u001b[0m\n",
      "\u001b[32m[I 2021-08-04 21:10:08,348]\u001b[0m Trial 49 finished with value: -3185.5779017627196 and parameters: {'ridge_alpha': 1.3002857298824908}. Best is trial 40 with value: -2806.1288077815443.\u001b[0m\n",
      "\u001b[32m[I 2021-08-04 21:10:08,357]\u001b[0m Trial 50 finished with value: -4152.218868131688 and parameters: {'ridge_alpha': 0.19366958850930113}. Best is trial 40 with value: -2806.1288077815443.\u001b[0m\n",
      "\u001b[32m[I 2021-08-04 21:10:08,366]\u001b[0m Trial 51 finished with value: -2869.263897671881 and parameters: {'ridge_alpha': 6.7883553326105535}. Best is trial 40 with value: -2806.1288077815443.\u001b[0m\n",
      "\u001b[32m[I 2021-08-04 21:10:08,374]\u001b[0m Trial 52 finished with value: -3071.7396592283926 and parameters: {'ridge_alpha': 2.116281167884309}. Best is trial 40 with value: -2806.1288077815443.\u001b[0m\n",
      "\u001b[32m[I 2021-08-04 21:10:08,383]\u001b[0m Trial 53 finished with value: -3027.7517611893386 and parameters: {'ridge_alpha': 2.655466601066795}. Best is trial 40 with value: -2806.1288077815443.\u001b[0m\n",
      "\u001b[32m[I 2021-08-04 21:10:08,392]\u001b[0m Trial 54 finished with value: -2922.055189051725 and parameters: {'ridge_alpha': 4.915731597887651}. Best is trial 40 with value: -2806.1288077815443.\u001b[0m\n",
      "\u001b[32m[I 2021-08-04 21:10:08,401]\u001b[0m Trial 55 finished with value: -3521.210270732314 and parameters: {'ridge_alpha': 0.5336254606371784}. Best is trial 40 with value: -2806.1288077815443.\u001b[0m\n",
      "\u001b[32m[I 2021-08-04 21:10:08,410]\u001b[0m Trial 56 finished with value: -2896.6888750406 and parameters: {'ridge_alpha': 5.7411760591789545}. Best is trial 40 with value: -2806.1288077815443.\u001b[0m\n",
      "\u001b[32m[I 2021-08-04 21:10:08,419]\u001b[0m Trial 57 finished with value: -3154.1209409095486 and parameters: {'ridge_alpha': 1.4672857575908156}. Best is trial 40 with value: -2806.1288077815443.\u001b[0m\n",
      "\u001b[32m[I 2021-08-04 21:10:08,428]\u001b[0m Trial 58 finished with value: -2892.4250696811964 and parameters: {'ridge_alpha': 5.893055373139786}. Best is trial 40 with value: -2806.1288077815443.\u001b[0m\n",
      "\u001b[32m[I 2021-08-04 21:10:08,437]\u001b[0m Trial 59 finished with value: -2864.268115048346 and parameters: {'ridge_alpha': 6.997583603211727}. Best is trial 40 with value: -2806.1288077815443.\u001b[0m\n",
      "\u001b[32m[I 2021-08-04 21:10:08,446]\u001b[0m Trial 60 finished with value: -3256.2074222424812 and parameters: {'ridge_alpha': 1.023344297254914}. Best is trial 40 with value: -2806.1288077815443.\u001b[0m\n",
      "\u001b[32m[I 2021-08-04 21:10:08,455]\u001b[0m Trial 61 finished with value: -2950.363180873867 and parameters: {'ridge_alpha': 4.140559884055123}. Best is trial 40 with value: -2806.1288077815443.\u001b[0m\n",
      "\u001b[32m[I 2021-08-04 21:10:08,464]\u001b[0m Trial 62 finished with value: -2865.534230193651 and parameters: {'ridge_alpha': 6.944001580333449}. Best is trial 40 with value: -2806.1288077815443.\u001b[0m\n",
      "\u001b[32m[I 2021-08-04 21:10:08,473]\u001b[0m Trial 63 finished with value: -2950.31363107184 and parameters: {'ridge_alpha': 4.141792701127233}. Best is trial 40 with value: -2806.1288077815443.\u001b[0m\n",
      "\u001b[32m[I 2021-08-04 21:10:08,482]\u001b[0m Trial 64 finished with value: -3554.928719839885 and parameters: {'ridge_alpha': 0.49953459896133695}. Best is trial 40 with value: -2806.1288077815443.\u001b[0m\n",
      "\u001b[32m[I 2021-08-04 21:10:08,491]\u001b[0m Trial 65 finished with value: -2907.9371723117015 and parameters: {'ridge_alpha': 5.358964063796151}. Best is trial 40 with value: -2806.1288077815443.\u001b[0m\n",
      "\u001b[32m[I 2021-08-04 21:10:08,500]\u001b[0m Trial 66 finished with value: -2872.9443416114227 and parameters: {'ridge_alpha': 6.637946455559941}. Best is trial 40 with value: -2806.1288077815443.\u001b[0m\n",
      "\u001b[32m[I 2021-08-04 21:10:08,509]\u001b[0m Trial 67 finished with value: -2914.471418797247 and parameters: {'ridge_alpha': 5.148891125434194}. Best is trial 40 with value: -2806.1288077815443.\u001b[0m\n",
      "\u001b[32m[I 2021-08-04 21:10:08,518]\u001b[0m Trial 68 finished with value: -2813.9953319628808 and parameters: {'ridge_alpha': 9.445947560462185}. Best is trial 40 with value: -2806.1288077815443.\u001b[0m\n",
      "\u001b[32m[I 2021-08-04 21:10:08,527]\u001b[0m Trial 69 finished with value: -2893.1891501291916 and parameters: {'ridge_alpha': 5.865550409154379}. Best is trial 40 with value: -2806.1288077815443.\u001b[0m\n",
      "\u001b[32m[I 2021-08-04 21:10:08,536]\u001b[0m Trial 70 finished with value: -2821.5972835510074 and parameters: {'ridge_alpha': 9.034019153844817}. Best is trial 40 with value: -2806.1288077815443.\u001b[0m\n",
      "\u001b[32m[I 2021-08-04 21:10:08,545]\u001b[0m Trial 71 finished with value: -3170.768089470756 and parameters: {'ridge_alpha': 1.374747050087628}. Best is trial 40 with value: -2806.1288077815443.\u001b[0m\n",
      "\u001b[32m[I 2021-08-04 21:10:08,554]\u001b[0m Trial 72 finished with value: -3167.3839410045907 and parameters: {'ridge_alpha': 1.3927634811148217}. Best is trial 40 with value: -2806.1288077815443.\u001b[0m\n",
      "\u001b[32m[I 2021-08-04 21:10:08,563]\u001b[0m Trial 73 finished with value: -2840.531089267644 and parameters: {'ridge_alpha': 8.073912889021326}. Best is trial 40 with value: -2806.1288077815443.\u001b[0m\n",
      "\u001b[32m[I 2021-08-04 21:10:08,572]\u001b[0m Trial 74 finished with value: -2957.099882633401 and parameters: {'ridge_alpha': 3.976768375878567}. Best is trial 40 with value: -2806.1288077815443.\u001b[0m\n",
      "\u001b[32m[I 2021-08-04 21:10:08,581]\u001b[0m Trial 75 finished with value: -3125.313251890954 and parameters: {'ridge_alpha': 1.6535419795157855}. Best is trial 40 with value: -2806.1288077815443.\u001b[0m\n",
      "\u001b[32m[I 2021-08-04 21:10:08,590]\u001b[0m Trial 76 finished with value: -2817.114039627959 and parameters: {'ridge_alpha': 9.275085804685252}. Best is trial 40 with value: -2806.1288077815443.\u001b[0m\n",
      "\u001b[32m[I 2021-08-04 21:10:08,599]\u001b[0m Trial 77 finished with value: -2979.8093524170067 and parameters: {'ridge_alpha': 3.4776586039774067}. Best is trial 40 with value: -2806.1288077815443.\u001b[0m\n",
      "\u001b[32m[I 2021-08-04 21:10:08,608]\u001b[0m Trial 78 finished with value: -2852.6288834551183 and parameters: {'ridge_alpha': 7.508121033853434}. Best is trial 40 with value: -2806.1288077815443.\u001b[0m\n",
      "\u001b[32m[I 2021-08-04 21:10:08,617]\u001b[0m Trial 79 finished with value: -2858.1932032512345 and parameters: {'ridge_alpha': 7.259979856244534}. Best is trial 40 with value: -2806.1288077815443.\u001b[0m\n",
      "\u001b[32m[I 2021-08-04 21:10:08,626]\u001b[0m Trial 80 finished with value: -2825.412549025052 and parameters: {'ridge_alpha': 8.833060913225037}. Best is trial 40 with value: -2806.1288077815443.\u001b[0m\n",
      "\u001b[32m[I 2021-08-04 21:10:08,635]\u001b[0m Trial 81 finished with value: -2883.1604309304143 and parameters: {'ridge_alpha': 6.236722074319366}. Best is trial 40 with value: -2806.1288077815443.\u001b[0m\n",
      "\u001b[32m[I 2021-08-04 21:10:08,644]\u001b[0m Trial 82 finished with value: -2852.6000974926524 and parameters: {'ridge_alpha': 7.509424342763947}. Best is trial 40 with value: -2806.1288077815443.\u001b[0m\n",
      "\u001b[32m[I 2021-08-04 21:10:08,653]\u001b[0m Trial 83 finished with value: -2979.2518456449484 and parameters: {'ridge_alpha': 3.4889834262894417}. Best is trial 40 with value: -2806.1288077815443.\u001b[0m\n",
      "\u001b[32m[I 2021-08-04 21:10:08,662]\u001b[0m Trial 84 finished with value: -3024.72931074418 and parameters: {'ridge_alpha': 2.6992789249509817}. Best is trial 40 with value: -2806.1288077815443.\u001b[0m\n",
      "\u001b[32m[I 2021-08-04 21:10:08,671]\u001b[0m Trial 85 finished with value: -2823.0156631277496 and parameters: {'ridge_alpha': 8.958862183001806}. Best is trial 40 with value: -2806.1288077815443.\u001b[0m\n",
      "\u001b[32m[I 2021-08-04 21:10:08,680]\u001b[0m Trial 86 finished with value: -2944.8263017705663 and parameters: {'ridge_alpha': 4.2809119044320365}. Best is trial 40 with value: -2806.1288077815443.\u001b[0m\n",
      "\u001b[32m[I 2021-08-04 21:10:08,689]\u001b[0m Trial 87 finished with value: -2810.3603940460216 and parameters: {'ridge_alpha': 9.648400471835455}. Best is trial 40 with value: -2806.1288077815443.\u001b[0m\n",
      "\u001b[32m[I 2021-08-04 21:10:08,698]\u001b[0m Trial 88 finished with value: -2873.031688264234 and parameters: {'ridge_alpha': 6.634414981550065}. Best is trial 40 with value: -2806.1288077815443.\u001b[0m\n",
      "\u001b[32m[I 2021-08-04 21:10:08,707]\u001b[0m Trial 89 finished with value: -2883.67972038518 and parameters: {'ridge_alpha': 6.21695720587426}. Best is trial 40 with value: -2806.1288077815443.\u001b[0m\n",
      "\u001b[32m[I 2021-08-04 21:10:08,716]\u001b[0m Trial 90 finished with value: -3220.9608583448967 and parameters: {'ridge_alpha': 1.147459738386292}. Best is trial 40 with value: -2806.1288077815443.\u001b[0m\n",
      "\u001b[32m[I 2021-08-04 21:10:08,725]\u001b[0m Trial 91 finished with value: -2813.110642067822 and parameters: {'ridge_alpha': 9.49489258757582}. Best is trial 40 with value: -2806.1288077815443.\u001b[0m\n",
      "\u001b[32m[I 2021-08-04 21:10:08,734]\u001b[0m Trial 92 finished with value: -2936.607297531436 and parameters: {'ridge_alpha': 4.499121340300284}. Best is trial 40 with value: -2806.1288077815443.\u001b[0m\n",
      "\u001b[32m[I 2021-08-04 21:10:08,743]\u001b[0m Trial 93 finished with value: -2895.4784234893827 and parameters: {'ridge_alpha': 5.783896148087421}. Best is trial 40 with value: -2806.1288077815443.\u001b[0m\n",
      "\u001b[32m[I 2021-08-04 21:10:08,752]\u001b[0m Trial 94 finished with value: -2952.762114091851 and parameters: {'ridge_alpha': 4.081368033531443}. Best is trial 40 with value: -2806.1288077815443.\u001b[0m\n",
      "\u001b[32m[I 2021-08-04 21:10:08,760]\u001b[0m Trial 95 finished with value: -3049.2528657314565 and parameters: {'ridge_alpha': 2.370269810060007}. Best is trial 40 with value: -2806.1288077815443.\u001b[0m\n",
      "\u001b[32m[I 2021-08-04 21:10:08,770]\u001b[0m Trial 96 finished with value: -2821.601495082206 and parameters: {'ridge_alpha': 9.033795206588742}. Best is trial 40 with value: -2806.1288077815443.\u001b[0m\n",
      "\u001b[32m[I 2021-08-04 21:10:08,779]\u001b[0m Trial 97 finished with value: -2896.813517478169 and parameters: {'ridge_alpha': 5.736794870986063}. Best is trial 40 with value: -2806.1288077815443.\u001b[0m\n",
      "\u001b[32m[I 2021-08-04 21:10:08,788]\u001b[0m Trial 98 finished with value: -5160.730035379844 and parameters: {'ridge_alpha': 0.02870328028288643}. Best is trial 40 with value: -2806.1288077815443.\u001b[0m\n",
      "\u001b[32m[I 2021-08-04 21:10:08,797]\u001b[0m Trial 99 finished with value: -2884.88142821524 and parameters: {'ridge_alpha': 6.171449140035789}. Best is trial 40 with value: -2806.1288077815443.\u001b[0m\n",
      "\u001b[32m[I 2021-08-04 21:10:08,804]\u001b[0m A new study created in memory with name: no-name-d139fb14-189b-4ffc-bb79-3cffedbae45a\u001b[0m\n"
     ]
    },
    {
     "name": "stdout",
     "output_type": "stream",
     "text": [
      "Time for preparing Ridge result:  0.02  minutes\n"
     ]
    },
    {
     "name": "stderr",
     "output_type": "stream",
     "text": [
      "\u001b[32m[I 2021-08-04 21:10:09,305]\u001b[0m Trial 0 finished with value: -0.275015307042531 and parameters: {'max_depth': 9, 'min_samples_split': 15, 'min_samples_leaf': 2, 'ccp_alpha': 3.0233257332950716}. Best is trial 0 with value: -0.275015307042531.\u001b[0m\n",
      "\u001b[32m[I 2021-08-04 21:10:09,316]\u001b[0m Trial 1 finished with value: -0.13924838362737982 and parameters: {'max_depth': 4, 'min_samples_split': 3, 'min_samples_leaf': 5, 'ccp_alpha': 3.45560727697487}. Best is trial 1 with value: -0.13924838362737982.\u001b[0m\n",
      "\u001b[32m[I 2021-08-04 21:10:09,328]\u001b[0m Trial 2 finished with value: -0.21700758094142572 and parameters: {'max_depth': 9, 'min_samples_split': 12, 'min_samples_leaf': 9, 'ccp_alpha': 6.852195007115399}. Best is trial 1 with value: -0.13924838362737982.\u001b[0m\n",
      "\u001b[32m[I 2021-08-04 21:10:09,339]\u001b[0m Trial 3 finished with value: -0.13952102288756127 and parameters: {'max_depth': 5, 'min_samples_split': 18, 'min_samples_leaf': 2, 'ccp_alpha': 6.704675105079347}. Best is trial 1 with value: -0.13924838362737982.\u001b[0m\n",
      "\u001b[32m[I 2021-08-04 21:10:09,351]\u001b[0m Trial 4 finished with value: -0.2430214324704422 and parameters: {'max_depth': 9, 'min_samples_split': 12, 'min_samples_leaf': 4, 'ccp_alpha': 1.9810148988677727}. Best is trial 1 with value: -0.13924838362737982.\u001b[0m\n",
      "\u001b[32m[I 2021-08-04 21:10:09,363]\u001b[0m Trial 5 finished with value: -0.0486361386655478 and parameters: {'max_depth': 17, 'min_samples_split': 20, 'min_samples_leaf': 7, 'ccp_alpha': 6.923226159769914}. Best is trial 5 with value: -0.0486361386655478.\u001b[0m\n",
      "\u001b[32m[I 2021-08-04 21:10:09,376]\u001b[0m Trial 6 finished with value: -0.22249805506051237 and parameters: {'max_depth': 18, 'min_samples_split': 18, 'min_samples_leaf': 3, 'ccp_alpha': 0.39054784193827574}. Best is trial 5 with value: -0.0486361386655478.\u001b[0m\n",
      "\u001b[32m[I 2021-08-04 21:10:09,388]\u001b[0m Trial 7 finished with value: -0.13900654205647034 and parameters: {'max_depth': 5, 'min_samples_split': 18, 'min_samples_leaf': 3, 'ccp_alpha': 4.211076255839445}. Best is trial 5 with value: -0.0486361386655478.\u001b[0m\n",
      "\u001b[32m[I 2021-08-04 21:10:09,398]\u001b[0m Trial 8 finished with value: -0.1438885944356625 and parameters: {'max_depth': 20, 'min_samples_split': 12, 'min_samples_leaf': 15, 'ccp_alpha': 3.155156316905473}. Best is trial 5 with value: -0.0486361386655478.\u001b[0m\n",
      "\u001b[32m[I 2021-08-04 21:10:09,411]\u001b[0m Trial 9 finished with value: -0.2580003274482218 and parameters: {'max_depth': 15, 'min_samples_split': 17, 'min_samples_leaf': 2, 'ccp_alpha': 7.501443151948231}. Best is trial 5 with value: -0.0486361386655478.\u001b[0m\n",
      "\u001b[32m[I 2021-08-04 21:10:09,423]\u001b[0m Trial 10 finished with value: -0.07770694269817084 and parameters: {'max_depth': 20, 'min_samples_split': 16, 'min_samples_leaf': 7, 'ccp_alpha': 7.892793286622092}. Best is trial 5 with value: -0.0486361386655478.\u001b[0m\n",
      "\u001b[32m[I 2021-08-04 21:10:09,434]\u001b[0m Trial 11 finished with value: -0.1016554315867663 and parameters: {'max_depth': 3, 'min_samples_split': 10, 'min_samples_leaf': 19, 'ccp_alpha': 2.936141490800653}. Best is trial 5 with value: -0.0486361386655478.\u001b[0m\n",
      "\u001b[32m[I 2021-08-04 21:10:09,446]\u001b[0m Trial 12 finished with value: -0.46156321205270784 and parameters: {'max_depth': 7, 'min_samples_split': 4, 'min_samples_leaf': 2, 'ccp_alpha': 6.7883553326105535}. Best is trial 5 with value: -0.0486361386655478.\u001b[0m\n",
      "\u001b[32m[I 2021-08-04 21:10:09,458]\u001b[0m Trial 13 finished with value: -0.097118510429075 and parameters: {'max_depth': 6, 'min_samples_split': 7, 'min_samples_leaf': 11, 'ccp_alpha': 0.5336254606371784}. Best is trial 5 with value: -0.0486361386655478.\u001b[0m\n",
      "\u001b[32m[I 2021-08-04 21:10:09,469]\u001b[0m Trial 14 finished with value: -0.10725862863684317 and parameters: {'max_depth': 12, 'min_samples_split': 4, 'min_samples_leaf': 13, 'ccp_alpha': 6.997583603211727}. Best is trial 5 with value: -0.0486361386655478.\u001b[0m\n",
      "\u001b[32m[I 2021-08-04 21:10:09,480]\u001b[0m Trial 15 finished with value: -0.11950627357622541 and parameters: {'max_depth': 3, 'min_samples_split': 9, 'min_samples_leaf': 15, 'ccp_alpha': 4.141792701127233}. Best is trial 5 with value: -0.0486361386655478.\u001b[0m\n",
      "\u001b[32m[I 2021-08-04 21:10:09,490]\u001b[0m Trial 16 finished with value: -0.05963028559220396 and parameters: {'max_depth': 2, 'min_samples_split': 12, 'min_samples_leaf': 14, 'ccp_alpha': 5.148891125434194}. Best is trial 5 with value: -0.0486361386655478.\u001b[0m\n",
      "\u001b[32m[I 2021-08-04 21:10:09,501]\u001b[0m Trial 17 finished with value: -0.08870467535087023 and parameters: {'max_depth': 19, 'min_samples_split': 13, 'min_samples_leaf': 19, 'ccp_alpha': 1.374747050087628}. Best is trial 5 with value: -0.0486361386655478.\u001b[0m\n",
      "\u001b[32m[I 2021-08-04 21:10:09,513]\u001b[0m Trial 18 finished with value: -0.1498513056791042 and parameters: {'max_depth': 4, 'min_samples_split': 17, 'min_samples_leaf': 9, 'ccp_alpha': 1.6535419795157855}. Best is trial 5 with value: -0.0486361386655478.\u001b[0m\n",
      "\u001b[32m[I 2021-08-04 21:10:09,524]\u001b[0m Trial 19 finished with value: -0.08716156548977823 and parameters: {'max_depth': 19, 'min_samples_split': 8, 'min_samples_leaf': 16, 'ccp_alpha': 7.259979856244534}. Best is trial 5 with value: -0.0486361386655478.\u001b[0m\n",
      "\u001b[32m[I 2021-08-04 21:10:09,535]\u001b[0m Trial 20 finished with value: -0.08716156548977823 and parameters: {'max_depth': 18, 'min_samples_split': 13, 'min_samples_leaf': 16, 'ccp_alpha': 3.4889834262894417}. Best is trial 5 with value: -0.0486361386655478.\u001b[0m\n",
      "\u001b[32m[I 2021-08-04 21:10:09,546]\u001b[0m Trial 21 finished with value: -0.1036054455493491 and parameters: {'max_depth': 7, 'min_samples_split': 19, 'min_samples_leaf': 10, 'ccp_alpha': 9.648400471835455}. Best is trial 5 with value: -0.0486361386655478.\u001b[0m\n",
      "\u001b[32m[I 2021-08-04 21:10:09,559]\u001b[0m Trial 22 finished with value: -0.22818022663208937 and parameters: {'max_depth': 14, 'min_samples_split': 13, 'min_samples_leaf': 4, 'ccp_alpha': 9.49489258757582}. Best is trial 5 with value: -0.0486361386655478.\u001b[0m\n",
      "\u001b[32m[I 2021-08-04 21:10:09,570]\u001b[0m Trial 23 finished with value: -0.22140463020680548 and parameters: {'max_depth': 10, 'min_samples_split': 12, 'min_samples_leaf': 9, 'ccp_alpha': 2.370269810060007}. Best is trial 5 with value: -0.0486361386655478.\u001b[0m\n",
      "\u001b[32m[I 2021-08-04 21:10:09,583]\u001b[0m Trial 24 finished with value: -0.32560702578094997 and parameters: {'max_depth': 19, 'min_samples_split': 12, 'min_samples_leaf': 2, 'ccp_alpha': 6.171449140035789}. Best is trial 5 with value: -0.0486361386655478.\u001b[0m\n",
      "\u001b[32m[I 2021-08-04 21:10:09,595]\u001b[0m Trial 25 finished with value: -0.12829237361796095 and parameters: {'max_depth': 8, 'min_samples_split': 12, 'min_samples_leaf': 18, 'ccp_alpha': 3.5726976064522997}. Best is trial 5 with value: -0.0486361386655478.\u001b[0m\n",
      "\u001b[32m[I 2021-08-04 21:10:09,607]\u001b[0m Trial 26 finished with value: -0.28156827036856674 and parameters: {'max_depth': 19, 'min_samples_split': 13, 'min_samples_leaf': 2, 'ccp_alpha': 9.29437233814324}. Best is trial 5 with value: -0.0486361386655478.\u001b[0m\n",
      "\u001b[32m[I 2021-08-04 21:10:09,619]\u001b[0m Trial 27 finished with value: -0.06235996511348696 and parameters: {'max_depth': 15, 'min_samples_split': 20, 'min_samples_leaf': 5, 'ccp_alpha': 1.3713575049174198}. Best is trial 5 with value: -0.0486361386655478.\u001b[0m\n",
      "\u001b[32m[I 2021-08-04 21:10:09,632]\u001b[0m Trial 28 finished with value: -0.2809169749769816 and parameters: {'max_depth': 19, 'min_samples_split': 15, 'min_samples_leaf': 3, 'ccp_alpha': 7.554630528470033}. Best is trial 5 with value: -0.0486361386655478.\u001b[0m\n",
      "\u001b[32m[I 2021-08-04 21:10:09,643]\u001b[0m Trial 29 finished with value: -0.14509175137527786 and parameters: {'max_depth': 16, 'min_samples_split': 19, 'min_samples_leaf': 15, 'ccp_alpha': 1.2427096284789372}. Best is trial 5 with value: -0.0486361386655478.\u001b[0m\n",
      "\u001b[32m[I 2021-08-04 21:10:09,655]\u001b[0m Trial 30 finished with value: -0.0920573449437253 and parameters: {'max_depth': 2, 'min_samples_split': 2, 'min_samples_leaf': 2, 'ccp_alpha': 2.462110683568348}. Best is trial 5 with value: -0.0486361386655478.\u001b[0m\n",
      "\u001b[32m[I 2021-08-04 21:10:09,670]\u001b[0m Trial 31 finished with value: -0.16111602003714096 and parameters: {'max_depth': 18, 'min_samples_split': 12, 'min_samples_leaf': 12, 'ccp_alpha': 8.420308925175748}. Best is trial 5 with value: -0.0486361386655478.\u001b[0m\n",
      "\u001b[32m[I 2021-08-04 21:10:09,683]\u001b[0m Trial 32 finished with value: -0.1312305691666964 and parameters: {'max_depth': 4, 'min_samples_split': 7, 'min_samples_leaf': 13, 'ccp_alpha': 9.695957483500788}. Best is trial 5 with value: -0.0486361386655478.\u001b[0m\n",
      "\u001b[32m[I 2021-08-04 21:10:09,697]\u001b[0m Trial 33 finished with value: -0.05509663242599131 and parameters: {'max_depth': 12, 'min_samples_split': 2, 'min_samples_leaf': 17, 'ccp_alpha': 2.3297427460804614}. Best is trial 5 with value: -0.0486361386655478.\u001b[0m\n",
      "\u001b[32m[I 2021-08-04 21:10:09,710]\u001b[0m Trial 34 finished with value: -0.12556992153972976 and parameters: {'max_depth': 17, 'min_samples_split': 9, 'min_samples_leaf': 18, 'ccp_alpha': 7.471216429900629}. Best is trial 5 with value: -0.0486361386655478.\u001b[0m\n",
      "\u001b[32m[I 2021-08-04 21:10:09,727]\u001b[0m Trial 35 finished with value: -0.4738669623527549 and parameters: {'max_depth': 12, 'min_samples_split': 4, 'min_samples_leaf': 3, 'ccp_alpha': 1.2134345661939387}. Best is trial 5 with value: -0.0486361386655478.\u001b[0m\n",
      "\u001b[32m[I 2021-08-04 21:10:09,738]\u001b[0m Trial 36 finished with value: -0.08659214581151253 and parameters: {'max_depth': 2, 'min_samples_split': 4, 'min_samples_leaf': 6, 'ccp_alpha': 7.129889806696876}. Best is trial 5 with value: -0.0486361386655478.\u001b[0m\n",
      "\u001b[32m[I 2021-08-04 21:10:09,753]\u001b[0m Trial 37 finished with value: -0.4329578836267889 and parameters: {'max_depth': 12, 'min_samples_split': 2, 'min_samples_leaf': 3, 'ccp_alpha': 9.672763300329956}. Best is trial 5 with value: -0.0486361386655478.\u001b[0m\n",
      "\u001b[32m[I 2021-08-04 21:10:09,766]\u001b[0m Trial 38 finished with value: -0.0957720990470153 and parameters: {'max_depth': 12, 'min_samples_split': 5, 'min_samples_leaf': 6, 'ccp_alpha': 7.43825854331267}. Best is trial 5 with value: -0.0486361386655478.\u001b[0m\n",
      "\u001b[32m[I 2021-08-04 21:10:09,778]\u001b[0m Trial 39 finished with value: -0.06485562452684694 and parameters: {'max_depth': 5, 'min_samples_split': 13, 'min_samples_leaf': 20, 'ccp_alpha': 8.468288016432064}. Best is trial 5 with value: -0.0486361386655478.\u001b[0m\n",
      "\u001b[32m[I 2021-08-04 21:10:09,789]\u001b[0m Trial 40 finished with value: -0.10725862863684317 and parameters: {'max_depth': 6, 'min_samples_split': 11, 'min_samples_leaf': 13, 'ccp_alpha': 8.289808997211978}. Best is trial 5 with value: -0.0486361386655478.\u001b[0m\n",
      "\u001b[32m[I 2021-08-04 21:10:09,802]\u001b[0m Trial 41 finished with value: -0.32655239297515154 and parameters: {'max_depth': 4, 'min_samples_split': 2, 'min_samples_leaf': 3, 'ccp_alpha': 4.863451114506867}. Best is trial 5 with value: -0.0486361386655478.\u001b[0m\n",
      "\u001b[32m[I 2021-08-04 21:10:09,813]\u001b[0m Trial 42 finished with value: -0.08907711265121636 and parameters: {'max_depth': 13, 'min_samples_split': 12, 'min_samples_leaf': 8, 'ccp_alpha': 9.886161544238327}. Best is trial 5 with value: -0.0486361386655478.\u001b[0m\n",
      "\u001b[32m[I 2021-08-04 21:10:09,825]\u001b[0m Trial 43 finished with value: -0.15789691591563862 and parameters: {'max_depth': 13, 'min_samples_split': 9, 'min_samples_leaf': 12, 'ccp_alpha': 7.4533443116116755}. Best is trial 5 with value: -0.0486361386655478.\u001b[0m\n",
      "\u001b[32m[I 2021-08-04 21:10:09,838]\u001b[0m Trial 44 finished with value: -0.4182450091034984 and parameters: {'max_depth': 14, 'min_samples_split': 7, 'min_samples_leaf': 3, 'ccp_alpha': 3.7008419854402206}. Best is trial 5 with value: -0.0486361386655478.\u001b[0m\n",
      "\u001b[32m[I 2021-08-04 21:10:09,849]\u001b[0m Trial 45 finished with value: -0.08716156548977823 and parameters: {'max_depth': 13, 'min_samples_split': 5, 'min_samples_leaf': 16, 'ccp_alpha': 0.6653648228757846}. Best is trial 5 with value: -0.0486361386655478.\u001b[0m\n",
      "\u001b[32m[I 2021-08-04 21:10:09,860]\u001b[0m Trial 46 finished with value: -0.0737430406712792 and parameters: {'max_depth': 6, 'min_samples_split': 17, 'min_samples_leaf': 5, 'ccp_alpha': 6.394608812404792}. Best is trial 5 with value: -0.0486361386655478.\u001b[0m\n",
      "\u001b[32m[I 2021-08-04 21:10:09,872]\u001b[0m Trial 47 finished with value: -0.08407475602633589 and parameters: {'max_depth': 11, 'min_samples_split': 19, 'min_samples_leaf': 7, 'ccp_alpha': 0.659610916180627}. Best is trial 5 with value: -0.0486361386655478.\u001b[0m\n",
      "\u001b[32m[I 2021-08-04 21:10:09,883]\u001b[0m Trial 48 finished with value: -0.08881124385963719 and parameters: {'max_depth': 15, 'min_samples_split': 16, 'min_samples_leaf': 19, 'ccp_alpha': 9.319720692648652}. Best is trial 5 with value: -0.0486361386655478.\u001b[0m\n",
      "\u001b[32m[I 2021-08-04 21:10:09,893]\u001b[0m Trial 49 finished with value: -0.05963028559220396 and parameters: {'max_depth': 2, 'min_samples_split': 6, 'min_samples_leaf': 13, 'ccp_alpha': 9.490163207386}. Best is trial 5 with value: -0.0486361386655478.\u001b[0m\n",
      "\u001b[32m[I 2021-08-04 21:10:09,904]\u001b[0m Trial 50 finished with value: -0.08881124385963719 and parameters: {'max_depth': 20, 'min_samples_split': 12, 'min_samples_leaf': 19, 'ccp_alpha': 6.415662093047713}. Best is trial 5 with value: -0.0486361386655478.\u001b[0m\n",
      "\u001b[32m[I 2021-08-04 21:10:09,915]\u001b[0m Trial 51 finished with value: -0.10725862863684317 and parameters: {'max_depth': 9, 'min_samples_split': 11, 'min_samples_leaf': 13, 'ccp_alpha': 5.495479219590146}. Best is trial 5 with value: -0.0486361386655478.\u001b[0m\n",
      "\u001b[32m[I 2021-08-04 21:10:09,927]\u001b[0m Trial 52 finished with value: -0.2086232745380586 and parameters: {'max_depth': 19, 'min_samples_split': 19, 'min_samples_leaf': 9, 'ccp_alpha': 9.632625284774493}. Best is trial 5 with value: -0.0486361386655478.\u001b[0m\n",
      "\u001b[32m[I 2021-08-04 21:10:09,940]\u001b[0m Trial 53 finished with value: -0.2627070472722661 and parameters: {'max_depth': 5, 'min_samples_split': 4, 'min_samples_leaf': 4, 'ccp_alpha': 5.056621661712345}. Best is trial 5 with value: -0.0486361386655478.\u001b[0m\n",
      "\u001b[32m[I 2021-08-04 21:10:09,951]\u001b[0m Trial 54 finished with value: -0.05867448375400793 and parameters: {'max_depth': 2, 'min_samples_split': 20, 'min_samples_leaf': 17, 'ccp_alpha': 0.15018981727103395}. Best is trial 5 with value: -0.0486361386655478.\u001b[0m\n",
      "\u001b[32m[I 2021-08-04 21:10:09,964]\u001b[0m Trial 55 finished with value: -0.26750364686512346 and parameters: {'max_depth': 5, 'min_samples_split': 8, 'min_samples_leaf': 4, 'ccp_alpha': 8.094906923170914}. Best is trial 5 with value: -0.0486361386655478.\u001b[0m\n",
      "\u001b[32m[I 2021-08-04 21:10:09,976]\u001b[0m Trial 56 finished with value: -0.10725862863684317 and parameters: {'max_depth': 8, 'min_samples_split': 19, 'min_samples_leaf': 13, 'ccp_alpha': 8.78831984533012}. Best is trial 5 with value: -0.0486361386655478.\u001b[0m\n",
      "\u001b[32m[I 2021-08-04 21:10:09,988]\u001b[0m Trial 57 finished with value: -0.10872247270410011 and parameters: {'max_depth': 18, 'min_samples_split': 19, 'min_samples_leaf': 10, 'ccp_alpha': 5.463468164740264}. Best is trial 5 with value: -0.0486361386655478.\u001b[0m\n",
      "\u001b[32m[I 2021-08-04 21:10:10,000]\u001b[0m Trial 58 finished with value: -0.08268299871585853 and parameters: {'max_depth': 17, 'min_samples_split': 7, 'min_samples_leaf': 11, 'ccp_alpha': 5.99110308046768}. Best is trial 5 with value: -0.0486361386655478.\u001b[0m\n",
      "\u001b[32m[I 2021-08-04 21:10:10,010]\u001b[0m Trial 59 finished with value: -0.05963028559220396 and parameters: {'max_depth': 2, 'min_samples_split': 13, 'min_samples_leaf': 10, 'ccp_alpha': 8.07360529077481}. Best is trial 5 with value: -0.0486361386655478.\u001b[0m\n",
      "\u001b[32m[I 2021-08-04 21:10:10,022]\u001b[0m Trial 60 finished with value: -0.1597453269110535 and parameters: {'max_depth': 7, 'min_samples_split': 18, 'min_samples_leaf': 12, 'ccp_alpha': 1.8401020244345485}. Best is trial 5 with value: -0.0486361386655478.\u001b[0m\n",
      "\u001b[32m[I 2021-08-04 21:10:10,035]\u001b[0m Trial 61 finished with value: -0.27405611516358735 and parameters: {'max_depth': 16, 'min_samples_split': 13, 'min_samples_leaf': 3, 'ccp_alpha': 4.201936805809385}. Best is trial 5 with value: -0.0486361386655478.\u001b[0m\n",
      "\u001b[32m[I 2021-08-04 21:10:10,048]\u001b[0m Trial 62 finished with value: -0.17327447416678718 and parameters: {'max_depth': 14, 'min_samples_split': 19, 'min_samples_leaf': 2, 'ccp_alpha': 9.767591490543005}. Best is trial 5 with value: -0.0486361386655478.\u001b[0m\n",
      "\u001b[32m[I 2021-08-04 21:10:10,059]\u001b[0m Trial 63 finished with value: -0.10725862863684317 and parameters: {'max_depth': 9, 'min_samples_split': 20, 'min_samples_leaf': 13, 'ccp_alpha': 8.288458081518472}. Best is trial 5 with value: -0.0486361386655478.\u001b[0m\n",
      "\u001b[32m[I 2021-08-04 21:10:10,072]\u001b[0m Trial 64 finished with value: -0.10375170841088321 and parameters: {'max_depth': 12, 'min_samples_split': 13, 'min_samples_leaf': 7, 'ccp_alpha': 5.868333410692496}. Best is trial 5 with value: -0.0486361386655478.\u001b[0m\n",
      "\u001b[32m[I 2021-08-04 21:10:10,083]\u001b[0m Trial 65 finished with value: -0.08716156548977823 and parameters: {'max_depth': 16, 'min_samples_split': 18, 'min_samples_leaf': 16, 'ccp_alpha': 6.980572487492457}. Best is trial 5 with value: -0.0486361386655478.\u001b[0m\n",
      "\u001b[32m[I 2021-08-04 21:10:10,095]\u001b[0m Trial 66 finished with value: -0.1206827390817476 and parameters: {'max_depth': 18, 'min_samples_split': 8, 'min_samples_leaf': 14, 'ccp_alpha': 4.5087393696247515}. Best is trial 5 with value: -0.0486361386655478.\u001b[0m\n",
      "\u001b[32m[I 2021-08-04 21:10:10,107]\u001b[0m Trial 67 finished with value: -0.2154117654648137 and parameters: {'max_depth': 9, 'min_samples_split': 9, 'min_samples_leaf': 9, 'ccp_alpha': 3.1738394664089293}. Best is trial 5 with value: -0.0486361386655478.\u001b[0m\n",
      "\u001b[32m[I 2021-08-04 21:10:10,118]\u001b[0m Trial 68 finished with value: -0.06757807660507813 and parameters: {'max_depth': 13, 'min_samples_split': 10, 'min_samples_leaf': 20, 'ccp_alpha': 6.778008917565102}. Best is trial 5 with value: -0.0486361386655478.\u001b[0m\n",
      "\u001b[32m[I 2021-08-04 21:10:10,129]\u001b[0m Trial 69 finished with value: -0.06416397064409958 and parameters: {'max_depth': 5, 'min_samples_split': 10, 'min_samples_leaf': 8, 'ccp_alpha': 7.976388041609277}. Best is trial 5 with value: -0.0486361386655478.\u001b[0m\n",
      "\u001b[32m[I 2021-08-04 21:10:10,142]\u001b[0m Trial 70 finished with value: -0.1206827390817476 and parameters: {'max_depth': 18, 'min_samples_split': 19, 'min_samples_leaf': 14, 'ccp_alpha': 2.702082627595495}. Best is trial 5 with value: -0.0486361386655478.\u001b[0m\n",
      "\u001b[32m[I 2021-08-04 21:10:10,154]\u001b[0m Trial 71 finished with value: -0.15789691591563862 and parameters: {'max_depth': 6, 'min_samples_split': 18, 'min_samples_leaf': 12, 'ccp_alpha': 8.02161084202437}. Best is trial 5 with value: -0.0486361386655478.\u001b[0m\n",
      "\u001b[32m[I 2021-08-04 21:10:10,166]\u001b[0m Trial 72 finished with value: -0.08268299871585853 and parameters: {'max_depth': 12, 'min_samples_split': 15, 'min_samples_leaf': 11, 'ccp_alpha': 7.70883910731004}. Best is trial 5 with value: -0.0486361386655478.\u001b[0m\n",
      "\u001b[32m[I 2021-08-04 21:10:10,179]\u001b[0m Trial 73 finished with value: -0.09179292441416058 and parameters: {'max_depth': 12, 'min_samples_split': 10, 'min_samples_leaf': 8, 'ccp_alpha': 0.6820934934849477}. Best is trial 5 with value: -0.0486361386655478.\u001b[0m\n",
      "\u001b[32m[I 2021-08-04 21:10:10,191]\u001b[0m Trial 74 finished with value: -0.06485562452684694 and parameters: {'max_depth': 9, 'min_samples_split': 3, 'min_samples_leaf': 20, 'ccp_alpha': 1.816128521491509}. Best is trial 5 with value: -0.0486361386655478.\u001b[0m\n",
      "\u001b[32m[I 2021-08-04 21:10:10,203]\u001b[0m Trial 75 finished with value: -0.1438885944356625 and parameters: {'max_depth': 17, 'min_samples_split': 18, 'min_samples_leaf': 15, 'ccp_alpha': 5.694944131758812}. Best is trial 5 with value: -0.0486361386655478.\u001b[0m\n",
      "\u001b[32m[I 2021-08-04 21:10:10,215]\u001b[0m Trial 76 finished with value: -0.06884218996961107 and parameters: {'max_depth': 5, 'min_samples_split': 10, 'min_samples_leaf': 8, 'ccp_alpha': 2.250399585890446}. Best is trial 5 with value: -0.0486361386655478.\u001b[0m\n",
      "\u001b[32m[I 2021-08-04 21:10:10,228]\u001b[0m Trial 77 finished with value: -0.09153369593786838 and parameters: {'max_depth': 13, 'min_samples_split': 7, 'min_samples_leaf': 19, 'ccp_alpha': 9.096355250419215}. Best is trial 5 with value: -0.0486361386655478.\u001b[0m\n",
      "\u001b[32m[I 2021-08-04 21:10:10,244]\u001b[0m Trial 78 finished with value: -0.09976160561560336 and parameters: {'max_depth': 6, 'min_samples_split': 4, 'min_samples_leaf': 5, 'ccp_alpha': 4.995841711793019}. Best is trial 5 with value: -0.0486361386655478.\u001b[0m\n",
      "\u001b[32m[I 2021-08-04 21:10:10,259]\u001b[0m Trial 79 finished with value: -0.0943616269326782 and parameters: {'max_depth': 15, 'min_samples_split': 5, 'min_samples_leaf': 6, 'ccp_alpha': 8.516718750846952}. Best is trial 5 with value: -0.0486361386655478.\u001b[0m\n",
      "\u001b[32m[I 2021-08-04 21:10:10,275]\u001b[0m Trial 80 finished with value: -0.1096513214437332 and parameters: {'max_depth': 9, 'min_samples_split': 13, 'min_samples_leaf': 6, 'ccp_alpha': 1.0196726032383017}. Best is trial 5 with value: -0.0486361386655478.\u001b[0m\n",
      "\u001b[32m[I 2021-08-04 21:10:10,291]\u001b[0m Trial 81 finished with value: -0.23656824275990296 and parameters: {'max_depth': 11, 'min_samples_split': 11, 'min_samples_leaf': 4, 'ccp_alpha': 6.218062321186092}. Best is trial 5 with value: -0.0486361386655478.\u001b[0m\n",
      "\u001b[32m[I 2021-08-04 21:10:10,307]\u001b[0m Trial 82 finished with value: -0.23412322829137397 and parameters: {'max_depth': 12, 'min_samples_split': 14, 'min_samples_leaf': 4, 'ccp_alpha': 7.51527817383716}. Best is trial 5 with value: -0.0486361386655478.\u001b[0m\n",
      "\u001b[32m[I 2021-08-04 21:10:10,323]\u001b[0m Trial 83 finished with value: -0.08716156548977823 and parameters: {'max_depth': 6, 'min_samples_split': 11, 'min_samples_leaf': 16, 'ccp_alpha': 0.2233042896947575}. Best is trial 5 with value: -0.0486361386655478.\u001b[0m\n",
      "\u001b[32m[I 2021-08-04 21:10:10,336]\u001b[0m Trial 84 finished with value: -0.12829237361796095 and parameters: {'max_depth': 8, 'min_samples_split': 18, 'min_samples_leaf': 18, 'ccp_alpha': 5.38440593056103}. Best is trial 5 with value: -0.0486361386655478.\u001b[0m\n",
      "\u001b[32m[I 2021-08-04 21:10:10,348]\u001b[0m Trial 85 finished with value: -0.05509663242599131 and parameters: {'max_depth': 18, 'min_samples_split': 20, 'min_samples_leaf': 17, 'ccp_alpha': 8.541154439824233}. Best is trial 5 with value: -0.0486361386655478.\u001b[0m\n",
      "\u001b[32m[I 2021-08-04 21:10:10,359]\u001b[0m Trial 86 finished with value: -0.11950627357622541 and parameters: {'max_depth': 3, 'min_samples_split': 14, 'min_samples_leaf': 15, 'ccp_alpha': 6.102408130363888}. Best is trial 5 with value: -0.0486361386655478.\u001b[0m\n",
      "\u001b[32m[I 2021-08-04 21:10:10,371]\u001b[0m Trial 87 finished with value: -0.08716156548977823 and parameters: {'max_depth': 17, 'min_samples_split': 2, 'min_samples_leaf': 16, 'ccp_alpha': 7.317286010077983}. Best is trial 5 with value: -0.0486361386655478.\u001b[0m\n",
      "\u001b[32m[I 2021-08-04 21:10:10,383]\u001b[0m Trial 88 finished with value: -0.1206827390817476 and parameters: {'max_depth': 6, 'min_samples_split': 6, 'min_samples_leaf': 14, 'ccp_alpha': 3.4529746224578406}. Best is trial 5 with value: -0.0486361386655478.\u001b[0m\n",
      "\u001b[32m[I 2021-08-04 21:10:10,395]\u001b[0m Trial 89 finished with value: -0.07559599724703207 and parameters: {'max_depth': 17, 'min_samples_split': 10, 'min_samples_leaf': 16, 'ccp_alpha': 9.904717836333688}. Best is trial 5 with value: -0.0486361386655478.\u001b[0m\n",
      "\u001b[32m[I 2021-08-04 21:10:10,407]\u001b[0m Trial 90 finished with value: -0.09153369593786838 and parameters: {'max_depth': 7, 'min_samples_split': 4, 'min_samples_leaf': 19, 'ccp_alpha': 5.415593793458139}. Best is trial 5 with value: -0.0486361386655478.\u001b[0m\n",
      "\u001b[32m[I 2021-08-04 21:10:10,418]\u001b[0m Trial 91 finished with value: -0.06757807660507813 and parameters: {'max_depth': 20, 'min_samples_split': 14, 'min_samples_leaf': 20, 'ccp_alpha': 5.460708045968808}. Best is trial 5 with value: -0.0486361386655478.\u001b[0m\n",
      "\u001b[32m[I 2021-08-04 21:10:10,431]\u001b[0m Trial 92 finished with value: -0.09179292441416058 and parameters: {'max_depth': 12, 'min_samples_split': 4, 'min_samples_leaf': 8, 'ccp_alpha': 0.26218568270154713}. Best is trial 5 with value: -0.0486361386655478.\u001b[0m\n",
      "\u001b[32m[I 2021-08-04 21:10:10,443]\u001b[0m Trial 93 finished with value: -0.19354376824427635 and parameters: {'max_depth': 5, 'min_samples_split': 16, 'min_samples_leaf': 2, 'ccp_alpha': 3.665430978772012}. Best is trial 5 with value: -0.0486361386655478.\u001b[0m\n",
      "\u001b[32m[I 2021-08-04 21:10:10,455]\u001b[0m Trial 94 finished with value: -0.1438885944356625 and parameters: {'max_depth': 18, 'min_samples_split': 15, 'min_samples_leaf': 15, 'ccp_alpha': 1.8863680176667406}. Best is trial 5 with value: -0.0486361386655478.\u001b[0m\n",
      "\u001b[32m[I 2021-08-04 21:10:10,467]\u001b[0m Trial 95 finished with value: -0.06757807660507813 and parameters: {'max_depth': 10, 'min_samples_split': 13, 'min_samples_leaf': 20, 'ccp_alpha': 2.039062260292156}. Best is trial 5 with value: -0.0486361386655478.\u001b[0m\n",
      "\u001b[32m[I 2021-08-04 21:10:10,484]\u001b[0m Trial 96 finished with value: -0.08716156548977823 and parameters: {'max_depth': 6, 'min_samples_split': 6, 'min_samples_leaf': 16, 'ccp_alpha': 4.569753279787174}. Best is trial 5 with value: -0.0486361386655478.\u001b[0m\n",
      "\u001b[32m[I 2021-08-04 21:10:10,502]\u001b[0m Trial 97 finished with value: -0.1186219558362277 and parameters: {'max_depth': 3, 'min_samples_split': 11, 'min_samples_leaf': 6, 'ccp_alpha': 7.9860424496160585}. Best is trial 5 with value: -0.0486361386655478.\u001b[0m\n",
      "\u001b[32m[I 2021-08-04 21:10:10,518]\u001b[0m Trial 98 finished with value: -0.10725862863684317 and parameters: {'max_depth': 7, 'min_samples_split': 2, 'min_samples_leaf': 13, 'ccp_alpha': 8.438404290873484}. Best is trial 5 with value: -0.0486361386655478.\u001b[0m\n",
      "\u001b[32m[I 2021-08-04 21:10:10,530]\u001b[0m Trial 99 finished with value: -0.08268299871585853 and parameters: {'max_depth': 9, 'min_samples_split': 16, 'min_samples_leaf': 11, 'ccp_alpha': 5.409518054212368}. Best is trial 5 with value: -0.0486361386655478.\u001b[0m\n",
      "\u001b[32m[I 2021-08-04 21:10:10,539]\u001b[0m A new study created in memory with name: no-name-0aa606c6-d47d-4364-ad68-527f82b4b540\u001b[0m\n"
     ]
    },
    {
     "name": "stdout",
     "output_type": "stream",
     "text": [
      "Time for preparing Ridge result:  0.03  minutes\n"
     ]
    },
    {
     "name": "stderr",
     "output_type": "stream",
     "text": [
      "\u001b[32m[I 2021-08-04 21:10:10,892]\u001b[0m Trial 0 finished with value: -0.13261421729669545 and parameters: {'max_depth': 9, 'n_estimators': 38}. Best is trial 0 with value: -0.13261421729669545.\u001b[0m\n",
      "\u001b[32m[I 2021-08-04 21:10:11,023]\u001b[0m Trial 1 finished with value: -0.05547444817792424 and parameters: {'max_depth': 2, 'n_estimators': 18}. Best is trial 1 with value: -0.05547444817792424.\u001b[0m\n",
      "\u001b[32m[I 2021-08-04 21:10:11,101]\u001b[0m Trial 2 finished with value: -0.1100019593638415 and parameters: {'max_depth': 4, 'n_estimators': 9}. Best is trial 1 with value: -0.05547444817792424.\u001b[0m\n",
      "\u001b[32m[I 2021-08-04 21:10:11,268]\u001b[0m Trial 3 finished with value: -0.15154680424139907 and parameters: {'max_depth': 5, 'n_estimators': 20}. Best is trial 1 with value: -0.05547444817792424.\u001b[0m\n",
      "\u001b[32m[I 2021-08-04 21:10:11,539]\u001b[0m Trial 4 finished with value: -0.09658639309001926 and parameters: {'max_depth': 9, 'n_estimators': 29}. Best is trial 1 with value: -0.05547444817792424.\u001b[0m\n",
      "\u001b[32m[I 2021-08-04 21:10:11,870]\u001b[0m Trial 5 finished with value: -0.11024350408304762 and parameters: {'max_depth': 9, 'n_estimators': 36}. Best is trial 1 with value: -0.05547444817792424.\u001b[0m\n",
      "\u001b[32m[I 2021-08-04 21:10:12,230]\u001b[0m Trial 6 finished with value: -0.10396485450960617 and parameters: {'max_depth': 5, 'n_estimators': 45}. Best is trial 1 with value: -0.05547444817792424.\u001b[0m\n",
      "\u001b[32m[I 2021-08-04 21:10:12,478]\u001b[0m Trial 7 finished with value: -0.0673785905192213 and parameters: {'max_depth': 2, 'n_estimators': 35}. Best is trial 1 with value: -0.05547444817792424.\u001b[0m\n",
      "\u001b[32m[I 2021-08-04 21:10:12,760]\u001b[0m Trial 8 finished with value: -0.1587150735486181 and parameters: {'max_depth': 9, 'n_estimators': 30}. Best is trial 1 with value: -0.05547444817792424.\u001b[0m\n",
      "\u001b[32m[I 2021-08-04 21:10:12,901]\u001b[0m Trial 9 finished with value: -0.1487551064513218 and parameters: {'max_depth': 4, 'n_estimators': 14}. Best is trial 1 with value: -0.05547444817792424.\u001b[0m\n",
      "\u001b[32m[I 2021-08-04 21:10:13,409]\u001b[0m Trial 10 finished with value: -0.08098701735981988 and parameters: {'max_depth': 17, 'n_estimators': 49}. Best is trial 1 with value: -0.05547444817792424.\u001b[0m\n",
      "\u001b[32m[I 2021-08-04 21:10:13,828]\u001b[0m Trial 11 finished with value: -0.11102929575488159 and parameters: {'max_depth': 7, 'n_estimators': 36}. Best is trial 1 with value: -0.05547444817792424.\u001b[0m\n",
      "\u001b[32m[I 2021-08-04 21:10:14,285]\u001b[0m Trial 12 finished with value: -0.09503816504203962 and parameters: {'max_depth': 18, 'n_estimators': 46}. Best is trial 1 with value: -0.05547444817792424.\u001b[0m\n",
      "\u001b[32m[I 2021-08-04 21:10:14,341]\u001b[0m Trial 13 finished with value: -0.15315522503612322 and parameters: {'max_depth': 3, 'n_estimators': 6}. Best is trial 1 with value: -0.05547444817792424.\u001b[0m\n",
      "\u001b[32m[I 2021-08-04 21:10:14,781]\u001b[0m Trial 14 finished with value: -0.0514991611882735 and parameters: {'max_depth': 5, 'n_estimators': 45}. Best is trial 14 with value: -0.0514991611882735.\u001b[0m\n",
      "\u001b[32m[I 2021-08-04 21:10:15,095]\u001b[0m Trial 15 finished with value: -0.08768373141636099 and parameters: {'max_depth': 3, 'n_estimators': 24}. Best is trial 14 with value: -0.0514991611882735.\u001b[0m\n",
      "\u001b[32m[I 2021-08-04 21:10:15,497]\u001b[0m Trial 16 finished with value: -0.09904987035965566 and parameters: {'max_depth': 20, 'n_estimators': 29}. Best is trial 14 with value: -0.0514991611882735.\u001b[0m\n",
      "\u001b[32m[I 2021-08-04 21:10:15,699]\u001b[0m Trial 17 finished with value: -0.13016253900788585 and parameters: {'max_depth': 15, 'n_estimators': 19}. Best is trial 14 with value: -0.0514991611882735.\u001b[0m\n",
      "\u001b[32m[I 2021-08-04 21:10:16,222]\u001b[0m Trial 18 finished with value: -0.06881466005396568 and parameters: {'max_depth': 15, 'n_estimators': 43}. Best is trial 14 with value: -0.0514991611882735.\u001b[0m\n",
      "\u001b[32m[I 2021-08-04 21:10:16,568]\u001b[0m Trial 19 finished with value: -0.07817982085792526 and parameters: {'max_depth': 2, 'n_estimators': 39}. Best is trial 14 with value: -0.0514991611882735.\u001b[0m\n",
      "\u001b[32m[I 2021-08-04 21:10:17,041]\u001b[0m Trial 20 finished with value: -0.0823091187669619 and parameters: {'max_depth': 20, 'n_estimators': 39}. Best is trial 14 with value: -0.0514991611882735.\u001b[0m\n",
      "\u001b[32m[I 2021-08-04 21:10:17,623]\u001b[0m Trial 21 finished with value: -0.11225547067749415 and parameters: {'max_depth': 7, 'n_estimators': 41}. Best is trial 14 with value: -0.0514991611882735.\u001b[0m\n",
      "\u001b[32m[I 2021-08-04 21:10:17,939]\u001b[0m Trial 22 finished with value: -0.06810819924164631 and parameters: {'max_depth': 3, 'n_estimators': 25}. Best is trial 14 with value: -0.0514991611882735.\u001b[0m\n",
      "\u001b[32m[I 2021-08-04 21:10:18,190]\u001b[0m Trial 23 finished with value: -0.20666052193782045 and parameters: {'max_depth': 19, 'n_estimators': 18}. Best is trial 14 with value: -0.0514991611882735.\u001b[0m\n",
      "\u001b[32m[I 2021-08-04 21:10:18,312]\u001b[0m Trial 24 finished with value: -0.18830128781685493 and parameters: {'max_depth': 7, 'n_estimators': 10}. Best is trial 14 with value: -0.0514991611882735.\u001b[0m\n",
      "\u001b[32m[I 2021-08-04 21:10:18,600]\u001b[0m Trial 25 finished with value: -0.05968921799541308 and parameters: {'max_depth': 2, 'n_estimators': 36}. Best is trial 14 with value: -0.0514991611882735.\u001b[0m\n",
      "\u001b[32m[I 2021-08-04 21:10:18,817]\u001b[0m Trial 26 finished with value: -0.17933755642470417 and parameters: {'max_depth': 6, 'n_estimators': 17}. Best is trial 14 with value: -0.0514991611882735.\u001b[0m\n",
      "\u001b[32m[I 2021-08-04 21:10:18,893]\u001b[0m Trial 27 finished with value: -0.2801876106468773 and parameters: {'max_depth': 11, 'n_estimators': 7}. Best is trial 14 with value: -0.0514991611882735.\u001b[0m\n",
      "\u001b[32m[I 2021-08-04 21:10:19,007]\u001b[0m Trial 28 finished with value: -0.12972788125926593 and parameters: {'max_depth': 12, 'n_estimators': 11}. Best is trial 14 with value: -0.0514991611882735.\u001b[0m\n",
      "\u001b[32m[I 2021-08-04 21:10:19,484]\u001b[0m Trial 29 finished with value: -0.11611557887826729 and parameters: {'max_depth': 13, 'n_estimators': 37}. Best is trial 14 with value: -0.0514991611882735.\u001b[0m\n",
      "\u001b[32m[I 2021-08-04 21:10:19,725]\u001b[0m Trial 30 finished with value: -0.10623539473624936 and parameters: {'max_depth': 3, 'n_estimators': 24}. Best is trial 14 with value: -0.0514991611882735.\u001b[0m\n",
      "\u001b[32m[I 2021-08-04 21:10:20,118]\u001b[0m Trial 31 finished with value: -0.062116340803869075 and parameters: {'max_depth': 15, 'n_estimators': 24}. Best is trial 14 with value: -0.0514991611882735.\u001b[0m\n",
      "\u001b[32m[I 2021-08-04 21:10:20,414]\u001b[0m Trial 32 finished with value: -0.08144753493238947 and parameters: {'max_depth': 2, 'n_estimators': 29}. Best is trial 14 with value: -0.0514991611882735.\u001b[0m\n",
      "\u001b[32m[I 2021-08-04 21:10:20,716]\u001b[0m Trial 33 finished with value: -0.11662599755490093 and parameters: {'max_depth': 14, 'n_estimators': 28}. Best is trial 14 with value: -0.0514991611882735.\u001b[0m\n",
      "\u001b[32m[I 2021-08-04 21:10:21,121]\u001b[0m Trial 34 finished with value: -0.10983232868894317 and parameters: {'max_depth': 19, 'n_estimators': 31}. Best is trial 14 with value: -0.0514991611882735.\u001b[0m\n",
      "\u001b[32m[I 2021-08-04 21:10:21,262]\u001b[0m Trial 35 finished with value: -0.27434928385686197 and parameters: {'max_depth': 19, 'n_estimators': 11}. Best is trial 14 with value: -0.0514991611882735.\u001b[0m\n",
      "\u001b[32m[I 2021-08-04 21:10:21,591]\u001b[0m Trial 36 finished with value: -0.11073821422407311 and parameters: {'max_depth': 4, 'n_estimators': 42}. Best is trial 14 with value: -0.0514991611882735.\u001b[0m\n",
      "\u001b[32m[I 2021-08-04 21:10:21,709]\u001b[0m Trial 37 finished with value: -0.14637999186888276 and parameters: {'max_depth': 9, 'n_estimators': 12}. Best is trial 14 with value: -0.0514991611882735.\u001b[0m\n",
      "\u001b[32m[I 2021-08-04 21:10:21,931]\u001b[0m Trial 38 finished with value: -0.10120428385103782 and parameters: {'max_depth': 19, 'n_estimators': 20}. Best is trial 14 with value: -0.0514991611882735.\u001b[0m\n",
      "\u001b[32m[I 2021-08-04 21:10:22,313]\u001b[0m Trial 39 finished with value: -0.16232175201801904 and parameters: {'max_depth': 16, 'n_estimators': 38}. Best is trial 14 with value: -0.0514991611882735.\u001b[0m\n",
      "\u001b[32m[I 2021-08-04 21:10:22,703]\u001b[0m Trial 40 finished with value: -0.09541992536381975 and parameters: {'max_depth': 18, 'n_estimators': 33}. Best is trial 14 with value: -0.0514991611882735.\u001b[0m\n",
      "\u001b[32m[I 2021-08-04 21:10:22,956]\u001b[0m Trial 41 finished with value: -0.14232976209436457 and parameters: {'max_depth': 16, 'n_estimators': 21}. Best is trial 14 with value: -0.0514991611882735.\u001b[0m\n",
      "\u001b[32m[I 2021-08-04 21:10:23,498]\u001b[0m Trial 42 finished with value: -0.11197152211903756 and parameters: {'max_depth': 7, 'n_estimators': 46}. Best is trial 14 with value: -0.0514991611882735.\u001b[0m\n",
      "\u001b[32m[I 2021-08-04 21:10:24,030]\u001b[0m Trial 43 finished with value: -0.09643984787318871 and parameters: {'max_depth': 10, 'n_estimators': 49}. Best is trial 14 with value: -0.0514991611882735.\u001b[0m\n",
      "\u001b[32m[I 2021-08-04 21:10:24,408]\u001b[0m Trial 44 finished with value: -0.12301040952873359 and parameters: {'max_depth': 14, 'n_estimators': 33}. Best is trial 14 with value: -0.0514991611882735.\u001b[0m\n",
      "\u001b[32m[I 2021-08-04 21:10:24,853]\u001b[0m Trial 45 finished with value: -0.11531724277115789 and parameters: {'max_depth': 4, 'n_estimators': 48}. Best is trial 14 with value: -0.0514991611882735.\u001b[0m\n",
      "\u001b[32m[I 2021-08-04 21:10:25,314]\u001b[0m Trial 46 finished with value: -0.09876292969488754 and parameters: {'max_depth': 10, 'n_estimators': 31}. Best is trial 14 with value: -0.0514991611882735.\u001b[0m\n",
      "\u001b[32m[I 2021-08-04 21:10:25,654]\u001b[0m Trial 47 finished with value: -0.16048009785455944 and parameters: {'max_depth': 9, 'n_estimators': 15}. Best is trial 14 with value: -0.0514991611882735.\u001b[0m\n",
      "\u001b[32m[I 2021-08-04 21:10:26,326]\u001b[0m Trial 48 finished with value: -0.19281971927130961 and parameters: {'max_depth': 19, 'n_estimators': 31}. Best is trial 14 with value: -0.0514991611882735.\u001b[0m\n",
      "\u001b[32m[I 2021-08-04 21:10:26,834]\u001b[0m Trial 49 finished with value: -0.07919793925848857 and parameters: {'max_depth': 2, 'n_estimators': 33}. Best is trial 14 with value: -0.0514991611882735.\u001b[0m\n",
      "\u001b[32m[I 2021-08-04 21:10:27,362]\u001b[0m Trial 50 finished with value: -0.1434973519588174 and parameters: {'max_depth': 8, 'n_estimators': 29}. Best is trial 14 with value: -0.0514991611882735.\u001b[0m\n",
      "\u001b[32m[I 2021-08-04 21:10:27,782]\u001b[0m Trial 51 finished with value: -0.17248915272477025 and parameters: {'max_depth': 18, 'n_estimators': 21}. Best is trial 14 with value: -0.0514991611882735.\u001b[0m\n",
      "\u001b[32m[I 2021-08-04 21:10:28,469]\u001b[0m Trial 52 finished with value: -0.060486590566532716 and parameters: {'max_depth': 19, 'n_estimators': 33}. Best is trial 14 with value: -0.0514991611882735.\u001b[0m\n",
      "\u001b[32m[I 2021-08-04 21:10:29,177]\u001b[0m Trial 53 finished with value: -0.03963000084842453 and parameters: {'max_depth': 2, 'n_estimators': 47}. Best is trial 53 with value: -0.03963000084842453.\u001b[0m\n",
      "\u001b[32m[I 2021-08-04 21:10:30,321]\u001b[0m Trial 54 finished with value: -0.07714370261862742 and parameters: {'max_depth': 15, 'n_estimators': 50}. Best is trial 53 with value: -0.03963000084842453.\u001b[0m\n",
      "\u001b[32m[I 2021-08-04 21:10:30,553]\u001b[0m Trial 55 finished with value: -0.21245074745300774 and parameters: {'max_depth': 5, 'n_estimators': 11}. Best is trial 53 with value: -0.03963000084842453.\u001b[0m\n",
      "\u001b[32m[I 2021-08-04 21:10:31,334]\u001b[0m Trial 56 finished with value: -0.14908148977391802 and parameters: {'max_depth': 19, 'n_estimators': 37}. Best is trial 53 with value: -0.03963000084842453.\u001b[0m\n",
      "\u001b[32m[I 2021-08-04 21:10:31,883]\u001b[0m Trial 57 finished with value: -0.05833586398588545 and parameters: {'max_depth': 3, 'n_estimators': 39}. Best is trial 53 with value: -0.03963000084842453.\u001b[0m\n",
      "\u001b[32m[I 2021-08-04 21:10:32,381]\u001b[0m Trial 58 finished with value: -0.11377574587131134 and parameters: {'max_depth': 16, 'n_estimators': 47}. Best is trial 53 with value: -0.03963000084842453.\u001b[0m\n",
      "\u001b[32m[I 2021-08-04 21:10:32,488]\u001b[0m Trial 59 finished with value: -0.12406524361546041 and parameters: {'max_depth': 15, 'n_estimators': 10}. Best is trial 53 with value: -0.03963000084842453.\u001b[0m\n",
      "\u001b[32m[I 2021-08-04 21:10:32,540]\u001b[0m Trial 60 finished with value: -0.12593512294231327 and parameters: {'max_depth': 2, 'n_estimators': 6}. Best is trial 53 with value: -0.03963000084842453.\u001b[0m\n",
      "\u001b[32m[I 2021-08-04 21:10:32,681]\u001b[0m Trial 61 finished with value: -0.07702787811905328 and parameters: {'max_depth': 2, 'n_estimators': 16}. Best is trial 53 with value: -0.03963000084842453.\u001b[0m\n",
      "\u001b[32m[I 2021-08-04 21:10:33,031]\u001b[0m Trial 62 finished with value: -0.12474453501386588 and parameters: {'max_depth': 18, 'n_estimators': 29}. Best is trial 53 with value: -0.03963000084842453.\u001b[0m\n",
      "\u001b[32m[I 2021-08-04 21:10:33,437]\u001b[0m Trial 63 finished with value: -0.11927696449868552 and parameters: {'max_depth': 12, 'n_estimators': 43}. Best is trial 53 with value: -0.03963000084842453.\u001b[0m\n",
      "\u001b[32m[I 2021-08-04 21:10:33,571]\u001b[0m Trial 64 finished with value: -0.2030001037506378 and parameters: {'max_depth': 4, 'n_estimators': 17}. Best is trial 53 with value: -0.03963000084842453.\u001b[0m\n",
      "\u001b[32m[I 2021-08-04 21:10:34,044]\u001b[0m Trial 65 finished with value: -0.10443296639598405 and parameters: {'max_depth': 13, 'n_estimators': 49}. Best is trial 53 with value: -0.03963000084842453.\u001b[0m\n",
      "\u001b[32m[I 2021-08-04 21:10:34,117]\u001b[0m Trial 66 finished with value: -0.27767395210722084 and parameters: {'max_depth': 12, 'n_estimators': 5}. Best is trial 53 with value: -0.03963000084842453.\u001b[0m\n",
      "\u001b[32m[I 2021-08-04 21:10:34,282]\u001b[0m Trial 67 finished with value: -0.22020588132951846 and parameters: {'max_depth': 17, 'n_estimators': 15}. Best is trial 53 with value: -0.03963000084842453.\u001b[0m\n",
      "\u001b[32m[I 2021-08-04 21:10:34,533]\u001b[0m Trial 68 finished with value: -0.11100867718737255 and parameters: {'max_depth': 17, 'n_estimators': 22}. Best is trial 53 with value: -0.03963000084842453.\u001b[0m\n",
      "\u001b[32m[I 2021-08-04 21:10:34,944]\u001b[0m Trial 69 finished with value: -0.12188138250773355 and parameters: {'max_depth': 18, 'n_estimators': 39}. Best is trial 53 with value: -0.03963000084842453.\u001b[0m\n",
      "\u001b[32m[I 2021-08-04 21:10:35,141]\u001b[0m Trial 70 finished with value: -0.18254022489987123 and parameters: {'max_depth': 12, 'n_estimators': 11}. Best is trial 53 with value: -0.03963000084842453.\u001b[0m\n",
      "\u001b[32m[I 2021-08-04 21:10:35,239]\u001b[0m Trial 71 finished with value: -0.1258640435160913 and parameters: {'max_depth': 3, 'n_estimators': 10}. Best is trial 53 with value: -0.03963000084842453.\u001b[0m\n",
      "\u001b[32m[I 2021-08-04 21:10:35,310]\u001b[0m Trial 72 finished with value: -0.18385430786891463 and parameters: {'max_depth': 2, 'n_estimators': 9}. Best is trial 53 with value: -0.03963000084842453.\u001b[0m\n",
      "\u001b[32m[I 2021-08-04 21:10:35,616]\u001b[0m Trial 73 finished with value: -0.12258506803431572 and parameters: {'max_depth': 6, 'n_estimators': 37}. Best is trial 53 with value: -0.03963000084842453.\u001b[0m\n",
      "\u001b[32m[I 2021-08-04 21:10:35,673]\u001b[0m Trial 74 finished with value: -0.2721657846279902 and parameters: {'max_depth': 12, 'n_estimators': 5}. Best is trial 53 with value: -0.03963000084842453.\u001b[0m\n",
      "\u001b[32m[I 2021-08-04 21:10:36,022]\u001b[0m Trial 75 finished with value: -0.17203593638083226 and parameters: {'max_depth': 3, 'n_estimators': 49}. Best is trial 53 with value: -0.03963000084842453.\u001b[0m\n",
      "\u001b[32m[I 2021-08-04 21:10:36,175]\u001b[0m Trial 76 finished with value: -0.08948733471996528 and parameters: {'max_depth': 12, 'n_estimators': 14}. Best is trial 53 with value: -0.03963000084842453.\u001b[0m\n",
      "\u001b[32m[I 2021-08-04 21:10:36,538]\u001b[0m Trial 77 finished with value: -0.07691528466189738 and parameters: {'max_depth': 6, 'n_estimators': 39}. Best is trial 53 with value: -0.03963000084842453.\u001b[0m\n",
      "\u001b[32m[I 2021-08-04 21:10:36,797]\u001b[0m Trial 78 finished with value: -0.14392143199520624 and parameters: {'max_depth': 5, 'n_estimators': 31}. Best is trial 53 with value: -0.03963000084842453.\u001b[0m\n",
      "\u001b[32m[I 2021-08-04 21:10:37,500]\u001b[0m Trial 79 finished with value: -0.13974303371498062 and parameters: {'max_depth': 20, 'n_estimators': 43}. Best is trial 53 with value: -0.03963000084842453.\u001b[0m\n",
      "\u001b[32m[I 2021-08-04 21:10:37,837]\u001b[0m Trial 80 finished with value: -0.13710028974804098 and parameters: {'max_depth': 6, 'n_estimators': 27}. Best is trial 53 with value: -0.03963000084842453.\u001b[0m\n",
      "\u001b[32m[I 2021-08-04 21:10:38,264]\u001b[0m Trial 81 finished with value: -0.14050455068867693 and parameters: {'max_depth': 13, 'n_estimators': 43}. Best is trial 53 with value: -0.03963000084842453.\u001b[0m\n",
      "\u001b[32m[I 2021-08-04 21:10:38,327]\u001b[0m Trial 82 finished with value: -0.15251630578445016 and parameters: {'max_depth': 4, 'n_estimators': 5}. Best is trial 53 with value: -0.03963000084842453.\u001b[0m\n",
      "\u001b[32m[I 2021-08-04 21:10:38,550]\u001b[0m Trial 83 finished with value: -0.09786862464756056 and parameters: {'max_depth': 3, 'n_estimators': 27}. Best is trial 53 with value: -0.03963000084842453.\u001b[0m\n",
      "\u001b[32m[I 2021-08-04 21:10:38,872]\u001b[0m Trial 84 finished with value: -0.09734461999779202 and parameters: {'max_depth': 13, 'n_estimators': 31}. Best is trial 53 with value: -0.03963000084842453.\u001b[0m\n",
      "\u001b[32m[I 2021-08-04 21:10:39,374]\u001b[0m Trial 85 finished with value: -0.114346700752749 and parameters: {'max_depth': 8, 'n_estimators': 50}. Best is trial 53 with value: -0.03963000084842453.\u001b[0m\n",
      "\u001b[32m[I 2021-08-04 21:10:39,637]\u001b[0m Trial 86 finished with value: -0.10205829732898741 and parameters: {'max_depth': 13, 'n_estimators': 22}. Best is trial 53 with value: -0.03963000084842453.\u001b[0m\n",
      "\u001b[32m[I 2021-08-04 21:10:40,113]\u001b[0m Trial 87 finished with value: -0.16427003937508067 and parameters: {'max_depth': 12, 'n_estimators': 39}. Best is trial 53 with value: -0.03963000084842453.\u001b[0m\n",
      "\u001b[32m[I 2021-08-04 21:10:40,329]\u001b[0m Trial 88 finished with value: -0.12013001707624286 and parameters: {'max_depth': 14, 'n_estimators': 17}. Best is trial 53 with value: -0.03963000084842453.\u001b[0m\n",
      "\u001b[32m[I 2021-08-04 21:10:40,519]\u001b[0m Trial 89 finished with value: -0.09118245525941153 and parameters: {'max_depth': 3, 'n_estimators': 22}. Best is trial 53 with value: -0.03963000084842453.\u001b[0m\n",
      "\u001b[32m[I 2021-08-04 21:10:40,685]\u001b[0m Trial 90 finished with value: -0.2213458479975902 and parameters: {'max_depth': 13, 'n_estimators': 14}. Best is trial 53 with value: -0.03963000084842453.\u001b[0m\n",
      "\u001b[32m[I 2021-08-04 21:10:40,784]\u001b[0m Trial 91 finished with value: -0.14628339593608417 and parameters: {'max_depth': 16, 'n_estimators': 8}. Best is trial 53 with value: -0.03963000084842453.\u001b[0m\n",
      "\u001b[32m[I 2021-08-04 21:10:41,182]\u001b[0m Trial 92 finished with value: -0.16623779060645183 and parameters: {'max_depth': 6, 'n_estimators': 42}. Best is trial 53 with value: -0.03963000084842453.\u001b[0m\n",
      "\u001b[32m[I 2021-08-04 21:10:41,471]\u001b[0m Trial 93 finished with value: -0.13922817762405673 and parameters: {'max_depth': 5, 'n_estimators': 34}. Best is trial 53 with value: -0.03963000084842453.\u001b[0m\n",
      "\u001b[32m[I 2021-08-04 21:10:41,958]\u001b[0m Trial 94 finished with value: -0.10992185988381646 and parameters: {'max_depth': 11, 'n_estimators': 47}. Best is trial 53 with value: -0.03963000084842453.\u001b[0m\n",
      "\u001b[32m[I 2021-08-04 21:10:42,049]\u001b[0m Trial 95 finished with value: -0.14620266177986782 and parameters: {'max_depth': 7, 'n_estimators': 8}. Best is trial 53 with value: -0.03963000084842453.\u001b[0m\n",
      "\u001b[32m[I 2021-08-04 21:10:42,496]\u001b[0m Trial 96 finished with value: -0.06931707968924905 and parameters: {'max_depth': 15, 'n_estimators': 40}. Best is trial 53 with value: -0.03963000084842453.\u001b[0m\n",
      "\u001b[32m[I 2021-08-04 21:10:43,050]\u001b[0m Trial 97 finished with value: -0.12432085046832071 and parameters: {'max_depth': 19, 'n_estimators': 47}. Best is trial 53 with value: -0.03963000084842453.\u001b[0m\n",
      "\u001b[32m[I 2021-08-04 21:10:43,190]\u001b[0m Trial 98 finished with value: -0.07175531885337934 and parameters: {'max_depth': 2, 'n_estimators': 15}. Best is trial 53 with value: -0.03963000084842453.\u001b[0m\n",
      "\u001b[32m[I 2021-08-04 21:10:43,714]\u001b[0m Trial 99 finished with value: -0.13636959925288505 and parameters: {'max_depth': 13, 'n_estimators': 48}. Best is trial 53 with value: -0.03963000084842453.\u001b[0m\n",
      "\u001b[32m[I 2021-08-04 21:10:43,811]\u001b[0m A new study created in memory with name: no-name-79541187-82bc-4075-9d72-7bd0005eaf41\u001b[0m\n"
     ]
    },
    {
     "name": "stdout",
     "output_type": "stream",
     "text": [
      "Time for preparing Random Forest result:  0.55  minutes\n"
     ]
    },
    {
     "name": "stderr",
     "output_type": "stream",
     "text": [
      "\u001b[32m[I 2021-08-04 21:10:46,187]\u001b[0m Trial 0 finished with value: -2.4302235877178754e+27 and parameters: {'lambda': 0.04656804637919568, 'alpha': 0.7608481233714796, 'subsample': 1, 'learning_rate': 3.9676807746319573, 'n_estimators': 29, 'max_depth': 9}. Best is trial 0 with value: -2.4302235877178754e+27.\u001b[0m\n",
      "\u001b[32m[I 2021-08-04 21:11:44,873]\u001b[0m Trial 1 finished with value: -6708015569.052054 and parameters: {'lambda': 0.5506529897945993, 'alpha': 0.0065736866551383355, 'subsample': 0.4, 'learning_rate': 1.9810229098338972, 'n_estimators': 41, 'max_depth': 20}. Best is trial 1 with value: -6708015569.052054.\u001b[0m\n",
      "\u001b[32m[I 2021-08-04 21:12:35,001]\u001b[0m Trial 2 finished with value: -6.52275664507162 and parameters: {'lambda': 0.017934807211789795, 'alpha': 0.5878824056644089, 'subsample': 0.5, 'learning_rate': 0.9834773548621626, 'n_estimators': 24, 'max_depth': 20}. Best is trial 2 with value: -6.52275664507162.\u001b[0m\n",
      "\u001b[32m[I 2021-08-04 21:13:00,937]\u001b[0m Trial 3 finished with value: -2.156555962792488e+27 and parameters: {'lambda': 0.13572540301313674, 'alpha': 0.5854751355295726, 'subsample': 1, 'learning_rate': 7.48165906214185, 'n_estimators': 17, 'max_depth': 16}. Best is trial 2 with value: -6.52275664507162.\u001b[0m\n",
      "\u001b[32m[I 2021-08-04 21:13:04,053]\u001b[0m Trial 4 finished with value: -268455656.61644286 and parameters: {'lambda': 0.0025876410154210506, 'alpha': 0.06188339116517528, 'subsample': 0.4, 'learning_rate': 2.1162890437194304, 'n_estimators': 17, 'max_depth': 11}. Best is trial 2 with value: -6.52275664507162.\u001b[0m\n",
      "\u001b[32m[I 2021-08-04 21:13:04,697]\u001b[0m Trial 5 finished with value: -81411445.2629544 and parameters: {'lambda': 0.0016347456126376775, 'alpha': 0.19791122273579098, 'subsample': 0.6, 'learning_rate': 4.141798553476331, 'n_estimators': 7, 'max_depth': 12}. Best is trial 2 with value: -6.52275664507162.\u001b[0m\n",
      "\u001b[32m[I 2021-08-04 21:13:05,504]\u001b[0m Trial 6 finished with value: -399044506830.364 and parameters: {'lambda': 0.4520417846924667, 'alpha': 0.1146981592800689, 'subsample': 0.4, 'learning_rate': 3.9767743930869663, 'n_estimators': 12, 'max_depth': 19}. Best is trial 2 with value: -6.52275664507162.\u001b[0m\n",
      "\u001b[32m[I 2021-08-04 21:13:08,487]\u001b[0m Trial 7 finished with value: -4.3371992948695624e+43 and parameters: {'lambda': 0.024607270252848982, 'alpha': 1.007507789478522, 'subsample': 0.5, 'learning_rate': 8.958863223098486, 'n_estimators': 24, 'max_depth': 20}. Best is trial 2 with value: -6.52275664507162.\u001b[0m\n",
      "\u001b[32m[I 2021-08-04 21:13:08,713]\u001b[0m Trial 8 finished with value: -1.555378723549239e+56 and parameters: {'lambda': 0.4505738586601557, 'alpha': 0.30674880592760007, 'subsample': 0.5, 'learning_rate': 9.033796171827332, 'n_estimators': 31, 'max_depth': 2}. Best is trial 2 with value: -6.52275664507162.\u001b[0m\n",
      "\u001b[32m[I 2021-08-04 21:13:12,694]\u001b[0m Trial 9 finished with value: -4.798963713945735e+65 and parameters: {'lambda': 0.29415731618103047, 'alpha': 0.020257208916786396, 'subsample': 0.7, 'learning_rate': 9.294373043065276, 'n_estimators': 36, 'max_depth': 20}. Best is trial 2 with value: -6.52275664507162.\u001b[0m\n",
      "\u001b[32m[I 2021-08-04 21:13:13,362]\u001b[0m Trial 10 finished with value: -1.3620666055949494e+16 and parameters: {'lambda': 0.004890598759712444, 'alpha': 0.0035362503098265463, 'subsample': 0.4, 'learning_rate': 7.115250471037131, 'n_estimators': 10, 'max_depth': 2}. Best is trial 2 with value: -6.52275664507162.\u001b[0m\n",
      "\u001b[32m[I 2021-08-04 21:13:18,109]\u001b[0m Trial 11 finished with value: -1.7468991627166092e+21 and parameters: {'lambda': 0.0012730455628270146, 'alpha': 0.0012978543350941603, 'subsample': 0.5, 'learning_rate': 2.791843998274605, 'n_estimators': 31, 'max_depth': 20}. Best is trial 2 with value: -6.52275664507162.\u001b[0m\n",
      "\u001b[32m[I 2021-08-04 21:13:19,882]\u001b[0m Trial 12 finished with value: -723185629316503.8 and parameters: {'lambda': 0.17543687266950117, 'alpha': 0.0011873784361629382, 'subsample': 0.8, 'learning_rate': 5.562406777501849, 'n_estimators': 11, 'max_depth': 3}. Best is trial 2 with value: -6.52275664507162.\u001b[0m\n",
      "\u001b[32m[I 2021-08-04 21:13:27,310]\u001b[0m Trial 13 finished with value: -2.77353720934382e+58 and parameters: {'lambda': 0.0030575517966437487, 'alpha': 0.0015073271237666692, 'subsample': 0.6, 'learning_rate': 9.672763627239421, 'n_estimators': 31, 'max_depth': 5}. Best is trial 2 with value: -6.52275664507162.\u001b[0m\n",
      "\u001b[32m[I 2021-08-04 21:13:43,077]\u001b[0m Trial 14 finished with value: -7.776906645426862e+61 and parameters: {'lambda': 0.010216519735616814, 'alpha': 0.9447206671751681, 'subsample': 0.6, 'learning_rate': 6.199560984256614, 'n_estimators': 43, 'max_depth': 4}. Best is trial 2 with value: -6.52275664507162.\u001b[0m\n",
      "\u001b[32m[I 2021-08-04 21:15:05,561]\u001b[0m Trial 15 finished with value: -1.892419061804403e+28 and parameters: {'lambda': 0.0011866012696984923, 'alpha': 0.0019058493785788955, 'subsample': 0.8, 'learning_rate': 3.801417924823778, 'n_estimators': 30, 'max_depth': 16}. Best is trial 2 with value: -6.52275664507162.\u001b[0m\n",
      "\u001b[32m[I 2021-08-04 21:15:42,854]\u001b[0m Trial 16 finished with value: -4.4756782200657336e+16 and parameters: {'lambda': 0.475260339393771, 'alpha': 0.011473032680323037, 'subsample': 0.8, 'learning_rate': 2.603158382634424, 'n_estimators': 42, 'max_depth': 5}. Best is trial 2 with value: -6.52275664507162.\u001b[0m\n",
      "\u001b[32m[I 2021-08-04 21:15:44,716]\u001b[0m Trial 17 finished with value: -3292688090.344631 and parameters: {'lambda': 0.3612796699732802, 'alpha': 0.12551084009485866, 'subsample': 0.4, 'learning_rate': 9.319721372247681, 'n_estimators': 5, 'max_depth': 6}. Best is trial 2 with value: -6.52275664507162.\u001b[0m\n",
      "\u001b[32m[I 2021-08-04 21:15:48,287]\u001b[0m Trial 18 finished with value: -6.595316107541047e+41 and parameters: {'lambda': 0.2931658828995314, 'alpha': 6.252666752282412, 'subsample': 0.4, 'learning_rate': 6.043108786094903, 'n_estimators': 30, 'max_depth': 19}. Best is trial 2 with value: -6.52275664507162.\u001b[0m\n",
      "/mnt/efs/home/glc8688/.local/lib/python3.6/site-packages/sklearn/model_selection/_validation.py:700: UserWarning: Scoring failed. The score on this train-test partition for these parameters will be set to nan. Details: \n",
      "Traceback (most recent call last):\n",
      "  File \"/mnt/efs/home/glc8688/.local/lib/python3.6/site-packages/sklearn/model_selection/_validation.py\", line 687, in _score\n",
      "    scores = scorer(estimator, X_test, y_test)\n",
      "  File \"/mnt/efs/home/glc8688/.local/lib/python3.6/site-packages/sklearn/metrics/_scorer.py\", line 90, in __call__\n",
      "    score = scorer(estimator, *args, **kwargs)\n",
      "  File \"/mnt/efs/home/glc8688/.local/lib/python3.6/site-packages/sklearn/metrics/_scorer.py\", line 397, in _passthrough_scorer\n",
      "    return estimator.score(*args, **kwargs)\n",
      "  File \"/mnt/efs/home/glc8688/.local/lib/python3.6/site-packages/sklearn/base.py\", line 554, in score\n",
      "    return r2_score(y, y_pred, sample_weight=sample_weight)\n",
      "  File \"/mnt/efs/home/glc8688/.local/lib/python3.6/site-packages/sklearn/utils/validation.py\", line 63, in inner_f\n",
      "    return f(*args, **kwargs)\n",
      "  File \"/mnt/efs/home/glc8688/.local/lib/python3.6/site-packages/sklearn/metrics/_regression.py\", line 677, in r2_score\n",
      "    y_true, y_pred, multioutput)\n",
      "  File \"/mnt/efs/home/glc8688/.local/lib/python3.6/site-packages/sklearn/metrics/_regression.py\", line 90, in _check_reg_targets\n",
      "    y_pred = check_array(y_pred, ensure_2d=False, dtype=dtype)\n",
      "  File \"/mnt/efs/home/glc8688/.local/lib/python3.6/site-packages/sklearn/utils/validation.py\", line 63, in inner_f\n",
      "    return f(*args, **kwargs)\n",
      "  File \"/mnt/efs/home/glc8688/.local/lib/python3.6/site-packages/sklearn/utils/validation.py\", line 721, in check_array\n",
      "    allow_nan=force_all_finite == 'allow-nan')\n",
      "  File \"/mnt/efs/home/glc8688/.local/lib/python3.6/site-packages/sklearn/utils/validation.py\", line 106, in _assert_all_finite\n",
      "    msg_dtype if msg_dtype is not None else X.dtype)\n",
      "ValueError: Input contains NaN, infinity or a value too large for dtype('float32').\n",
      "\n",
      "  UserWarning,\n",
      "/mnt/efs/home/glc8688/.local/lib/python3.6/site-packages/sklearn/model_selection/_validation.py:700: UserWarning: Scoring failed. The score on this train-test partition for these parameters will be set to nan. Details: \n",
      "Traceback (most recent call last):\n",
      "  File \"/mnt/efs/home/glc8688/.local/lib/python3.6/site-packages/sklearn/model_selection/_validation.py\", line 687, in _score\n",
      "    scores = scorer(estimator, X_test, y_test)\n",
      "  File \"/mnt/efs/home/glc8688/.local/lib/python3.6/site-packages/sklearn/metrics/_scorer.py\", line 90, in __call__\n",
      "    score = scorer(estimator, *args, **kwargs)\n",
      "  File \"/mnt/efs/home/glc8688/.local/lib/python3.6/site-packages/sklearn/metrics/_scorer.py\", line 397, in _passthrough_scorer\n",
      "    return estimator.score(*args, **kwargs)\n",
      "  File \"/mnt/efs/home/glc8688/.local/lib/python3.6/site-packages/sklearn/base.py\", line 554, in score\n",
      "    return r2_score(y, y_pred, sample_weight=sample_weight)\n",
      "  File \"/mnt/efs/home/glc8688/.local/lib/python3.6/site-packages/sklearn/utils/validation.py\", line 63, in inner_f\n",
      "    return f(*args, **kwargs)\n",
      "  File \"/mnt/efs/home/glc8688/.local/lib/python3.6/site-packages/sklearn/metrics/_regression.py\", line 677, in r2_score\n",
      "    y_true, y_pred, multioutput)\n",
      "  File \"/mnt/efs/home/glc8688/.local/lib/python3.6/site-packages/sklearn/metrics/_regression.py\", line 90, in _check_reg_targets\n",
      "    y_pred = check_array(y_pred, ensure_2d=False, dtype=dtype)\n",
      "  File \"/mnt/efs/home/glc8688/.local/lib/python3.6/site-packages/sklearn/utils/validation.py\", line 63, in inner_f\n",
      "    return f(*args, **kwargs)\n",
      "  File \"/mnt/efs/home/glc8688/.local/lib/python3.6/site-packages/sklearn/utils/validation.py\", line 721, in check_array\n",
      "    allow_nan=force_all_finite == 'allow-nan')\n",
      "  File \"/mnt/efs/home/glc8688/.local/lib/python3.6/site-packages/sklearn/utils/validation.py\", line 106, in _assert_all_finite\n",
      "    msg_dtype if msg_dtype is not None else X.dtype)\n",
      "ValueError: Input contains NaN, infinity or a value too large for dtype('float32').\n",
      "\n",
      "  UserWarning,\n",
      "/mnt/efs/home/glc8688/.local/lib/python3.6/site-packages/sklearn/model_selection/_validation.py:700: UserWarning: Scoring failed. The score on this train-test partition for these parameters will be set to nan. Details: \n",
      "Traceback (most recent call last):\n",
      "  File \"/mnt/efs/home/glc8688/.local/lib/python3.6/site-packages/sklearn/model_selection/_validation.py\", line 687, in _score\n",
      "    scores = scorer(estimator, X_test, y_test)\n",
      "  File \"/mnt/efs/home/glc8688/.local/lib/python3.6/site-packages/sklearn/metrics/_scorer.py\", line 90, in __call__\n",
      "    score = scorer(estimator, *args, **kwargs)\n",
      "  File \"/mnt/efs/home/glc8688/.local/lib/python3.6/site-packages/sklearn/metrics/_scorer.py\", line 397, in _passthrough_scorer\n",
      "    return estimator.score(*args, **kwargs)\n",
      "  File \"/mnt/efs/home/glc8688/.local/lib/python3.6/site-packages/sklearn/base.py\", line 554, in score\n",
      "    return r2_score(y, y_pred, sample_weight=sample_weight)\n",
      "  File \"/mnt/efs/home/glc8688/.local/lib/python3.6/site-packages/sklearn/utils/validation.py\", line 63, in inner_f\n",
      "    return f(*args, **kwargs)\n",
      "  File \"/mnt/efs/home/glc8688/.local/lib/python3.6/site-packages/sklearn/metrics/_regression.py\", line 677, in r2_score\n",
      "    y_true, y_pred, multioutput)\n",
      "  File \"/mnt/efs/home/glc8688/.local/lib/python3.6/site-packages/sklearn/metrics/_regression.py\", line 90, in _check_reg_targets\n",
      "    y_pred = check_array(y_pred, ensure_2d=False, dtype=dtype)\n",
      "  File \"/mnt/efs/home/glc8688/.local/lib/python3.6/site-packages/sklearn/utils/validation.py\", line 63, in inner_f\n",
      "    return f(*args, **kwargs)\n",
      "  File \"/mnt/efs/home/glc8688/.local/lib/python3.6/site-packages/sklearn/utils/validation.py\", line 721, in check_array\n",
      "    allow_nan=force_all_finite == 'allow-nan')\n",
      "  File \"/mnt/efs/home/glc8688/.local/lib/python3.6/site-packages/sklearn/utils/validation.py\", line 106, in _assert_all_finite\n",
      "    msg_dtype if msg_dtype is not None else X.dtype)\n",
      "ValueError: Input contains NaN, infinity or a value too large for dtype('float32').\n",
      "\n",
      "  UserWarning,\n",
      "\u001b[33m[W 2021-08-04 21:15:49,749]\u001b[0m Trial 19 failed, because the objective function returned nan.\u001b[0m\n",
      "/mnt/efs/home/glc8688/.local/lib/python3.6/site-packages/sklearn/model_selection/_validation.py:700: UserWarning: Scoring failed. The score on this train-test partition for these parameters will be set to nan. Details: \n",
      "Traceback (most recent call last):\n",
      "  File \"/mnt/efs/home/glc8688/.local/lib/python3.6/site-packages/sklearn/model_selection/_validation.py\", line 687, in _score\n",
      "    scores = scorer(estimator, X_test, y_test)\n",
      "  File \"/mnt/efs/home/glc8688/.local/lib/python3.6/site-packages/sklearn/metrics/_scorer.py\", line 90, in __call__\n",
      "    score = scorer(estimator, *args, **kwargs)\n",
      "  File \"/mnt/efs/home/glc8688/.local/lib/python3.6/site-packages/sklearn/metrics/_scorer.py\", line 397, in _passthrough_scorer\n",
      "    return estimator.score(*args, **kwargs)\n",
      "  File \"/mnt/efs/home/glc8688/.local/lib/python3.6/site-packages/sklearn/base.py\", line 554, in score\n",
      "    return r2_score(y, y_pred, sample_weight=sample_weight)\n",
      "  File \"/mnt/efs/home/glc8688/.local/lib/python3.6/site-packages/sklearn/utils/validation.py\", line 63, in inner_f\n",
      "    return f(*args, **kwargs)\n",
      "  File \"/mnt/efs/home/glc8688/.local/lib/python3.6/site-packages/sklearn/metrics/_regression.py\", line 677, in r2_score\n",
      "    y_true, y_pred, multioutput)\n",
      "  File \"/mnt/efs/home/glc8688/.local/lib/python3.6/site-packages/sklearn/metrics/_regression.py\", line 90, in _check_reg_targets\n",
      "    y_pred = check_array(y_pred, ensure_2d=False, dtype=dtype)\n",
      "  File \"/mnt/efs/home/glc8688/.local/lib/python3.6/site-packages/sklearn/utils/validation.py\", line 63, in inner_f\n",
      "    return f(*args, **kwargs)\n",
      "  File \"/mnt/efs/home/glc8688/.local/lib/python3.6/site-packages/sklearn/utils/validation.py\", line 721, in check_array\n",
      "    allow_nan=force_all_finite == 'allow-nan')\n",
      "  File \"/mnt/efs/home/glc8688/.local/lib/python3.6/site-packages/sklearn/utils/validation.py\", line 106, in _assert_all_finite\n",
      "    msg_dtype if msg_dtype is not None else X.dtype)\n",
      "ValueError: Input contains NaN, infinity or a value too large for dtype('float32').\n",
      "\n",
      "  UserWarning,\n",
      "/mnt/efs/home/glc8688/.local/lib/python3.6/site-packages/sklearn/model_selection/_validation.py:700: UserWarning: Scoring failed. The score on this train-test partition for these parameters will be set to nan. Details: \n",
      "Traceback (most recent call last):\n",
      "  File \"/mnt/efs/home/glc8688/.local/lib/python3.6/site-packages/sklearn/model_selection/_validation.py\", line 687, in _score\n",
      "    scores = scorer(estimator, X_test, y_test)\n",
      "  File \"/mnt/efs/home/glc8688/.local/lib/python3.6/site-packages/sklearn/metrics/_scorer.py\", line 90, in __call__\n",
      "    score = scorer(estimator, *args, **kwargs)\n",
      "  File \"/mnt/efs/home/glc8688/.local/lib/python3.6/site-packages/sklearn/metrics/_scorer.py\", line 397, in _passthrough_scorer\n",
      "    return estimator.score(*args, **kwargs)\n",
      "  File \"/mnt/efs/home/glc8688/.local/lib/python3.6/site-packages/sklearn/base.py\", line 554, in score\n",
      "    return r2_score(y, y_pred, sample_weight=sample_weight)\n",
      "  File \"/mnt/efs/home/glc8688/.local/lib/python3.6/site-packages/sklearn/utils/validation.py\", line 63, in inner_f\n",
      "    return f(*args, **kwargs)\n",
      "  File \"/mnt/efs/home/glc8688/.local/lib/python3.6/site-packages/sklearn/metrics/_regression.py\", line 677, in r2_score\n",
      "    y_true, y_pred, multioutput)\n",
      "  File \"/mnt/efs/home/glc8688/.local/lib/python3.6/site-packages/sklearn/metrics/_regression.py\", line 90, in _check_reg_targets\n",
      "    y_pred = check_array(y_pred, ensure_2d=False, dtype=dtype)\n",
      "  File \"/mnt/efs/home/glc8688/.local/lib/python3.6/site-packages/sklearn/utils/validation.py\", line 63, in inner_f\n",
      "    return f(*args, **kwargs)\n",
      "  File \"/mnt/efs/home/glc8688/.local/lib/python3.6/site-packages/sklearn/utils/validation.py\", line 721, in check_array\n",
      "    allow_nan=force_all_finite == 'allow-nan')\n",
      "  File \"/mnt/efs/home/glc8688/.local/lib/python3.6/site-packages/sklearn/utils/validation.py\", line 106, in _assert_all_finite\n",
      "    msg_dtype if msg_dtype is not None else X.dtype)\n",
      "ValueError: Input contains NaN, infinity or a value too large for dtype('float32').\n",
      "\n",
      "  UserWarning,\n",
      "/mnt/efs/home/glc8688/.local/lib/python3.6/site-packages/sklearn/model_selection/_validation.py:700: UserWarning: Scoring failed. The score on this train-test partition for these parameters will be set to nan. Details: \n",
      "Traceback (most recent call last):\n",
      "  File \"/mnt/efs/home/glc8688/.local/lib/python3.6/site-packages/sklearn/model_selection/_validation.py\", line 687, in _score\n",
      "    scores = scorer(estimator, X_test, y_test)\n",
      "  File \"/mnt/efs/home/glc8688/.local/lib/python3.6/site-packages/sklearn/metrics/_scorer.py\", line 90, in __call__\n",
      "    score = scorer(estimator, *args, **kwargs)\n",
      "  File \"/mnt/efs/home/glc8688/.local/lib/python3.6/site-packages/sklearn/metrics/_scorer.py\", line 397, in _passthrough_scorer\n",
      "    return estimator.score(*args, **kwargs)\n",
      "  File \"/mnt/efs/home/glc8688/.local/lib/python3.6/site-packages/sklearn/base.py\", line 554, in score\n",
      "    return r2_score(y, y_pred, sample_weight=sample_weight)\n",
      "  File \"/mnt/efs/home/glc8688/.local/lib/python3.6/site-packages/sklearn/utils/validation.py\", line 63, in inner_f\n",
      "    return f(*args, **kwargs)\n",
      "  File \"/mnt/efs/home/glc8688/.local/lib/python3.6/site-packages/sklearn/metrics/_regression.py\", line 677, in r2_score\n",
      "    y_true, y_pred, multioutput)\n",
      "  File \"/mnt/efs/home/glc8688/.local/lib/python3.6/site-packages/sklearn/metrics/_regression.py\", line 90, in _check_reg_targets\n",
      "    y_pred = check_array(y_pred, ensure_2d=False, dtype=dtype)\n",
      "  File \"/mnt/efs/home/glc8688/.local/lib/python3.6/site-packages/sklearn/utils/validation.py\", line 63, in inner_f\n",
      "    return f(*args, **kwargs)\n",
      "  File \"/mnt/efs/home/glc8688/.local/lib/python3.6/site-packages/sklearn/utils/validation.py\", line 721, in check_array\n",
      "    allow_nan=force_all_finite == 'allow-nan')\n",
      "  File \"/mnt/efs/home/glc8688/.local/lib/python3.6/site-packages/sklearn/utils/validation.py\", line 106, in _assert_all_finite\n",
      "    msg_dtype if msg_dtype is not None else X.dtype)\n",
      "ValueError: Input contains NaN, infinity or a value too large for dtype('float32').\n",
      "\n",
      "  UserWarning,\n",
      "\u001b[33m[W 2021-08-04 21:16:12,799]\u001b[0m Trial 20 failed, because the objective function returned nan.\u001b[0m\n",
      "\u001b[32m[I 2021-08-04 21:16:37,174]\u001b[0m Trial 21 finished with value: -1.2818314826785711e+32 and parameters: {'lambda': 0.1532453354286054, 'alpha': 1.5646397687913267, 'subsample': 0.6, 'learning_rate': 8.073607215243126, 'n_estimators': 19, 'max_depth': 18}. Best is trial 2 with value: -6.52275664507162.\u001b[0m\n",
      "\u001b[32m[I 2021-08-04 21:17:27,540]\u001b[0m Trial 22 finished with value: -1.5819665943043848 and parameters: {'lambda': 0.20484664769405506, 'alpha': 0.005445538169665268, 'subsample': 1, 'learning_rate': 0.004030244893325418, 'n_estimators': 49, 'max_depth': 9}. Best is trial 22 with value: -1.5819665943043848.\u001b[0m\n",
      "\u001b[32m[I 2021-08-04 21:17:38,121]\u001b[0m Trial 23 finished with value: -1.5239136433610827e+64 and parameters: {'lambda': 7.854782311256979, 'alpha': 0.2623399333652149, 'subsample': 0.4, 'learning_rate': 8.58313978115206, 'n_estimators': 39, 'max_depth': 15}. Best is trial 22 with value: -1.5819665943043848.\u001b[0m\n",
      "\u001b[32m[I 2021-08-04 21:17:49,110]\u001b[0m Trial 24 finished with value: -2.830205689028693e+33 and parameters: {'lambda': 2.8702367463668423, 'alpha': 0.019530977843660452, 'subsample': 0.4, 'learning_rate': 6.219197460009335, 'n_estimators': 24, 'max_depth': 20}. Best is trial 22 with value: -1.5819665943043848.\u001b[0m\n",
      "\u001b[32m[I 2021-08-04 21:18:25,677]\u001b[0m Trial 25 finished with value: -10797668.43505361 and parameters: {'lambda': 0.5142846544210892, 'alpha': 0.006227009864501834, 'subsample': 0.8, 'learning_rate': 2.702089918214958, 'n_estimators': 16, 'max_depth': 18}. Best is trial 22 with value: -1.5819665943043848.\u001b[0m\n",
      "\u001b[32m[I 2021-08-04 21:18:39,477]\u001b[0m Trial 26 finished with value: -6081137.109479231 and parameters: {'lambda': 0.12907988958460484, 'alpha': 1.6167554589801854, 'subsample': 0.7, 'learning_rate': 3.426895652643738, 'n_estimators': 8, 'max_depth': 9}. Best is trial 22 with value: -1.5819665943043848.\u001b[0m\n",
      "\u001b[32m[I 2021-08-04 21:18:51,642]\u001b[0m Trial 27 finished with value: -1.0488664824938452e+23 and parameters: {'lambda': 0.002082113072104696, 'alpha': 8.536276125961484, 'subsample': 0.6, 'learning_rate': 4.668805558832835, 'n_estimators': 20, 'max_depth': 6}. Best is trial 22 with value: -1.5819665943043848.\u001b[0m\n",
      "\u001b[32m[I 2021-08-04 21:18:58,295]\u001b[0m Trial 28 finished with value: -4.124679012548297e+22 and parameters: {'lambda': 0.2344485089573862, 'alpha': 0.017745136761915567, 'subsample': 0.4, 'learning_rate': 7.285859393889282, 'n_estimators': 14, 'max_depth': 6}. Best is trial 22 with value: -1.5819665943043848.\u001b[0m\n",
      "\u001b[32m[I 2021-08-04 21:19:11,174]\u001b[0m Trial 29 finished with value: -7.948007688333199e+41 and parameters: {'lambda': 2.5508651456160276, 'alpha': 0.046067524243815015, 'subsample': 0.4, 'learning_rate': 6.218066099341837, 'n_estimators': 30, 'max_depth': 14}. Best is trial 22 with value: -1.5819665943043848.\u001b[0m\n",
      "\u001b[32m[I 2021-08-04 21:20:10,130]\u001b[0m Trial 30 finished with value: -7.52407097233692e+50 and parameters: {'lambda': 0.0037860135198760506, 'alpha': 1.0141711884709756, 'subsample': 1, 'learning_rate': 8.44709762892462, 'n_estimators': 29, 'max_depth': 18}. Best is trial 22 with value: -1.5819665943043848.\u001b[0m\n",
      "\u001b[32m[I 2021-08-04 21:20:55,221]\u001b[0m Trial 31 finished with value: -0.3632121946596129 and parameters: {'lambda': 6.298309025552824, 'alpha': 2.0212870358199466, 'subsample': 0.4, 'learning_rate': 0.3457218530041438, 'n_estimators': 40, 'max_depth': 15}. Best is trial 31 with value: -0.3632121946596129.\u001b[0m\n",
      "\u001b[32m[I 2021-08-04 21:21:27,109]\u001b[0m Trial 32 finished with value: -10893001.774781575 and parameters: {'lambda': 0.010934365156434535, 'alpha': 0.010672771102950371, 'subsample': 1, 'learning_rate': 3.0024903928556057, 'n_estimators': 11, 'max_depth': 19}. Best is trial 31 with value: -0.3632121946596129.\u001b[0m\n",
      "\u001b[32m[I 2021-08-04 21:21:47,635]\u001b[0m Trial 33 finished with value: -0.3990147302976834 and parameters: {'lambda': 0.14663495679358662, 'alpha': 7.924310484751164, 'subsample': 0.5, 'learning_rate': 0.2621954107780599, 'n_estimators': 12, 'max_depth': 16}. Best is trial 31 with value: -0.3632121946596129.\u001b[0m\n",
      "\u001b[32m[I 2021-08-04 21:21:56,624]\u001b[0m Trial 34 finished with value: -1.938447987346138e+27 and parameters: {'lambda': 0.0013231185544647758, 'alpha': 0.02925313322116129, 'subsample': 0.4, 'learning_rate': 9.897517179119976, 'n_estimators': 14, 'max_depth': 6}. Best is trial 31 with value: -0.3632121946596129.\u001b[0m\n",
      "\u001b[32m[I 2021-08-04 21:22:15,592]\u001b[0m Trial 35 finished with value: -0.33965117545371487 and parameters: {'lambda': 0.011186451269342292, 'alpha': 1.0015892466752698, 'subsample': 0.8, 'learning_rate': 0.27606984348491675, 'n_estimators': 32, 'max_depth': 18}. Best is trial 35 with value: -0.33965117545371487.\u001b[0m\n",
      "\u001b[32m[I 2021-08-04 21:22:20,552]\u001b[0m Trial 36 finished with value: -1.2596794126733924e+54 and parameters: {'lambda': 0.03342446743823905, 'alpha': 0.9986958447113337, 'subsample': 0.6, 'learning_rate': 4.650020165620245, 'n_estimators': 48, 'max_depth': 6}. Best is trial 35 with value: -0.33965117545371487.\u001b[0m\n",
      "\u001b[32m[I 2021-08-04 21:23:11,319]\u001b[0m Trial 37 finished with value: -2.385958082709274e+35 and parameters: {'lambda': 0.011702754074940334, 'alpha': 0.0021178532293689924, 'subsample': 0.7, 'learning_rate': 3.424547773894, 'n_estimators': 43, 'max_depth': 10}. Best is trial 35 with value: -0.33965117545371487.\u001b[0m\n",
      "\u001b[32m[I 2021-08-04 21:23:59,682]\u001b[0m Trial 38 finished with value: -0.34338027851885644 and parameters: {'lambda': 1.9771493743089537, 'alpha': 0.320615588749233, 'subsample': 0.8, 'learning_rate': 0.27784321065321105, 'n_estimators': 39, 'max_depth': 9}. Best is trial 35 with value: -0.33965117545371487.\u001b[0m\n",
      "\u001b[32m[I 2021-08-04 21:24:26,836]\u001b[0m Trial 39 finished with value: -0.3147430645077529 and parameters: {'lambda': 0.9721963414878035, 'alpha': 0.06450885106878369, 'subsample': 1, 'learning_rate': 0.3706201089298791, 'n_estimators': 40, 'max_depth': 4}. Best is trial 39 with value: -0.3147430645077529.\u001b[0m\n",
      "\u001b[32m[I 2021-08-04 21:24:41,856]\u001b[0m Trial 40 finished with value: -10.466115799959008 and parameters: {'lambda': 0.2978888635819283, 'alpha': 0.0011001630263565317, 'subsample': 0.6, 'learning_rate': 1.455590856001659, 'n_estimators': 12, 'max_depth': 5}. Best is trial 39 with value: -0.3147430645077529.\u001b[0m\n",
      "\u001b[32m[I 2021-08-04 21:25:05,191]\u001b[0m Trial 41 finished with value: -323.65312097373175 and parameters: {'lambda': 0.30901788032179633, 'alpha': 4.19989065918274, 'subsample': 0.4, 'learning_rate': 1.7343099735695209, 'n_estimators': 10, 'max_depth': 17}. Best is trial 39 with value: -0.3147430645077529.\u001b[0m\n",
      "\u001b[32m[I 2021-08-04 21:25:24,176]\u001b[0m Trial 42 finished with value: -3.936173654097698e+38 and parameters: {'lambda': 0.003865177953116771, 'alpha': 0.011407485644261544, 'subsample': 0.6, 'learning_rate': 9.107729204010063, 'n_estimators': 21, 'max_depth': 10}. Best is trial 39 with value: -0.3147430645077529.\u001b[0m\n",
      "\u001b[32m[I 2021-08-04 21:25:24,502]\u001b[0m Trial 43 finished with value: -4.042364717978716e+52 and parameters: {'lambda': 0.11198781446538054, 'alpha': 5.695684302987544, 'subsample': 0.6, 'learning_rate': 8.59489461376265, 'n_estimators': 30, 'max_depth': 15}. Best is trial 39 with value: -0.3147430645077529.\u001b[0m\n",
      "\u001b[32m[I 2021-08-04 21:25:25,137]\u001b[0m Trial 44 finished with value: -3.4714527860070016e+16 and parameters: {'lambda': 0.06477598113791476, 'alpha': 0.32601392473334284, 'subsample': 1, 'learning_rate': 4.264753620266075, 'n_estimators': 16, 'max_depth': 9}. Best is trial 39 with value: -0.3147430645077529.\u001b[0m\n",
      "\u001b[32m[I 2021-08-04 21:25:27,618]\u001b[0m Trial 45 finished with value: -5.494105229057098 and parameters: {'lambda': 5.338810015770855, 'alpha': 5.590794448273347, 'subsample': 0.5, 'learning_rate': 1.7476670159043524, 'n_estimators': 32, 'max_depth': 9}. Best is trial 39 with value: -0.3147430645077529.\u001b[0m\n",
      "\u001b[32m[I 2021-08-04 21:25:27,785]\u001b[0m Trial 46 finished with value: -3.735398626514336e+39 and parameters: {'lambda': 1.842493851666049, 'alpha': 0.0055020127578042505, 'subsample': 0.4, 'learning_rate': 6.641028912522381, 'n_estimators': 27, 'max_depth': 11}. Best is trial 39 with value: -0.3147430645077529.\u001b[0m\n",
      "\u001b[32m[I 2021-08-04 21:25:28,449]\u001b[0m Trial 47 finished with value: -0.27081804580351165 and parameters: {'lambda': 0.004998970805497907, 'alpha': 0.19180653780121973, 'subsample': 0.4, 'learning_rate': 0.3242729288813179, 'n_estimators': 9, 'max_depth': 3}. Best is trial 47 with value: -0.27081804580351165.\u001b[0m\n",
      "\u001b[32m[I 2021-08-04 21:25:28,973]\u001b[0m Trial 48 finished with value: -4.113260022940576e+39 and parameters: {'lambda': 0.06411100645500929, 'alpha': 0.0317496785529865, 'subsample': 0.4, 'learning_rate': 6.687331014739619, 'n_estimators': 26, 'max_depth': 2}. Best is trial 47 with value: -0.27081804580351165.\u001b[0m\n",
      "\u001b[32m[I 2021-08-04 21:25:29,596]\u001b[0m Trial 49 finished with value: -2.159452140455607e+34 and parameters: {'lambda': 0.025824049301461722, 'alpha': 0.09295809304774755, 'subsample': 1, 'learning_rate': 3.1995351812484034, 'n_estimators': 50, 'max_depth': 6}. Best is trial 47 with value: -0.27081804580351165.\u001b[0m\n",
      "\u001b[32m[I 2021-08-04 21:25:29,713]\u001b[0m Trial 50 finished with value: -8.410873123295552e+16 and parameters: {'lambda': 0.02263768966222278, 'alpha': 0.12461908054855882, 'subsample': 0.4, 'learning_rate': 7.701501861621359, 'n_estimators': 10, 'max_depth': 2}. Best is trial 47 with value: -0.27081804580351165.\u001b[0m\n",
      "\u001b[32m[I 2021-08-04 21:25:30,340]\u001b[0m Trial 51 finished with value: -0.2551394084244592 and parameters: {'lambda': 0.11921455687960635, 'alpha': 1.7376201439734646, 'subsample': 0.8, 'learning_rate': 0.052408324116282, 'n_estimators': 27, 'max_depth': 18}. Best is trial 51 with value: -0.2551394084244592.\u001b[0m\n",
      "\u001b[32m[I 2021-08-04 21:25:30,480]\u001b[0m Trial 52 finished with value: -2.276408907745757e+22 and parameters: {'lambda': 2.096999274196242, 'alpha': 0.3950179114447679, 'subsample': 0.4, 'learning_rate': 8.558285114255606, 'n_estimators': 13, 'max_depth': 16}. Best is trial 51 with value: -0.2551394084244592.\u001b[0m\n",
      "\u001b[32m[I 2021-08-04 21:25:30,825]\u001b[0m Trial 53 finished with value: -4.659748486634168e+62 and parameters: {'lambda': 0.014401607971568434, 'alpha': 1.2450796902850931, 'subsample': 0.5, 'learning_rate': 7.332453344813597, 'n_estimators': 39, 'max_depth': 6}. Best is trial 51 with value: -0.2551394084244592.\u001b[0m\n",
      "\u001b[32m[I 2021-08-04 21:25:31,225]\u001b[0m Trial 54 finished with value: -0.7059698579933298 and parameters: {'lambda': 0.007185360253135697, 'alpha': 0.0062487290499478225, 'subsample': 1, 'learning_rate': 0.8053044659885877, 'n_estimators': 15, 'max_depth': 5}. Best is trial 51 with value: -0.2551394084244592.\u001b[0m\n",
      "\u001b[32m[I 2021-08-04 21:25:31,421]\u001b[0m Trial 55 finished with value: -280559199203.94745 and parameters: {'lambda': 4.6701868035331815, 'alpha': 0.7002579894954699, 'subsample': 0.8, 'learning_rate': 4.780318299339754, 'n_estimators': 10, 'max_depth': 20}. Best is trial 51 with value: -0.2551394084244592.\u001b[0m\n",
      "\u001b[32m[I 2021-08-04 21:25:31,992]\u001b[0m Trial 56 finished with value: -2.980954089844558e+23 and parameters: {'lambda': 0.004358475422902005, 'alpha': 0.0064626182229820485, 'subsample': 0.7, 'learning_rate': 7.543061962703481, 'n_estimators': 14, 'max_depth': 13}. Best is trial 51 with value: -0.2551394084244592.\u001b[0m\n",
      "\u001b[32m[I 2021-08-04 21:25:32,418]\u001b[0m Trial 57 finished with value: -0.5151921953054065 and parameters: {'lambda': 0.9901785201391967, 'alpha': 0.35716989201463745, 'subsample': 0.7, 'learning_rate': 0.5614198352087564, 'n_estimators': 43, 'max_depth': 5}. Best is trial 51 with value: -0.2551394084244592.\u001b[0m\n",
      "\u001b[32m[I 2021-08-04 21:25:32,537]\u001b[0m Trial 58 finished with value: -4198.622007720222 and parameters: {'lambda': 0.03805287509321869, 'alpha': 0.015860766943821946, 'subsample': 0.5, 'learning_rate': 2.0645485243537416, 'n_estimators': 8, 'max_depth': 11}. Best is trial 51 with value: -0.2551394084244592.\u001b[0m\n",
      "\u001b[32m[I 2021-08-04 21:25:33,216]\u001b[0m Trial 59 finished with value: -0.5608677158532026 and parameters: {'lambda': 0.01112239225487989, 'alpha': 0.026806890202358644, 'subsample': 0.7, 'learning_rate': 0.4484628974375354, 'n_estimators': 41, 'max_depth': 5}. Best is trial 51 with value: -0.2551394084244592.\u001b[0m\n",
      "\u001b[32m[I 2021-08-04 21:25:33,348]\u001b[0m Trial 60 finished with value: -1938758484.213993 and parameters: {'lambda': 0.1293051771568687, 'alpha': 0.9126624291383925, 'subsample': 0.7, 'learning_rate': 8.619666957005158, 'n_estimators': 5, 'max_depth': 18}. Best is trial 51 with value: -0.2551394084244592.\u001b[0m\n",
      "\u001b[32m[I 2021-08-04 21:25:33,660]\u001b[0m Trial 61 finished with value: -2.649650098397946e+66 and parameters: {'lambda': 0.17203437921322656, 'alpha': 0.041009255824521564, 'subsample': 0.6, 'learning_rate': 8.578972466407892, 'n_estimators': 38, 'max_depth': 11}. Best is trial 51 with value: -0.2551394084244592.\u001b[0m\n",
      "\u001b[32m[I 2021-08-04 21:25:34,280]\u001b[0m Trial 62 finished with value: -0.3602337969555398 and parameters: {'lambda': 0.6727055039219316, 'alpha': 1.3247021083045536, 'subsample': 0.5, 'learning_rate': 0.031138547123342807, 'n_estimators': 40, 'max_depth': 19}. Best is trial 51 with value: -0.2551394084244592.\u001b[0m\n",
      "\u001b[32m[I 2021-08-04 21:25:37,199]\u001b[0m Trial 63 finished with value: -6.489957006971447e+21 and parameters: {'lambda': 0.009062809051734568, 'alpha': 0.0030413663547866968, 'subsample': 0.6, 'learning_rate': 2.901451729600786, 'n_estimators': 33, 'max_depth': 8}. Best is trial 51 with value: -0.2551394084244592.\u001b[0m\n",
      "\u001b[32m[I 2021-08-04 21:35:49,533]\u001b[0m Trial 64 finished with value: -1.7211799389052993e+25 and parameters: {'lambda': 0.06752128935230435, 'alpha': 0.059767959355795, 'subsample': 0.4, 'learning_rate': 3.1476637255832913, 'n_estimators': 33, 'max_depth': 18}. Best is trial 51 with value: -0.2551394084244592.\u001b[0m\n",
      "\u001b[32m[I 2021-08-04 21:36:17,330]\u001b[0m Trial 65 finished with value: -1.717675501702154e+46 and parameters: {'lambda': 0.0617669277862794, 'alpha': 1.3735031986931394, 'subsample': 0.8, 'learning_rate': 7.667748204625148, 'n_estimators': 28, 'max_depth': 11}. Best is trial 51 with value: -0.2551394084244592.\u001b[0m\n",
      "\u001b[32m[I 2021-08-04 21:36:28,309]\u001b[0m Trial 66 finished with value: -1.2352940935656366e+44 and parameters: {'lambda': 2.3528777387860638, 'alpha': 0.0018673586483652072, 'subsample': 0.5, 'learning_rate': 7.007263357565015, 'n_estimators': 29, 'max_depth': 20}. Best is trial 51 with value: -0.2551394084244592.\u001b[0m\n",
      "/mnt/efs/home/glc8688/.local/lib/python3.6/site-packages/sklearn/model_selection/_validation.py:700: UserWarning: Scoring failed. The score on this train-test partition for these parameters will be set to nan. Details: \n",
      "Traceback (most recent call last):\n",
      "  File \"/mnt/efs/home/glc8688/.local/lib/python3.6/site-packages/sklearn/model_selection/_validation.py\", line 687, in _score\n",
      "    scores = scorer(estimator, X_test, y_test)\n",
      "  File \"/mnt/efs/home/glc8688/.local/lib/python3.6/site-packages/sklearn/metrics/_scorer.py\", line 90, in __call__\n",
      "    score = scorer(estimator, *args, **kwargs)\n",
      "  File \"/mnt/efs/home/glc8688/.local/lib/python3.6/site-packages/sklearn/metrics/_scorer.py\", line 397, in _passthrough_scorer\n",
      "    return estimator.score(*args, **kwargs)\n",
      "  File \"/mnt/efs/home/glc8688/.local/lib/python3.6/site-packages/sklearn/base.py\", line 554, in score\n",
      "    return r2_score(y, y_pred, sample_weight=sample_weight)\n",
      "  File \"/mnt/efs/home/glc8688/.local/lib/python3.6/site-packages/sklearn/utils/validation.py\", line 63, in inner_f\n",
      "    return f(*args, **kwargs)\n",
      "  File \"/mnt/efs/home/glc8688/.local/lib/python3.6/site-packages/sklearn/metrics/_regression.py\", line 677, in r2_score\n",
      "    y_true, y_pred, multioutput)\n",
      "  File \"/mnt/efs/home/glc8688/.local/lib/python3.6/site-packages/sklearn/metrics/_regression.py\", line 90, in _check_reg_targets\n",
      "    y_pred = check_array(y_pred, ensure_2d=False, dtype=dtype)\n",
      "  File \"/mnt/efs/home/glc8688/.local/lib/python3.6/site-packages/sklearn/utils/validation.py\", line 63, in inner_f\n",
      "    return f(*args, **kwargs)\n",
      "  File \"/mnt/efs/home/glc8688/.local/lib/python3.6/site-packages/sklearn/utils/validation.py\", line 721, in check_array\n",
      "    allow_nan=force_all_finite == 'allow-nan')\n",
      "  File \"/mnt/efs/home/glc8688/.local/lib/python3.6/site-packages/sklearn/utils/validation.py\", line 106, in _assert_all_finite\n",
      "    msg_dtype if msg_dtype is not None else X.dtype)\n",
      "ValueError: Input contains NaN, infinity or a value too large for dtype('float32').\n",
      "\n",
      "  UserWarning,\n",
      "/mnt/efs/home/glc8688/.local/lib/python3.6/site-packages/sklearn/model_selection/_validation.py:700: UserWarning: Scoring failed. The score on this train-test partition for these parameters will be set to nan. Details: \n",
      "Traceback (most recent call last):\n",
      "  File \"/mnt/efs/home/glc8688/.local/lib/python3.6/site-packages/sklearn/model_selection/_validation.py\", line 687, in _score\n",
      "    scores = scorer(estimator, X_test, y_test)\n",
      "  File \"/mnt/efs/home/glc8688/.local/lib/python3.6/site-packages/sklearn/metrics/_scorer.py\", line 90, in __call__\n",
      "    score = scorer(estimator, *args, **kwargs)\n",
      "  File \"/mnt/efs/home/glc8688/.local/lib/python3.6/site-packages/sklearn/metrics/_scorer.py\", line 397, in _passthrough_scorer\n",
      "    return estimator.score(*args, **kwargs)\n",
      "  File \"/mnt/efs/home/glc8688/.local/lib/python3.6/site-packages/sklearn/base.py\", line 554, in score\n",
      "    return r2_score(y, y_pred, sample_weight=sample_weight)\n",
      "  File \"/mnt/efs/home/glc8688/.local/lib/python3.6/site-packages/sklearn/utils/validation.py\", line 63, in inner_f\n",
      "    return f(*args, **kwargs)\n",
      "  File \"/mnt/efs/home/glc8688/.local/lib/python3.6/site-packages/sklearn/metrics/_regression.py\", line 677, in r2_score\n",
      "    y_true, y_pred, multioutput)\n",
      "  File \"/mnt/efs/home/glc8688/.local/lib/python3.6/site-packages/sklearn/metrics/_regression.py\", line 90, in _check_reg_targets\n",
      "    y_pred = check_array(y_pred, ensure_2d=False, dtype=dtype)\n",
      "  File \"/mnt/efs/home/glc8688/.local/lib/python3.6/site-packages/sklearn/utils/validation.py\", line 63, in inner_f\n",
      "    return f(*args, **kwargs)\n",
      "  File \"/mnt/efs/home/glc8688/.local/lib/python3.6/site-packages/sklearn/utils/validation.py\", line 721, in check_array\n",
      "    allow_nan=force_all_finite == 'allow-nan')\n",
      "  File \"/mnt/efs/home/glc8688/.local/lib/python3.6/site-packages/sklearn/utils/validation.py\", line 106, in _assert_all_finite\n",
      "    msg_dtype if msg_dtype is not None else X.dtype)\n",
      "ValueError: Input contains NaN, infinity or a value too large for dtype('float32').\n",
      "\n",
      "  UserWarning,\n",
      "/mnt/efs/home/glc8688/.local/lib/python3.6/site-packages/sklearn/model_selection/_validation.py:700: UserWarning: Scoring failed. The score on this train-test partition for these parameters will be set to nan. Details: \n",
      "Traceback (most recent call last):\n",
      "  File \"/mnt/efs/home/glc8688/.local/lib/python3.6/site-packages/sklearn/model_selection/_validation.py\", line 687, in _score\n",
      "    scores = scorer(estimator, X_test, y_test)\n",
      "  File \"/mnt/efs/home/glc8688/.local/lib/python3.6/site-packages/sklearn/metrics/_scorer.py\", line 90, in __call__\n",
      "    score = scorer(estimator, *args, **kwargs)\n",
      "  File \"/mnt/efs/home/glc8688/.local/lib/python3.6/site-packages/sklearn/metrics/_scorer.py\", line 397, in _passthrough_scorer\n",
      "    return estimator.score(*args, **kwargs)\n",
      "  File \"/mnt/efs/home/glc8688/.local/lib/python3.6/site-packages/sklearn/base.py\", line 554, in score\n",
      "    return r2_score(y, y_pred, sample_weight=sample_weight)\n",
      "  File \"/mnt/efs/home/glc8688/.local/lib/python3.6/site-packages/sklearn/utils/validation.py\", line 63, in inner_f\n",
      "    return f(*args, **kwargs)\n",
      "  File \"/mnt/efs/home/glc8688/.local/lib/python3.6/site-packages/sklearn/metrics/_regression.py\", line 677, in r2_score\n",
      "    y_true, y_pred, multioutput)\n",
      "  File \"/mnt/efs/home/glc8688/.local/lib/python3.6/site-packages/sklearn/metrics/_regression.py\", line 90, in _check_reg_targets\n",
      "    y_pred = check_array(y_pred, ensure_2d=False, dtype=dtype)\n",
      "  File \"/mnt/efs/home/glc8688/.local/lib/python3.6/site-packages/sklearn/utils/validation.py\", line 63, in inner_f\n",
      "    return f(*args, **kwargs)\n",
      "  File \"/mnt/efs/home/glc8688/.local/lib/python3.6/site-packages/sklearn/utils/validation.py\", line 721, in check_array\n",
      "    allow_nan=force_all_finite == 'allow-nan')\n",
      "  File \"/mnt/efs/home/glc8688/.local/lib/python3.6/site-packages/sklearn/utils/validation.py\", line 106, in _assert_all_finite\n",
      "    msg_dtype if msg_dtype is not None else X.dtype)\n",
      "ValueError: Input contains NaN, infinity or a value too large for dtype('float32').\n",
      "\n",
      "  UserWarning,\n",
      "\u001b[33m[W 2021-08-04 21:36:43,202]\u001b[0m Trial 67 failed, because the objective function returned nan.\u001b[0m\n",
      "\u001b[32m[I 2021-08-04 21:37:11,509]\u001b[0m Trial 68 finished with value: -1.4889577882171203e+36 and parameters: {'lambda': 0.010543402232135167, 'alpha': 1.6246435044850096, 'subsample': 0.6, 'learning_rate': 4.185786071860728, 'n_estimators': 36, 'max_depth': 9}. Best is trial 51 with value: -0.2551394084244592.\u001b[0m\n",
      "\u001b[32m[I 2021-08-04 21:37:32,905]\u001b[0m Trial 69 finished with value: -5.1284687663682115e+54 and parameters: {'lambda': 0.10543093786127246, 'alpha': 0.005730688618119375, 'subsample': 0.4, 'learning_rate': 5.644987557425538, 'n_estimators': 41, 'max_depth': 11}. Best is trial 51 with value: -0.2551394084244592.\u001b[0m\n",
      "\u001b[32m[I 2021-08-04 21:37:39,905]\u001b[0m Trial 70 finished with value: -2262770618255376.5 and parameters: {'lambda': 1.469887707685324, 'alpha': 0.6068157676661043, 'subsample': 0.4, 'learning_rate': 4.086378163760373, 'n_estimators': 16, 'max_depth': 9}. Best is trial 51 with value: -0.2551394084244592.\u001b[0m\n",
      "\u001b[32m[I 2021-08-04 21:37:47,716]\u001b[0m Trial 71 finished with value: -4.2482934326300046e+37 and parameters: {'lambda': 7.959565661436742, 'alpha': 0.019110731168141895, 'subsample': 0.4, 'learning_rate': 7.928558851212096, 'n_estimators': 24, 'max_depth': 8}. Best is trial 51 with value: -0.2551394084244592.\u001b[0m\n",
      "\u001b[32m[I 2021-08-04 21:38:11,481]\u001b[0m Trial 72 finished with value: -4.920239740380878e+23 and parameters: {'lambda': 0.020946320582211003, 'alpha': 0.6158507894166461, 'subsample': 1, 'learning_rate': 8.883865460089515, 'n_estimators': 13, 'max_depth': 13}. Best is trial 51 with value: -0.2551394084244592.\u001b[0m\n",
      "\u001b[32m[I 2021-08-04 21:38:36,541]\u001b[0m Trial 73 finished with value: -2.1913400021270316e+44 and parameters: {'lambda': 3.9157971329352685, 'alpha': 0.060879191491762595, 'subsample': 0.4, 'learning_rate': 4.167245456467337, 'n_estimators': 48, 'max_depth': 8}. Best is trial 51 with value: -0.2551394084244592.\u001b[0m\n",
      "\u001b[32m[I 2021-08-04 21:38:52,622]\u001b[0m Trial 74 finished with value: -1.169825802466464e+23 and parameters: {'lambda': 1.3151557313755566, 'alpha': 0.0049997150283733445, 'subsample': 0.6, 'learning_rate': 6.923604292632873, 'n_estimators': 15, 'max_depth': 10}. Best is trial 51 with value: -0.2551394084244592.\u001b[0m\n",
      "\u001b[32m[I 2021-08-04 21:41:07,214]\u001b[0m Trial 75 finished with value: -315.76170301493266 and parameters: {'lambda': 0.030738911648555883, 'alpha': 0.026377379424588347, 'subsample': 0.6, 'learning_rate': 1.4944764949206355, 'n_estimators': 28, 'max_depth': 18}. Best is trial 51 with value: -0.2551394084244592.\u001b[0m\n",
      "\u001b[32m[I 2021-08-04 21:41:44,585]\u001b[0m Trial 76 finished with value: -7.18261372855535e+40 and parameters: {'lambda': 0.005442692097079399, 'alpha': 0.07101604381706628, 'subsample': 1, 'learning_rate': 8.00332445444156, 'n_estimators': 24, 'max_depth': 13}. Best is trial 51 with value: -0.2551394084244592.\u001b[0m\n",
      "/mnt/efs/home/glc8688/.local/lib/python3.6/site-packages/sklearn/model_selection/_validation.py:700: UserWarning: Scoring failed. The score on this train-test partition for these parameters will be set to nan. Details: \n",
      "Traceback (most recent call last):\n",
      "  File \"/mnt/efs/home/glc8688/.local/lib/python3.6/site-packages/sklearn/model_selection/_validation.py\", line 687, in _score\n",
      "    scores = scorer(estimator, X_test, y_test)\n",
      "  File \"/mnt/efs/home/glc8688/.local/lib/python3.6/site-packages/sklearn/metrics/_scorer.py\", line 90, in __call__\n",
      "    score = scorer(estimator, *args, **kwargs)\n",
      "  File \"/mnt/efs/home/glc8688/.local/lib/python3.6/site-packages/sklearn/metrics/_scorer.py\", line 397, in _passthrough_scorer\n",
      "    return estimator.score(*args, **kwargs)\n",
      "  File \"/mnt/efs/home/glc8688/.local/lib/python3.6/site-packages/sklearn/base.py\", line 554, in score\n",
      "    return r2_score(y, y_pred, sample_weight=sample_weight)\n",
      "  File \"/mnt/efs/home/glc8688/.local/lib/python3.6/site-packages/sklearn/utils/validation.py\", line 63, in inner_f\n",
      "    return f(*args, **kwargs)\n",
      "  File \"/mnt/efs/home/glc8688/.local/lib/python3.6/site-packages/sklearn/metrics/_regression.py\", line 677, in r2_score\n",
      "    y_true, y_pred, multioutput)\n",
      "  File \"/mnt/efs/home/glc8688/.local/lib/python3.6/site-packages/sklearn/metrics/_regression.py\", line 90, in _check_reg_targets\n",
      "    y_pred = check_array(y_pred, ensure_2d=False, dtype=dtype)\n",
      "  File \"/mnt/efs/home/glc8688/.local/lib/python3.6/site-packages/sklearn/utils/validation.py\", line 63, in inner_f\n",
      "    return f(*args, **kwargs)\n",
      "  File \"/mnt/efs/home/glc8688/.local/lib/python3.6/site-packages/sklearn/utils/validation.py\", line 721, in check_array\n",
      "    allow_nan=force_all_finite == 'allow-nan')\n",
      "  File \"/mnt/efs/home/glc8688/.local/lib/python3.6/site-packages/sklearn/utils/validation.py\", line 106, in _assert_all_finite\n",
      "    msg_dtype if msg_dtype is not None else X.dtype)\n",
      "ValueError: Input contains NaN, infinity or a value too large for dtype('float32').\n",
      "\n",
      "  UserWarning,\n",
      "/mnt/efs/home/glc8688/.local/lib/python3.6/site-packages/sklearn/model_selection/_validation.py:700: UserWarning: Scoring failed. The score on this train-test partition for these parameters will be set to nan. Details: \n",
      "Traceback (most recent call last):\n",
      "  File \"/mnt/efs/home/glc8688/.local/lib/python3.6/site-packages/sklearn/model_selection/_validation.py\", line 687, in _score\n",
      "    scores = scorer(estimator, X_test, y_test)\n",
      "  File \"/mnt/efs/home/glc8688/.local/lib/python3.6/site-packages/sklearn/metrics/_scorer.py\", line 90, in __call__\n",
      "    score = scorer(estimator, *args, **kwargs)\n",
      "  File \"/mnt/efs/home/glc8688/.local/lib/python3.6/site-packages/sklearn/metrics/_scorer.py\", line 397, in _passthrough_scorer\n",
      "    return estimator.score(*args, **kwargs)\n",
      "  File \"/mnt/efs/home/glc8688/.local/lib/python3.6/site-packages/sklearn/base.py\", line 554, in score\n",
      "    return r2_score(y, y_pred, sample_weight=sample_weight)\n",
      "  File \"/mnt/efs/home/glc8688/.local/lib/python3.6/site-packages/sklearn/utils/validation.py\", line 63, in inner_f\n",
      "    return f(*args, **kwargs)\n",
      "  File \"/mnt/efs/home/glc8688/.local/lib/python3.6/site-packages/sklearn/metrics/_regression.py\", line 677, in r2_score\n",
      "    y_true, y_pred, multioutput)\n",
      "  File \"/mnt/efs/home/glc8688/.local/lib/python3.6/site-packages/sklearn/metrics/_regression.py\", line 90, in _check_reg_targets\n",
      "    y_pred = check_array(y_pred, ensure_2d=False, dtype=dtype)\n",
      "  File \"/mnt/efs/home/glc8688/.local/lib/python3.6/site-packages/sklearn/utils/validation.py\", line 63, in inner_f\n",
      "    return f(*args, **kwargs)\n",
      "  File \"/mnt/efs/home/glc8688/.local/lib/python3.6/site-packages/sklearn/utils/validation.py\", line 721, in check_array\n",
      "    allow_nan=force_all_finite == 'allow-nan')\n",
      "  File \"/mnt/efs/home/glc8688/.local/lib/python3.6/site-packages/sklearn/utils/validation.py\", line 106, in _assert_all_finite\n",
      "    msg_dtype if msg_dtype is not None else X.dtype)\n",
      "ValueError: Input contains NaN, infinity or a value too large for dtype('float32').\n",
      "\n",
      "  UserWarning,\n",
      "/mnt/efs/home/glc8688/.local/lib/python3.6/site-packages/sklearn/model_selection/_validation.py:700: UserWarning: Scoring failed. The score on this train-test partition for these parameters will be set to nan. Details: \n",
      "Traceback (most recent call last):\n",
      "  File \"/mnt/efs/home/glc8688/.local/lib/python3.6/site-packages/sklearn/model_selection/_validation.py\", line 687, in _score\n",
      "    scores = scorer(estimator, X_test, y_test)\n",
      "  File \"/mnt/efs/home/glc8688/.local/lib/python3.6/site-packages/sklearn/metrics/_scorer.py\", line 90, in __call__\n",
      "    score = scorer(estimator, *args, **kwargs)\n",
      "  File \"/mnt/efs/home/glc8688/.local/lib/python3.6/site-packages/sklearn/metrics/_scorer.py\", line 397, in _passthrough_scorer\n",
      "    return estimator.score(*args, **kwargs)\n",
      "  File \"/mnt/efs/home/glc8688/.local/lib/python3.6/site-packages/sklearn/base.py\", line 554, in score\n",
      "    return r2_score(y, y_pred, sample_weight=sample_weight)\n",
      "  File \"/mnt/efs/home/glc8688/.local/lib/python3.6/site-packages/sklearn/utils/validation.py\", line 63, in inner_f\n",
      "    return f(*args, **kwargs)\n",
      "  File \"/mnt/efs/home/glc8688/.local/lib/python3.6/site-packages/sklearn/metrics/_regression.py\", line 677, in r2_score\n",
      "    y_true, y_pred, multioutput)\n",
      "  File \"/mnt/efs/home/glc8688/.local/lib/python3.6/site-packages/sklearn/metrics/_regression.py\", line 90, in _check_reg_targets\n",
      "    y_pred = check_array(y_pred, ensure_2d=False, dtype=dtype)\n",
      "  File \"/mnt/efs/home/glc8688/.local/lib/python3.6/site-packages/sklearn/utils/validation.py\", line 63, in inner_f\n",
      "    return f(*args, **kwargs)\n",
      "  File \"/mnt/efs/home/glc8688/.local/lib/python3.6/site-packages/sklearn/utils/validation.py\", line 721, in check_array\n",
      "    allow_nan=force_all_finite == 'allow-nan')\n",
      "  File \"/mnt/efs/home/glc8688/.local/lib/python3.6/site-packages/sklearn/utils/validation.py\", line 106, in _assert_all_finite\n",
      "    msg_dtype if msg_dtype is not None else X.dtype)\n",
      "ValueError: Input contains NaN, infinity or a value too large for dtype('float32').\n",
      "\n",
      "  UserWarning,\n",
      "\u001b[33m[W 2021-08-04 21:42:10,170]\u001b[0m Trial 77 failed, because the objective function returned nan.\u001b[0m\n",
      "\u001b[32m[I 2021-08-04 21:42:21,197]\u001b[0m Trial 78 finished with value: -2.3335431988502806e+64 and parameters: {'lambda': 0.004044822649197355, 'alpha': 0.36016988307742076, 'subsample': 0.8, 'learning_rate': 5.793609609366928, 'n_estimators': 47, 'max_depth': 3}. Best is trial 51 with value: -0.2551394084244592.\u001b[0m\n",
      "\u001b[32m[I 2021-08-04 21:43:51,142]\u001b[0m Trial 79 finished with value: -0.5206229750508288 and parameters: {'lambda': 9.233918454197696, 'alpha': 0.0016292141399488946, 'subsample': 0.7, 'learning_rate': 0.6103762008298996, 'n_estimators': 37, 'max_depth': 14}. Best is trial 51 with value: -0.2551394084244592.\u001b[0m\n",
      "\u001b[32m[I 2021-08-04 21:44:53,843]\u001b[0m Trial 80 finished with value: -1.9403075084259087e+31 and parameters: {'lambda': 0.03268303454655726, 'alpha': 0.005659486653989455, 'subsample': 0.6, 'learning_rate': 6.442323756470119, 'n_estimators': 21, 'max_depth': 6}. Best is trial 51 with value: -0.2551394084244592.\u001b[0m\n",
      "\u001b[32m[I 2021-08-04 21:45:37,810]\u001b[0m Trial 81 finished with value: -201529123594977.97 and parameters: {'lambda': 0.05439180921646741, 'alpha': 0.03387426097309231, 'subsample': 0.5, 'learning_rate': 3.5495349619672085, 'n_estimators': 16, 'max_depth': 19}. Best is trial 51 with value: -0.2551394084244592.\u001b[0m\n",
      "\u001b[32m[I 2021-08-04 21:45:58,651]\u001b[0m Trial 82 finished with value: -1.950016751790691e+18 and parameters: {'lambda': 0.0014932655812821337, 'alpha': 6.353509918586298, 'subsample': 0.6, 'learning_rate': 5.711761680104942, 'n_estimators': 13, 'max_depth': 13}. Best is trial 51 with value: -0.2551394084244592.\u001b[0m\n",
      "\u001b[32m[I 2021-08-04 21:46:04,403]\u001b[0m Trial 83 finished with value: -398944724.1338551 and parameters: {'lambda': 8.388700767580785, 'alpha': 3.1594406738761913, 'subsample': 0.6, 'learning_rate': 3.694005562119807, 'n_estimators': 11, 'max_depth': 15}. Best is trial 51 with value: -0.2551394084244592.\u001b[0m\n",
      "\u001b[32m[I 2021-08-04 21:46:28,448]\u001b[0m Trial 84 finished with value: -0.45637193405079807 and parameters: {'lambda': 0.08091927398908721, 'alpha': 0.06244754172127387, 'subsample': 0.4, 'learning_rate': 0.25754456653100966, 'n_estimators': 18, 'max_depth': 11}. Best is trial 51 with value: -0.2551394084244592.\u001b[0m\n",
      "\u001b[32m[I 2021-08-04 21:46:34,597]\u001b[0m Trial 85 finished with value: -1.3270447920995783e+21 and parameters: {'lambda': 7.306884795725666, 'alpha': 0.002738619251564602, 'subsample': 0.6, 'learning_rate': 7.969624550176481, 'n_estimators': 13, 'max_depth': 16}. Best is trial 51 with value: -0.2551394084244592.\u001b[0m\n",
      "\u001b[32m[I 2021-08-04 21:46:54,586]\u001b[0m Trial 86 finished with value: -0.21987518126143066 and parameters: {'lambda': 0.01449412452654265, 'alpha': 0.007371671104681959, 'subsample': 0.7, 'learning_rate': 0.16576866325051248, 'n_estimators': 10, 'max_depth': 14}. Best is trial 86 with value: -0.21987518126143066.\u001b[0m\n",
      "\u001b[32m[I 2021-08-04 21:47:26,576]\u001b[0m Trial 87 finished with value: -2.2911645642148635 and parameters: {'lambda': 0.04079692298939424, 'alpha': 0.019235578705946117, 'subsample': 0.5, 'learning_rate': 0.7033437128208362, 'n_estimators': 26, 'max_depth': 8}. Best is trial 86 with value: -0.21987518126143066.\u001b[0m\n",
      "\u001b[32m[I 2021-08-04 21:47:46,290]\u001b[0m Trial 88 finished with value: -6.013709037394841e+18 and parameters: {'lambda': 5.610586320645216, 'alpha': 0.09083638546682431, 'subsample': 0.5, 'learning_rate': 3.2836206172620006, 'n_estimators': 30, 'max_depth': 6}. Best is trial 86 with value: -0.21987518126143066.\u001b[0m\n",
      "\u001b[32m[I 2021-08-04 21:48:20,172]\u001b[0m Trial 89 finished with value: -1.923062305906612 and parameters: {'lambda': 0.4849720213485597, 'alpha': 0.0037254018955984545, 'subsample': 0.5, 'learning_rate': 0.7602480341822743, 'n_estimators': 45, 'max_depth': 20}. Best is trial 86 with value: -0.21987518126143066.\u001b[0m\n",
      "\u001b[32m[I 2021-08-04 21:48:21,831]\u001b[0m Trial 90 finished with value: -1.2747810352951584e+27 and parameters: {'lambda': 1.7783990459162666, 'alpha': 0.013652347680015704, 'subsample': 0.7, 'learning_rate': 3.2596788134177856, 'n_estimators': 40, 'max_depth': 8}. Best is trial 86 with value: -0.21987518126143066.\u001b[0m\n",
      "\u001b[32m[I 2021-08-04 21:48:27,278]\u001b[0m Trial 91 finished with value: -1.0676792886985337e+52 and parameters: {'lambda': 3.625011309046933, 'alpha': 1.0158530378687274, 'subsample': 0.4, 'learning_rate': 6.938557175184884, 'n_estimators': 35, 'max_depth': 10}. Best is trial 86 with value: -0.21987518126143066.\u001b[0m\n",
      "\u001b[32m[I 2021-08-04 21:49:10,916]\u001b[0m Trial 92 finished with value: -1.9210906092032232e+39 and parameters: {'lambda': 1.17802880701327, 'alpha': 0.1393265807021387, 'subsample': 1, 'learning_rate': 5.120615154628912, 'n_estimators': 33, 'max_depth': 10}. Best is trial 86 with value: -0.21987518126143066.\u001b[0m\n",
      "\u001b[32m[I 2021-08-04 21:49:19,207]\u001b[0m Trial 93 finished with value: -62.56780822264462 and parameters: {'lambda': 2.4592454296295787, 'alpha': 0.06549923448251084, 'subsample': 0.8, 'learning_rate': 2.350726290191505, 'n_estimators': 7, 'max_depth': 10}. Best is trial 86 with value: -0.21987518126143066.\u001b[0m\n",
      "\u001b[32m[I 2021-08-04 21:49:53,048]\u001b[0m Trial 94 finished with value: -214317754461.07742 and parameters: {'lambda': 2.853097294916638, 'alpha': 0.0021207815222486857, 'subsample': 0.7, 'learning_rate': 2.394118047267118, 'n_estimators': 48, 'max_depth': 19}. Best is trial 86 with value: -0.21987518126143066.\u001b[0m\n",
      "\u001b[32m[I 2021-08-04 21:50:02,314]\u001b[0m Trial 95 finished with value: -0.7362850922553283 and parameters: {'lambda': 0.2855854054781499, 'alpha': 7.833387115070683, 'subsample': 0.8, 'learning_rate': 0.6491252042754398, 'n_estimators': 45, 'max_depth': 15}. Best is trial 86 with value: -0.21987518126143066.\u001b[0m\n",
      "\u001b[32m[I 2021-08-04 21:50:21,562]\u001b[0m Trial 96 finished with value: -2.074550871843497e+41 and parameters: {'lambda': 0.2628497037637165, 'alpha': 0.8501579037366627, 'subsample': 1, 'learning_rate': 6.183462509820162, 'n_estimators': 29, 'max_depth': 6}. Best is trial 86 with value: -0.21987518126143066.\u001b[0m\n",
      "\u001b[32m[I 2021-08-04 21:51:20,599]\u001b[0m Trial 97 finished with value: -1.2613614501009419e+38 and parameters: {'lambda': 0.015146570164241488, 'alpha': 3.0955987290288776, 'subsample': 0.6, 'learning_rate': 4.867512580675933, 'n_estimators': 32, 'max_depth': 12}. Best is trial 86 with value: -0.21987518126143066.\u001b[0m\n",
      "\u001b[32m[I 2021-08-04 21:51:28,042]\u001b[0m Trial 98 finished with value: -7446.220680411614 and parameters: {'lambda': 0.3157077017669208, 'alpha': 2.6312789134359025, 'subsample': 0.5, 'learning_rate': 2.394469974584435, 'n_estimators': 11, 'max_depth': 5}. Best is trial 86 with value: -0.21987518126143066.\u001b[0m\n",
      "/mnt/efs/home/glc8688/.local/lib/python3.6/site-packages/sklearn/model_selection/_validation.py:700: UserWarning: Scoring failed. The score on this train-test partition for these parameters will be set to nan. Details: \n",
      "Traceback (most recent call last):\n",
      "  File \"/mnt/efs/home/glc8688/.local/lib/python3.6/site-packages/sklearn/model_selection/_validation.py\", line 687, in _score\n",
      "    scores = scorer(estimator, X_test, y_test)\n",
      "  File \"/mnt/efs/home/glc8688/.local/lib/python3.6/site-packages/sklearn/metrics/_scorer.py\", line 90, in __call__\n",
      "    score = scorer(estimator, *args, **kwargs)\n",
      "  File \"/mnt/efs/home/glc8688/.local/lib/python3.6/site-packages/sklearn/metrics/_scorer.py\", line 397, in _passthrough_scorer\n",
      "    return estimator.score(*args, **kwargs)\n",
      "  File \"/mnt/efs/home/glc8688/.local/lib/python3.6/site-packages/sklearn/base.py\", line 554, in score\n",
      "    return r2_score(y, y_pred, sample_weight=sample_weight)\n",
      "  File \"/mnt/efs/home/glc8688/.local/lib/python3.6/site-packages/sklearn/utils/validation.py\", line 63, in inner_f\n",
      "    return f(*args, **kwargs)\n",
      "  File \"/mnt/efs/home/glc8688/.local/lib/python3.6/site-packages/sklearn/metrics/_regression.py\", line 677, in r2_score\n",
      "    y_true, y_pred, multioutput)\n",
      "  File \"/mnt/efs/home/glc8688/.local/lib/python3.6/site-packages/sklearn/metrics/_regression.py\", line 90, in _check_reg_targets\n",
      "    y_pred = check_array(y_pred, ensure_2d=False, dtype=dtype)\n",
      "  File \"/mnt/efs/home/glc8688/.local/lib/python3.6/site-packages/sklearn/utils/validation.py\", line 63, in inner_f\n",
      "    return f(*args, **kwargs)\n",
      "  File \"/mnt/efs/home/glc8688/.local/lib/python3.6/site-packages/sklearn/utils/validation.py\", line 721, in check_array\n",
      "    allow_nan=force_all_finite == 'allow-nan')\n",
      "  File \"/mnt/efs/home/glc8688/.local/lib/python3.6/site-packages/sklearn/utils/validation.py\", line 106, in _assert_all_finite\n",
      "    msg_dtype if msg_dtype is not None else X.dtype)\n",
      "ValueError: Input contains NaN, infinity or a value too large for dtype('float32').\n",
      "\n",
      "  UserWarning,\n",
      "/mnt/efs/home/glc8688/.local/lib/python3.6/site-packages/sklearn/model_selection/_validation.py:700: UserWarning: Scoring failed. The score on this train-test partition for these parameters will be set to nan. Details: \n",
      "Traceback (most recent call last):\n",
      "  File \"/mnt/efs/home/glc8688/.local/lib/python3.6/site-packages/sklearn/model_selection/_validation.py\", line 687, in _score\n",
      "    scores = scorer(estimator, X_test, y_test)\n",
      "  File \"/mnt/efs/home/glc8688/.local/lib/python3.6/site-packages/sklearn/metrics/_scorer.py\", line 90, in __call__\n",
      "    score = scorer(estimator, *args, **kwargs)\n",
      "  File \"/mnt/efs/home/glc8688/.local/lib/python3.6/site-packages/sklearn/metrics/_scorer.py\", line 397, in _passthrough_scorer\n",
      "    return estimator.score(*args, **kwargs)\n",
      "  File \"/mnt/efs/home/glc8688/.local/lib/python3.6/site-packages/sklearn/base.py\", line 554, in score\n",
      "    return r2_score(y, y_pred, sample_weight=sample_weight)\n",
      "  File \"/mnt/efs/home/glc8688/.local/lib/python3.6/site-packages/sklearn/utils/validation.py\", line 63, in inner_f\n",
      "    return f(*args, **kwargs)\n",
      "  File \"/mnt/efs/home/glc8688/.local/lib/python3.6/site-packages/sklearn/metrics/_regression.py\", line 677, in r2_score\n",
      "    y_true, y_pred, multioutput)\n",
      "  File \"/mnt/efs/home/glc8688/.local/lib/python3.6/site-packages/sklearn/metrics/_regression.py\", line 90, in _check_reg_targets\n",
      "    y_pred = check_array(y_pred, ensure_2d=False, dtype=dtype)\n",
      "  File \"/mnt/efs/home/glc8688/.local/lib/python3.6/site-packages/sklearn/utils/validation.py\", line 63, in inner_f\n",
      "    return f(*args, **kwargs)\n",
      "  File \"/mnt/efs/home/glc8688/.local/lib/python3.6/site-packages/sklearn/utils/validation.py\", line 721, in check_array\n",
      "    allow_nan=force_all_finite == 'allow-nan')\n",
      "  File \"/mnt/efs/home/glc8688/.local/lib/python3.6/site-packages/sklearn/utils/validation.py\", line 106, in _assert_all_finite\n",
      "    msg_dtype if msg_dtype is not None else X.dtype)\n",
      "ValueError: Input contains NaN, infinity or a value too large for dtype('float32').\n",
      "\n",
      "  UserWarning,\n",
      "/mnt/efs/home/glc8688/.local/lib/python3.6/site-packages/sklearn/model_selection/_validation.py:700: UserWarning: Scoring failed. The score on this train-test partition for these parameters will be set to nan. Details: \n",
      "Traceback (most recent call last):\n",
      "  File \"/mnt/efs/home/glc8688/.local/lib/python3.6/site-packages/sklearn/model_selection/_validation.py\", line 687, in _score\n",
      "    scores = scorer(estimator, X_test, y_test)\n",
      "  File \"/mnt/efs/home/glc8688/.local/lib/python3.6/site-packages/sklearn/metrics/_scorer.py\", line 90, in __call__\n",
      "    score = scorer(estimator, *args, **kwargs)\n",
      "  File \"/mnt/efs/home/glc8688/.local/lib/python3.6/site-packages/sklearn/metrics/_scorer.py\", line 397, in _passthrough_scorer\n",
      "    return estimator.score(*args, **kwargs)\n",
      "  File \"/mnt/efs/home/glc8688/.local/lib/python3.6/site-packages/sklearn/base.py\", line 554, in score\n",
      "    return r2_score(y, y_pred, sample_weight=sample_weight)\n",
      "  File \"/mnt/efs/home/glc8688/.local/lib/python3.6/site-packages/sklearn/utils/validation.py\", line 63, in inner_f\n",
      "    return f(*args, **kwargs)\n",
      "  File \"/mnt/efs/home/glc8688/.local/lib/python3.6/site-packages/sklearn/metrics/_regression.py\", line 677, in r2_score\n",
      "    y_true, y_pred, multioutput)\n",
      "  File \"/mnt/efs/home/glc8688/.local/lib/python3.6/site-packages/sklearn/metrics/_regression.py\", line 90, in _check_reg_targets\n",
      "    y_pred = check_array(y_pred, ensure_2d=False, dtype=dtype)\n",
      "  File \"/mnt/efs/home/glc8688/.local/lib/python3.6/site-packages/sklearn/utils/validation.py\", line 63, in inner_f\n",
      "    return f(*args, **kwargs)\n",
      "  File \"/mnt/efs/home/glc8688/.local/lib/python3.6/site-packages/sklearn/utils/validation.py\", line 721, in check_array\n",
      "    allow_nan=force_all_finite == 'allow-nan')\n",
      "  File \"/mnt/efs/home/glc8688/.local/lib/python3.6/site-packages/sklearn/utils/validation.py\", line 106, in _assert_all_finite\n",
      "    msg_dtype if msg_dtype is not None else X.dtype)\n",
      "ValueError: Input contains NaN, infinity or a value too large for dtype('float32').\n",
      "\n",
      "  UserWarning,\n",
      "\u001b[33m[W 2021-08-04 21:51:39,080]\u001b[0m Trial 99 failed, because the objective function returned nan.\u001b[0m\n"
     ]
    },
    {
     "name": "stdout",
     "output_type": "stream",
     "text": [
      "Time for preparing XGB result:  40.93  minutes\n"
     ]
    }
   ],
   "source": [
    "select_seed = 2\n",
    "results_concat = run_ml(select_seed)"
   ]
  },
  {
   "cell_type": "code",
   "execution_count": 1351,
   "id": "potential-easter",
   "metadata": {},
   "outputs": [
    {
     "data": {
      "text/html": [
       "<div>\n",
       "<style scoped>\n",
       "    .dataframe tbody tr th:only-of-type {\n",
       "        vertical-align: middle;\n",
       "    }\n",
       "\n",
       "    .dataframe tbody tr th {\n",
       "        vertical-align: top;\n",
       "    }\n",
       "\n",
       "    .dataframe thead th {\n",
       "        text-align: right;\n",
       "    }\n",
       "</style>\n",
       "<table border=\"1\" class=\"dataframe\">\n",
       "  <thead>\n",
       "    <tr style=\"text-align: right;\">\n",
       "      <th></th>\n",
       "      <th>model_name</th>\n",
       "      <th>hyperparameters</th>\n",
       "      <th>mse_train</th>\n",
       "      <th>mse_test</th>\n",
       "      <th>mae_train</th>\n",
       "      <th>mae_test</th>\n",
       "      <th>metric_validation</th>\n",
       "      <th>r2_train</th>\n",
       "      <th>r2_test</th>\n",
       "    </tr>\n",
       "  </thead>\n",
       "  <tbody>\n",
       "    <tr>\n",
       "      <th>0</th>\n",
       "      <td>linear_model</td>\n",
       "      <td>NaN</td>\n",
       "      <td>1820.536766</td>\n",
       "      <td>2905.506578</td>\n",
       "      <td>33.226168</td>\n",
       "      <td>40.613932</td>\n",
       "      <td>NaN</td>\n",
       "      <td>0.183052</td>\n",
       "      <td>-0.544173</td>\n",
       "    </tr>\n",
       "    <tr>\n",
       "      <th>1</th>\n",
       "      <td>lasso_linear_model</td>\n",
       "      <td>{'lasso_alpha': 9.682615757511359}</td>\n",
       "      <td>2208.803214</td>\n",
       "      <td>2041.583118</td>\n",
       "      <td>36.257234</td>\n",
       "      <td>36.913881</td>\n",
       "      <td>-2226.549075</td>\n",
       "      <td>0.008822</td>\n",
       "      <td>-0.085028</td>\n",
       "    </tr>\n",
       "    <tr>\n",
       "      <th>2</th>\n",
       "      <td>ridge_linear_model</td>\n",
       "      <td>{'ridge_alpha': 9.888610889176336}</td>\n",
       "      <td>1827.630705</td>\n",
       "      <td>2745.727483</td>\n",
       "      <td>33.247246</td>\n",
       "      <td>39.537152</td>\n",
       "      <td>-2806.128808</td>\n",
       "      <td>0.179869</td>\n",
       "      <td>-0.459256</td>\n",
       "    </tr>\n",
       "    <tr>\n",
       "      <th>3</th>\n",
       "      <td>decision_tree_model</td>\n",
       "      <td>{'max_depth': 17, 'min_samples_split': 20, 'mi...</td>\n",
       "      <td>1363.281900</td>\n",
       "      <td>2990.134258</td>\n",
       "      <td>27.205236</td>\n",
       "      <td>43.561691</td>\n",
       "      <td>-0.048636</td>\n",
       "      <td>0.388241</td>\n",
       "      <td>-0.589149</td>\n",
       "    </tr>\n",
       "    <tr>\n",
       "      <th>4</th>\n",
       "      <td>rf_model</td>\n",
       "      <td>{'max_depth': 2, 'n_estimators': 47}</td>\n",
       "      <td>1837.672997</td>\n",
       "      <td>2067.005678</td>\n",
       "      <td>33.164222</td>\n",
       "      <td>36.017890</td>\n",
       "      <td>-0.039630</td>\n",
       "      <td>0.175363</td>\n",
       "      <td>-0.098539</td>\n",
       "    </tr>\n",
       "    <tr>\n",
       "      <th>5</th>\n",
       "      <td>xgb_model</td>\n",
       "      <td>{'lambda': 0.01449412452654265, 'alpha': 0.007...</td>\n",
       "      <td>410.430984</td>\n",
       "      <td>3347.329568</td>\n",
       "      <td>14.343807</td>\n",
       "      <td>45.952609</td>\n",
       "      <td>-0.219875</td>\n",
       "      <td>0.815823</td>\n",
       "      <td>-0.778986</td>\n",
       "    </tr>\n",
       "  </tbody>\n",
       "</table>\n",
       "</div>"
      ],
      "text/plain": [
       "            model_name                                    hyperparameters  \\\n",
       "0         linear_model                                                NaN   \n",
       "1   lasso_linear_model                 {'lasso_alpha': 9.682615757511359}   \n",
       "2   ridge_linear_model                 {'ridge_alpha': 9.888610889176336}   \n",
       "3  decision_tree_model  {'max_depth': 17, 'min_samples_split': 20, 'mi...   \n",
       "4             rf_model               {'max_depth': 2, 'n_estimators': 47}   \n",
       "5            xgb_model  {'lambda': 0.01449412452654265, 'alpha': 0.007...   \n",
       "\n",
       "     mse_train     mse_test  mae_train   mae_test  metric_validation  \\\n",
       "0  1820.536766  2905.506578  33.226168  40.613932                NaN   \n",
       "1  2208.803214  2041.583118  36.257234  36.913881       -2226.549075   \n",
       "2  1827.630705  2745.727483  33.247246  39.537152       -2806.128808   \n",
       "3  1363.281900  2990.134258  27.205236  43.561691          -0.048636   \n",
       "4  1837.672997  2067.005678  33.164222  36.017890          -0.039630   \n",
       "5   410.430984  3347.329568  14.343807  45.952609          -0.219875   \n",
       "\n",
       "   r2_train   r2_test  \n",
       "0  0.183052 -0.544173  \n",
       "1  0.008822 -0.085028  \n",
       "2  0.179869 -0.459256  \n",
       "3  0.388241 -0.589149  \n",
       "4  0.175363 -0.098539  \n",
       "5  0.815823 -0.778986  "
      ]
     },
     "execution_count": 1351,
     "metadata": {},
     "output_type": "execute_result"
    }
   ],
   "source": [
    "results_concat"
   ]
  },
  {
   "cell_type": "code",
   "execution_count": 1209,
   "id": "handed-wyoming",
   "metadata": {},
   "outputs": [
    {
     "data": {
      "text/html": [
       "<div>\n",
       "<style scoped>\n",
       "    .dataframe tbody tr th:only-of-type {\n",
       "        vertical-align: middle;\n",
       "    }\n",
       "\n",
       "    .dataframe tbody tr th {\n",
       "        vertical-align: top;\n",
       "    }\n",
       "\n",
       "    .dataframe thead th {\n",
       "        text-align: right;\n",
       "    }\n",
       "</style>\n",
       "<table border=\"1\" class=\"dataframe\">\n",
       "  <thead>\n",
       "    <tr style=\"text-align: right;\">\n",
       "      <th></th>\n",
       "      <th>model_name</th>\n",
       "      <th>hyperparameters</th>\n",
       "      <th>mse_train</th>\n",
       "      <th>mse_test</th>\n",
       "      <th>mae_train</th>\n",
       "      <th>mae_test</th>\n",
       "      <th>metric_validation</th>\n",
       "      <th>r2_train</th>\n",
       "      <th>r2_test</th>\n",
       "    </tr>\n",
       "  </thead>\n",
       "  <tbody>\n",
       "    <tr>\n",
       "      <th>0</th>\n",
       "      <td>linear_model</td>\n",
       "      <td>NaN</td>\n",
       "      <td>2.874191</td>\n",
       "      <td>5.208494</td>\n",
       "      <td>1.321597</td>\n",
       "      <td>1.775524</td>\n",
       "      <td>NaN</td>\n",
       "      <td>0.184181</td>\n",
       "      <td>-0.538982</td>\n",
       "    </tr>\n",
       "    <tr>\n",
       "      <th>1</th>\n",
       "      <td>lasso_linear_model</td>\n",
       "      <td>{'lasso_alpha': 0.39054784193827574}</td>\n",
       "      <td>3.499900</td>\n",
       "      <td>3.697686</td>\n",
       "      <td>1.446466</td>\n",
       "      <td>1.604901</td>\n",
       "      <td>-3.520009</td>\n",
       "      <td>0.006578</td>\n",
       "      <td>-0.092576</td>\n",
       "    </tr>\n",
       "    <tr>\n",
       "      <th>2</th>\n",
       "      <td>ridge_linear_model</td>\n",
       "      <td>{'ridge_alpha': 9.888610889176336}</td>\n",
       "      <td>2.885498</td>\n",
       "      <td>4.876187</td>\n",
       "      <td>1.323797</td>\n",
       "      <td>1.735755</td>\n",
       "      <td>-4.481061</td>\n",
       "      <td>0.180971</td>\n",
       "      <td>-0.440794</td>\n",
       "    </tr>\n",
       "    <tr>\n",
       "      <th>3</th>\n",
       "      <td>decision_tree_model</td>\n",
       "      <td>{'max_depth': 9, 'min_samples_split': 15, 'min...</td>\n",
       "      <td>3.523074</td>\n",
       "      <td>3.702556</td>\n",
       "      <td>1.451416</td>\n",
       "      <td>1.603361</td>\n",
       "      <td>-0.002665</td>\n",
       "      <td>0.000000</td>\n",
       "      <td>-0.094015</td>\n",
       "    </tr>\n",
       "    <tr>\n",
       "      <th>4</th>\n",
       "      <td>rf_model</td>\n",
       "      <td>{'max_depth': 2, 'n_estimators': 36}</td>\n",
       "      <td>2.893269</td>\n",
       "      <td>3.717874</td>\n",
       "      <td>1.307547</td>\n",
       "      <td>1.582674</td>\n",
       "      <td>-0.032851</td>\n",
       "      <td>0.178766</td>\n",
       "      <td>-0.098541</td>\n",
       "    </tr>\n",
       "    <tr>\n",
       "      <th>5</th>\n",
       "      <td>xgb_model</td>\n",
       "      <td>{'lambda': 0.01449412452654265, 'alpha': 0.007...</td>\n",
       "      <td>0.527831</td>\n",
       "      <td>5.019451</td>\n",
       "      <td>0.516060</td>\n",
       "      <td>1.835030</td>\n",
       "      <td>-0.213565</td>\n",
       "      <td>0.850179</td>\n",
       "      <td>-0.483125</td>\n",
       "    </tr>\n",
       "  </tbody>\n",
       "</table>\n",
       "</div>"
      ],
      "text/plain": [
       "            model_name                                    hyperparameters  \\\n",
       "0         linear_model                                                NaN   \n",
       "1   lasso_linear_model               {'lasso_alpha': 0.39054784193827574}   \n",
       "2   ridge_linear_model                 {'ridge_alpha': 9.888610889176336}   \n",
       "3  decision_tree_model  {'max_depth': 9, 'min_samples_split': 15, 'min...   \n",
       "4             rf_model               {'max_depth': 2, 'n_estimators': 36}   \n",
       "5            xgb_model  {'lambda': 0.01449412452654265, 'alpha': 0.007...   \n",
       "\n",
       "   mse_train  mse_test  mae_train  mae_test  metric_validation  r2_train  \\\n",
       "0   2.874191  5.208494   1.321597  1.775524                NaN  0.184181   \n",
       "1   3.499900  3.697686   1.446466  1.604901          -3.520009  0.006578   \n",
       "2   2.885498  4.876187   1.323797  1.735755          -4.481061  0.180971   \n",
       "3   3.523074  3.702556   1.451416  1.603361          -0.002665  0.000000   \n",
       "4   2.893269  3.717874   1.307547  1.582674          -0.032851  0.178766   \n",
       "5   0.527831  5.019451   0.516060  1.835030          -0.213565  0.850179   \n",
       "\n",
       "    r2_test  \n",
       "0 -0.538982  \n",
       "1 -0.092576  \n",
       "2 -0.440794  \n",
       "3 -0.094015  \n",
       "4 -0.098541  \n",
       "5 -0.483125  "
      ]
     },
     "execution_count": 1209,
     "metadata": {},
     "output_type": "execute_result"
    }
   ],
   "source": [
    "# Results on Normalized data (testing on 2021) --> Predicting number of weeks (nominal)\n",
    "results_concat"
   ]
  },
  {
   "cell_type": "code",
   "execution_count": null,
   "id": "dental-tactics",
   "metadata": {},
   "outputs": [],
   "source": [
    "# Results on Log-data"
   ]
  },
  {
   "cell_type": "code",
   "execution_count": null,
   "id": "necessary-fundamentals",
   "metadata": {},
   "outputs": [],
   "source": []
  },
  {
   "cell_type": "code",
   "execution_count": null,
   "id": "south-authentication",
   "metadata": {},
   "outputs": [],
   "source": []
  },
  {
   "cell_type": "code",
   "execution_count": null,
   "id": "laden-mixture",
   "metadata": {},
   "outputs": [],
   "source": []
  },
  {
   "cell_type": "markdown",
   "id": "functioning-bunny",
   "metadata": {},
   "source": [
    "-----"
   ]
  },
  {
   "cell_type": "markdown",
   "id": "behavioral-comparison",
   "metadata": {},
   "source": [
    "## Back Up"
   ]
  },
  {
   "cell_type": "code",
   "execution_count": 805,
   "id": "vertical-passport",
   "metadata": {},
   "outputs": [],
   "source": [
    "SQL_trial_ids = ['10201806038', '10201806040', '10201806042', '10201807001','1-10ELOL', '10201806015', \n",
    "                 '10201806026', '10201806025','10201806027', '1-106BXY', '1-10ELPN', '10201806030',\n",
    "                 '10201806033', '1-10ELZC', '1-12MXSR', '1-12LDAB', '1-1EIAU4','1-1EIAUN', \n",
    "                 '1-1EIAVJ', '1-1EIATT', '1-1L0NQP', '1-26JYIY',\n",
    "                 '1-2IFHJV', '1-1S6QUZ', '1-274PTK', '1-1ZTG51', '1-21HO75',\n",
    "                 '1-2GG2AA', '0624-209', '1-39REHV', '1-2YLIZL', '1-3ELU49',\n",
    "                 '1-2IFHK7', '1-9I7GV', '1-CK4HM', '1-8R8L', '1-8UMZ', '1-DT93H',\n",
    "                 '1-ZA6XT', '1-EEZ99', '1-ZD7XX', '1-F28N', '1-ZD80O', '1-ZD8AP',\n",
    "                 '1-F2HY', '1-8UPO', '1-F9CI7', 'SHP615-301', '1-P37UL', '1-QCXSG',\n",
    "                 '1-ZA6U1', 'SHP633-306', '1-EGKBL', 'SHP634-102', '1-ZA6UB',\n",
    "                 'SHP640-301', 'SHP643-101', '1-ZA71B', '1-HTT6P', '1-ZD0NM',\n",
    "                 'SPD489-348', '1-ZD0UY', 'VV_DEN_204', '1-ZD7XO', '1-ZF5YO',\n",
    "                 '1-INX3G', '1-MGEGX', '471101', 'SHP621-302', 'SHP633-303',\n",
    "                 '1-ZA6X2', '1-ZA70B', 'SHP633-304', 'SHPELA-701', '1-ZA722',\n",
    "                 '1-ZA72K', 'SHP633-301', 'SHP639-101', 'TED-C13-003', '1-10XM9M',\n",
    "                 '1-17VBPS', '1-1BP8VZ', '10201806041', '10201901001', '1-1KXHY2',\n",
    "                 '1-1VZYNQ ', '1-1VZYOT', '1-23H347', '1-24RE13', '1-24RELR',\n",
    "                 '1-2J1GSP', '1-32PVS7', '1-3DYCDM', '1-CJRPD', '1-F6HHL',\n",
    "                 '1-G14DR', '1-V5BIE', '1-ZA6W2', '1-ZA6WK', '1-ZA71K', '1-ZD88J',\n",
    "                 '1-ZD8CA', '1-ZF5WP', '1-ZF5X1', '1-ZF60M', 'DX-2930-03',\n",
    "                 'HGT-HIT-094', 'SHP615-302', 'SHP616-300', 'SHP633-302',\n",
    "                 'SHP634-404', 'SHP647-305', 'TED-C14-006', 'VV_DEN_203-2',\n",
    "                 '071301', '091301', '10201806029', '1-1026F0', '1-10FGX3',\n",
    "                 '1-10FLG7', '10201806006', '10201806022', '1-1146BQ', '1-13KZMH',\n",
    "                 '1-1GDNNZ', '1-1HVXQ3', '1-1MZ2O7', '1-1X3FRR', '1-24REN3',\n",
    "                 '1-26UPF5', '1-274Q4X', '1-3BD3YR', '1-3SDL33', '1-8VE8X',\n",
    "                 '1-9GYS5', '1-HTWUL', '1-U0EGW', '1-ZA6ZB', '1-ZD806', '1-ZD80F',\n",
    "                 '1-ZD857', '1-ZF5XK', '1-ZF5ZJ', 'HGT-MLD-070', 'ROPP-2008-01',\n",
    "                 'SHP465-308', 'SHP465-309', 'SHP621-301', 'SHP-GCB-402',\n",
    "                 '10201806007', '10201806013', '1-1CJZCS', '1-1FQOMT', '1-1FQOV2',\n",
    "                 '1-25CUUR', '1-30EE6J', '1-34WP2Q', '1-3D8NXB', '1-8UNO',\n",
    "                 '1-ACL3H', '1-GG0OZ', '1-JLM1X', '1-LSEIL', '1-ZA6UK', '1-ZA6WT',\n",
    "                 '1-ZD0OZ', '1-ZD0ST', '1-ZD7ZJ', '1-ZD7ZX', '1-ZD88A', '1-ZD8BA',\n",
    "                 '241302', 'DX-2930-04', '1-1DC1ZJ', '1-1VZYMN ', '1-2H721R',\n",
    "                 '1-3A58P8', '1-ZA6XK', '1-ZF5Z0', 'PAR-C10-008', 'SHP465-112',\n",
    "                 'SHP634-101', 'SHP634-104', 'SHP640-302', 'SHP640-303',\n",
    "                 'SHP647-301', 'SHP647-306', '1-17X9H9', '1-1CJZCH', '1-1VZYOK',\n",
    "                 '1-8UOZ', '1-F29M', '1-F2HL', '1-HC2H3', '1-L6PF9', '1-L7IAF',\n",
    "                 '1-ZA6YK', '1-ZD0Q2', '1-ZD0UF', '1-ZD87D', '1-ZD87X', '1-ZOEF2',\n",
    "                 'SHP616-301', 'SHP620-303', 'SHP634-103', 'SHP643-102',\n",
    "                 'SHP647-302', 'TAK-743-1003', 'VV_NOR_211']\n",
    "\n",
    "SQL_trial_ids = set(SQL_trial_ids)"
   ]
  },
  {
   "cell_type": "code",
   "execution_count": 819,
   "id": "korean-application",
   "metadata": {},
   "outputs": [
    {
     "name": "stdout",
     "output_type": "stream",
     "text": [
      "We have 209 trial IDs\n",
      "CAR has 314 trial IDs\n",
      "We share 181 IDs\n"
     ]
    }
   ],
   "source": [
    "# Comparing the IDs we have against the IDs Scion has \n",
    "\n",
    "## Note: We have IDs only for trials that were completed or closed. Scion includes multiple categories\n",
    "CAR_trial_ids = set(list(df.TrialID))\n",
    "\n",
    "our_ids = len(SQL_trial_ids)\n",
    "CAR_ids = len(CAR_trial_ids)\n",
    "intersection = list(SQL_trial_ids & CAR_trial_ids) # So we know how many IDs we share\n",
    "\n",
    "print(f'We have {our_ids} trial IDs')\n",
    "print(f'CAR has {CAR_ids} trial IDs')\n",
    "print(f'We share {len(intersection)} IDs')"
   ]
  },
  {
   "cell_type": "code",
   "execution_count": 892,
   "id": "metric-printing",
   "metadata": {},
   "outputs": [],
   "source": [
    "new_ids = CAR_trial_ids - SQL_trial_ids"
   ]
  },
  {
   "cell_type": "code",
   "execution_count": 824,
   "id": "senior-empty",
   "metadata": {},
   "outputs": [],
   "source": [
    "SQL_data = pd.read_csv('processed_data.csv')"
   ]
  },
  {
   "cell_type": "code",
   "execution_count": 855,
   "id": "angry-chinese",
   "metadata": {},
   "outputs": [],
   "source": []
  },
  {
   "cell_type": "code",
   "execution_count": 864,
   "id": "reasonable-yugoslavia",
   "metadata": {},
   "outputs": [
    {
     "name": "stderr",
     "output_type": "stream",
     "text": [
      "/usr/local/lib/python3.6/site-packages/ipykernel_launcher.py:16: SettingWithCopyWarning: \n",
      "A value is trying to be set on a copy of a slice from a DataFrame.\n",
      "Try using .loc[row_indexer,col_indexer] = value instead\n",
      "\n",
      "See the caveats in the documentation: http://pandas.pydata.org/pandas-docs/stable/user_guide/indexing.html#returning-a-view-versus-a-copy\n",
      "  app.launch_new_instance()\n",
      "/usr/local/lib/python3.6/site-packages/ipykernel_launcher.py:17: SettingWithCopyWarning: \n",
      "A value is trying to be set on a copy of a slice from a DataFrame.\n",
      "Try using .loc[row_indexer,col_indexer] = value instead\n",
      "\n",
      "See the caveats in the documentation: http://pandas.pydata.org/pandas-docs/stable/user_guide/indexing.html#returning-a-view-versus-a-copy\n"
     ]
    }
   ],
   "source": [
    "sub_df = df[['TrialID', 'ProtocolStatus', 'PlannedEnrollment', \n",
    "             'LSO_ActualDate', 'DBL_ActualDate', 'TA', 'CRO', \n",
    "             'ProtocolPhase']]\n",
    "\n",
    "date_cols = ['LSO_ActualDate', 'DBL_ActualDate']\n",
    "\n",
    "for col in date_cols:\n",
    "    sub_df.loc[:, col] = sub_df.loc[:, col].apply(lambda x: get_date_format(x))\n",
    "    \n",
    "sub_df.loc[:, 'ProtocolPhase'] = sub_df.ProtocolPhase.str.upper()\n",
    "sub_df.loc[:, 'ProtocolPhase'] = sub_df.ProtocolPhase.apply(lambda x: phase_map(x))\n",
    "\n",
    "sub_df.loc[:, 'DBL_ActualDate'] = pd.to_datetime(sub_df.loc[:, 'DBL_ActualDate'])\n",
    "sub_df.loc[:, 'LSO_ActualDate'] = pd.to_datetime(sub_df.loc[:, 'LSO_ActualDate'])\n",
    "\n",
    "sub_df['CloseOut'] = sub_df['CloseOut'] = (sub_df.DBL_ActualDate - sub_df.LSO_ActualDate) / pd.offsets.Day(1)\n",
    "sub_df['CloseOut'] = sub_df['CloseOut'].astype(int)\n",
    "\n",
    "\n",
    "\n",
    "# Dealing with CROs \n",
    "sub_df.loc[:, 'CRO'] = sub_df.CRO.str.replace('Takeda PRA Development Center', 'PRA')\n",
    "sub_df.loc[:, 'CRO'] = sub_df.CRO.str.replace('PRA Health Sciences', 'PRA')\n",
    "sub_df.loc[:, 'CRO'] = sub_df.CRO.str.replace('ICON / MAPI / Paradigm', 'ICON')\n",
    "\n",
    "\n",
    "NON_CORE_CRO = ['Hangzhou Tigermed Consulting', 'Atlant','TBD', 'TFS', 0, \n",
    "                'Hammersmith Medicines Research', 'GEICAM', 'INC Research',\n",
    "                'CMIC', 'Parexel', 'Synteract','Sarah Cannon Research Institut', \n",
    "                'Dobbs Consulting', 'In-House','Covance', 'MEDISCIENCE PLANNING INC',\n",
    "                'EPS', 'A2 Healthcare','Red Maple Trials, Rho, Triumpharma', \n",
    "                'Medpace', 'Endpoint', 'Clinical Pharmacology of Miami, INC',\n",
    "                'Bracket', 'Psi', 'DMID-CROMS Pharmacovigilance Group', 'Chiltern',\n",
    "                'Assign Group', 'Mediscience Planning Inc.', 'DP Clinical, Inc.']\n",
    "sub_df.loc[sub_df.CRO.isin(NON_CORE_CRO), 'CRO'] = 'Other'"
   ]
  },
  {
   "cell_type": "code",
   "execution_count": 866,
   "id": "drawn-census",
   "metadata": {},
   "outputs": [
    {
     "data": {
      "text/plain": [
       "Index(['TrialID', 'ProtocolStatus', 'PlannedEnrollment', 'LSO_ActualDate',\n",
       "       'DBL_ActualDate', 'TA', 'CRO', 'ProtocolPhase', 'CloseOut'],\n",
       "      dtype='object')"
      ]
     },
     "execution_count": 866,
     "metadata": {},
     "output_type": "execute_result"
    }
   ],
   "source": [
    "sub_df.columns"
   ]
  },
  {
   "cell_type": "code",
   "execution_count": 875,
   "id": "stock-clothing",
   "metadata": {},
   "outputs": [],
   "source": [
    "sub_CAR_data = sub_df[['TrialID', 'ProtocolStatus', 'PlannedEnrollment', \n",
    "                       'TA','ProtocolPhase', 'CRO', 'CloseOut']]"
   ]
  },
  {
   "cell_type": "code",
   "execution_count": 887,
   "id": "passing-conducting",
   "metadata": {},
   "outputs": [],
   "source": [
    "sub_SQL_data = SQL_data[['Trial_id', 'Status', 'Planned_enrollment', \n",
    "                         'GeneralTA', 'Phase', 'CRO', 'Close_out']]\n",
    "\n",
    "\n",
    "# Dealing with CROs \n",
    "sub_SQL_data.loc[:, 'CRO'] = sub_SQL_data.CRO.str.replace('Takeda PRA Development Center', 'PRA')\n",
    "sub_SQL_data.loc[:, 'CRO'] = sub_SQL_data.CRO.str.replace('PRA Health Sciences', 'PRA')\n",
    "sub_SQL_data.loc[:, 'CRO'] = sub_SQL_data.CRO.str.replace('ICON / MAPI / Paradigm', 'ICON')\n",
    "\n",
    "\n",
    "NON_CORE_CRO = ['Hangzhou Tigermed Consulting', 'Atlant','TBD', 'TFS', 0, \n",
    "                'Hammersmith Medicines Research', 'GEICAM', 'INC Research',\n",
    "                'CMIC', 'Parexel', 'Synteract','Sarah Cannon Research Institut', \n",
    "                'Dobbs Consulting', 'In-House','Covance', 'MEDISCIENCE PLANNING INC',\n",
    "                'EPS', 'A2 Healthcare','Red Maple Trials, Rho, Triumpharma', \n",
    "                'Medpace', 'Endpoint', 'Clinical Pharmacology of Miami, INC',\n",
    "                'Bracket', 'Psi', 'DMID-CROMS Pharmacovigilance Group', 'Chiltern',\n",
    "                'Assign Group', 'Mediscience Planning Inc.', 'DP Clinical, Inc.', 'MEDISCIENCE']\n",
    "sub_SQL_data.loc[sub_SQL_data.CRO.isin(NON_CORE_CRO), 'CRO'] = 'Other'\n",
    "\n",
    "sub_SQL_data.columns = ['TrialID', 'ProtocolStatus', 'PlannedEnrollment', \n",
    "                        'TA', 'ProtocolPhase','CRO', 'CloseOut']"
   ]
  },
  {
   "cell_type": "code",
   "execution_count": 888,
   "id": "greater-atlanta",
   "metadata": {},
   "outputs": [
    {
     "data": {
      "text/html": [
       "<div>\n",
       "<style scoped>\n",
       "    .dataframe tbody tr th:only-of-type {\n",
       "        vertical-align: middle;\n",
       "    }\n",
       "\n",
       "    .dataframe tbody tr th {\n",
       "        vertical-align: top;\n",
       "    }\n",
       "\n",
       "    .dataframe thead th {\n",
       "        text-align: right;\n",
       "    }\n",
       "</style>\n",
       "<table border=\"1\" class=\"dataframe\">\n",
       "  <thead>\n",
       "    <tr style=\"text-align: right;\">\n",
       "      <th></th>\n",
       "      <th>TrialID</th>\n",
       "      <th>ProtocolStatus</th>\n",
       "      <th>PlannedEnrollment</th>\n",
       "      <th>TA</th>\n",
       "      <th>ProtocolPhase</th>\n",
       "      <th>CRO</th>\n",
       "      <th>CloseOut</th>\n",
       "    </tr>\n",
       "  </thead>\n",
       "  <tbody>\n",
       "    <tr>\n",
       "      <th>0</th>\n",
       "      <td>1-1ASDLD</td>\n",
       "      <td>Terminated</td>\n",
       "      <td>46</td>\n",
       "      <td>NS</td>\n",
       "      <td>I</td>\n",
       "      <td>PPD</td>\n",
       "      <td>289</td>\n",
       "    </tr>\n",
       "    <tr>\n",
       "      <th>7</th>\n",
       "      <td>1-1BKVJT</td>\n",
       "      <td>Recruitment Complete</td>\n",
       "      <td>40</td>\n",
       "      <td>Oncology</td>\n",
       "      <td>III</td>\n",
       "      <td>PPD</td>\n",
       "      <td>51</td>\n",
       "    </tr>\n",
       "    <tr>\n",
       "      <th>9</th>\n",
       "      <td>1-1BKVML</td>\n",
       "      <td>Recruitment Complete</td>\n",
       "      <td>22</td>\n",
       "      <td>Oncology</td>\n",
       "      <td>I</td>\n",
       "      <td>IQVIA</td>\n",
       "      <td>59</td>\n",
       "    </tr>\n",
       "    <tr>\n",
       "      <th>11</th>\n",
       "      <td>1-1BP8VZ</td>\n",
       "      <td>Closed</td>\n",
       "      <td>30</td>\n",
       "      <td>GI</td>\n",
       "      <td>I</td>\n",
       "      <td>IQVIA</td>\n",
       "      <td>6</td>\n",
       "    </tr>\n",
       "    <tr>\n",
       "      <th>14</th>\n",
       "      <td>1-1CJZC7</td>\n",
       "      <td>Terminated</td>\n",
       "      <td>830</td>\n",
       "      <td>GI</td>\n",
       "      <td>III</td>\n",
       "      <td>IQVIA</td>\n",
       "      <td>112</td>\n",
       "    </tr>\n",
       "    <tr>\n",
       "      <th>...</th>\n",
       "      <td>...</td>\n",
       "      <td>...</td>\n",
       "      <td>...</td>\n",
       "      <td>...</td>\n",
       "      <td>...</td>\n",
       "      <td>...</td>\n",
       "      <td>...</td>\n",
       "    </tr>\n",
       "    <tr>\n",
       "      <th>3045</th>\n",
       "      <td>VV_NOR_202</td>\n",
       "      <td>Completed</td>\n",
       "      <td>840</td>\n",
       "      <td>Vaccine</td>\n",
       "      <td>II</td>\n",
       "      <td>IQVIA</td>\n",
       "      <td>71</td>\n",
       "    </tr>\n",
       "    <tr>\n",
       "      <th>3046</th>\n",
       "      <td>VV_NOR_204</td>\n",
       "      <td>Completed</td>\n",
       "      <td>325</td>\n",
       "      <td>Vaccine</td>\n",
       "      <td>II</td>\n",
       "      <td>PPD</td>\n",
       "      <td>129</td>\n",
       "    </tr>\n",
       "    <tr>\n",
       "      <th>3050</th>\n",
       "      <td>VV_NOR_210</td>\n",
       "      <td>Completed</td>\n",
       "      <td>50</td>\n",
       "      <td>Vaccine</td>\n",
       "      <td>II</td>\n",
       "      <td>PPD</td>\n",
       "      <td>48</td>\n",
       "    </tr>\n",
       "    <tr>\n",
       "      <th>3051</th>\n",
       "      <td>VV_NOR_211</td>\n",
       "      <td>Completed</td>\n",
       "      <td>4,176</td>\n",
       "      <td>Vaccine</td>\n",
       "      <td>II</td>\n",
       "      <td>IQVIA</td>\n",
       "      <td>53</td>\n",
       "    </tr>\n",
       "    <tr>\n",
       "      <th>3078</th>\n",
       "      <td>VV_ZIK_101</td>\n",
       "      <td>Recruiting</td>\n",
       "      <td>240</td>\n",
       "      <td>Vaccine</td>\n",
       "      <td>I</td>\n",
       "      <td>PRA</td>\n",
       "      <td>151</td>\n",
       "    </tr>\n",
       "  </tbody>\n",
       "</table>\n",
       "<p>314 rows × 7 columns</p>\n",
       "</div>"
      ],
      "text/plain": [
       "         TrialID        ProtocolStatus PlannedEnrollment        TA  \\\n",
       "0       1-1ASDLD            Terminated                46        NS   \n",
       "7       1-1BKVJT  Recruitment Complete                40  Oncology   \n",
       "9       1-1BKVML  Recruitment Complete                22  Oncology   \n",
       "11      1-1BP8VZ                Closed                30        GI   \n",
       "14      1-1CJZC7            Terminated               830        GI   \n",
       "...          ...                   ...               ...       ...   \n",
       "3045  VV_NOR_202             Completed               840   Vaccine   \n",
       "3046  VV_NOR_204             Completed               325   Vaccine   \n",
       "3050  VV_NOR_210             Completed                50   Vaccine   \n",
       "3051  VV_NOR_211             Completed             4,176   Vaccine   \n",
       "3078  VV_ZIK_101            Recruiting               240   Vaccine   \n",
       "\n",
       "     ProtocolPhase    CRO  CloseOut  \n",
       "0                I    PPD       289  \n",
       "7              III    PPD        51  \n",
       "9                I  IQVIA        59  \n",
       "11               I  IQVIA         6  \n",
       "14             III  IQVIA       112  \n",
       "...            ...    ...       ...  \n",
       "3045            II  IQVIA        71  \n",
       "3046            II    PPD       129  \n",
       "3050            II    PPD        48  \n",
       "3051            II  IQVIA        53  \n",
       "3078             I    PRA       151  \n",
       "\n",
       "[314 rows x 7 columns]"
      ]
     },
     "execution_count": 888,
     "metadata": {},
     "output_type": "execute_result"
    }
   ],
   "source": [
    "sub_CAR_data"
   ]
  },
  {
   "cell_type": "code",
   "execution_count": 889,
   "id": "painted-innocent",
   "metadata": {},
   "outputs": [
    {
     "data": {
      "text/html": [
       "<div>\n",
       "<style scoped>\n",
       "    .dataframe tbody tr th:only-of-type {\n",
       "        vertical-align: middle;\n",
       "    }\n",
       "\n",
       "    .dataframe tbody tr th {\n",
       "        vertical-align: top;\n",
       "    }\n",
       "\n",
       "    .dataframe thead th {\n",
       "        text-align: right;\n",
       "    }\n",
       "</style>\n",
       "<table border=\"1\" class=\"dataframe\">\n",
       "  <thead>\n",
       "    <tr style=\"text-align: right;\">\n",
       "      <th></th>\n",
       "      <th>TrialID</th>\n",
       "      <th>ProtocolStatus</th>\n",
       "      <th>PlannedEnrollment</th>\n",
       "      <th>TA</th>\n",
       "      <th>ProtocolPhase</th>\n",
       "      <th>CRO</th>\n",
       "      <th>CloseOut</th>\n",
       "    </tr>\n",
       "  </thead>\n",
       "  <tbody>\n",
       "    <tr>\n",
       "      <th>0</th>\n",
       "      <td>10201806004</td>\n",
       "      <td>Enrollment Complete</td>\n",
       "      <td>32</td>\n",
       "      <td>Oncology</td>\n",
       "      <td>II</td>\n",
       "      <td>PRA</td>\n",
       "      <td>56</td>\n",
       "    </tr>\n",
       "    <tr>\n",
       "      <th>1</th>\n",
       "      <td>10201806038</td>\n",
       "      <td>Closed</td>\n",
       "      <td>96</td>\n",
       "      <td>GI</td>\n",
       "      <td>I</td>\n",
       "      <td>PRA</td>\n",
       "      <td>103</td>\n",
       "    </tr>\n",
       "    <tr>\n",
       "      <th>2</th>\n",
       "      <td>10201806040</td>\n",
       "      <td>Closed</td>\n",
       "      <td>278</td>\n",
       "      <td>GI</td>\n",
       "      <td>III</td>\n",
       "      <td>Other</td>\n",
       "      <td>170</td>\n",
       "    </tr>\n",
       "    <tr>\n",
       "      <th>3</th>\n",
       "      <td>10201806043</td>\n",
       "      <td>Active, Not Recruiting</td>\n",
       "      <td>16</td>\n",
       "      <td>Oncology</td>\n",
       "      <td>II</td>\n",
       "      <td>Other</td>\n",
       "      <td>89</td>\n",
       "    </tr>\n",
       "    <tr>\n",
       "      <th>4</th>\n",
       "      <td>10201902001</td>\n",
       "      <td>Enrolling</td>\n",
       "      <td>14</td>\n",
       "      <td>Oncology</td>\n",
       "      <td>I</td>\n",
       "      <td>PPD</td>\n",
       "      <td>0</td>\n",
       "    </tr>\n",
       "    <tr>\n",
       "      <th>...</th>\n",
       "      <td>...</td>\n",
       "      <td>...</td>\n",
       "      <td>...</td>\n",
       "      <td>...</td>\n",
       "      <td>...</td>\n",
       "      <td>...</td>\n",
       "      <td>...</td>\n",
       "    </tr>\n",
       "    <tr>\n",
       "      <th>310</th>\n",
       "      <td>SHP634-103</td>\n",
       "      <td>Completed</td>\n",
       "      <td>58</td>\n",
       "      <td>RGH</td>\n",
       "      <td>I</td>\n",
       "      <td>Other</td>\n",
       "      <td>126</td>\n",
       "    </tr>\n",
       "    <tr>\n",
       "      <th>311</th>\n",
       "      <td>SHP643-102</td>\n",
       "      <td>Completed</td>\n",
       "      <td>190</td>\n",
       "      <td>RGH</td>\n",
       "      <td>I</td>\n",
       "      <td>PPD</td>\n",
       "      <td>52</td>\n",
       "    </tr>\n",
       "    <tr>\n",
       "      <th>312</th>\n",
       "      <td>SHP647-302</td>\n",
       "      <td>Completed</td>\n",
       "      <td>825</td>\n",
       "      <td>GI</td>\n",
       "      <td>III</td>\n",
       "      <td>Other</td>\n",
       "      <td>117</td>\n",
       "    </tr>\n",
       "    <tr>\n",
       "      <th>313</th>\n",
       "      <td>TAK-743-1003</td>\n",
       "      <td>Completed</td>\n",
       "      <td>12</td>\n",
       "      <td>NonCore</td>\n",
       "      <td>I</td>\n",
       "      <td>Celerion</td>\n",
       "      <td>47</td>\n",
       "    </tr>\n",
       "    <tr>\n",
       "      <th>314</th>\n",
       "      <td>VV_NOR_211</td>\n",
       "      <td>Completed</td>\n",
       "      <td>4176</td>\n",
       "      <td>NonCore</td>\n",
       "      <td>IIB</td>\n",
       "      <td>IQVIA</td>\n",
       "      <td>53</td>\n",
       "    </tr>\n",
       "  </tbody>\n",
       "</table>\n",
       "<p>315 rows × 7 columns</p>\n",
       "</div>"
      ],
      "text/plain": [
       "          TrialID          ProtocolStatus  PlannedEnrollment        TA  \\\n",
       "0     10201806004     Enrollment Complete                 32  Oncology   \n",
       "1     10201806038                  Closed                 96        GI   \n",
       "2     10201806040                  Closed                278        GI   \n",
       "3     10201806043  Active, Not Recruiting                 16  Oncology   \n",
       "4     10201902001               Enrolling                 14  Oncology   \n",
       "..            ...                     ...                ...       ...   \n",
       "310    SHP634-103               Completed                 58       RGH   \n",
       "311    SHP643-102               Completed                190       RGH   \n",
       "312    SHP647-302               Completed                825        GI   \n",
       "313  TAK-743-1003               Completed                 12   NonCore   \n",
       "314    VV_NOR_211               Completed               4176   NonCore   \n",
       "\n",
       "    ProtocolPhase       CRO  CloseOut  \n",
       "0              II       PRA        56  \n",
       "1               I       PRA       103  \n",
       "2             III     Other       170  \n",
       "3              II     Other        89  \n",
       "4               I       PPD         0  \n",
       "..            ...       ...       ...  \n",
       "310             I     Other       126  \n",
       "311             I       PPD        52  \n",
       "312           III     Other       117  \n",
       "313             I  Celerion        47  \n",
       "314           IIB     IQVIA        53  \n",
       "\n",
       "[315 rows x 7 columns]"
      ]
     },
     "execution_count": 889,
     "metadata": {},
     "output_type": "execute_result"
    }
   ],
   "source": [
    "sub_SQL_data"
   ]
  },
  {
   "cell_type": "code",
   "execution_count": 897,
   "id": "joint-precipitation",
   "metadata": {},
   "outputs": [],
   "source": [
    "ext_CAR_data = sub_CAR_data.loc[sub_CAR_data.TrialID.isin(new_ids), :]"
   ]
  },
  {
   "cell_type": "code",
   "execution_count": 898,
   "id": "radio-theory",
   "metadata": {},
   "outputs": [],
   "source": [
    "new_df = copy.deepcopy(sub_SQL_data)"
   ]
  },
  {
   "cell_type": "code",
   "execution_count": 901,
   "id": "defined-coach",
   "metadata": {},
   "outputs": [],
   "source": [
    "new_df = new_df.append(ext_CAR_data)"
   ]
  },
  {
   "cell_type": "code",
   "execution_count": 902,
   "id": "documented-fleece",
   "metadata": {},
   "outputs": [
    {
     "data": {
      "text/html": [
       "<div>\n",
       "<style scoped>\n",
       "    .dataframe tbody tr th:only-of-type {\n",
       "        vertical-align: middle;\n",
       "    }\n",
       "\n",
       "    .dataframe tbody tr th {\n",
       "        vertical-align: top;\n",
       "    }\n",
       "\n",
       "    .dataframe thead th {\n",
       "        text-align: right;\n",
       "    }\n",
       "</style>\n",
       "<table border=\"1\" class=\"dataframe\">\n",
       "  <thead>\n",
       "    <tr style=\"text-align: right;\">\n",
       "      <th></th>\n",
       "      <th>TrialID</th>\n",
       "      <th>ProtocolStatus</th>\n",
       "      <th>PlannedEnrollment</th>\n",
       "      <th>TA</th>\n",
       "      <th>ProtocolPhase</th>\n",
       "      <th>CRO</th>\n",
       "      <th>CloseOut</th>\n",
       "    </tr>\n",
       "  </thead>\n",
       "  <tbody>\n",
       "    <tr>\n",
       "      <th>0</th>\n",
       "      <td>10201806004</td>\n",
       "      <td>Enrollment Complete</td>\n",
       "      <td>32</td>\n",
       "      <td>Oncology</td>\n",
       "      <td>II</td>\n",
       "      <td>PRA</td>\n",
       "      <td>56</td>\n",
       "    </tr>\n",
       "    <tr>\n",
       "      <th>1</th>\n",
       "      <td>10201806038</td>\n",
       "      <td>Closed</td>\n",
       "      <td>96</td>\n",
       "      <td>GI</td>\n",
       "      <td>I</td>\n",
       "      <td>PRA</td>\n",
       "      <td>103</td>\n",
       "    </tr>\n",
       "    <tr>\n",
       "      <th>2</th>\n",
       "      <td>10201806040</td>\n",
       "      <td>Closed</td>\n",
       "      <td>278</td>\n",
       "      <td>GI</td>\n",
       "      <td>III</td>\n",
       "      <td>Other</td>\n",
       "      <td>170</td>\n",
       "    </tr>\n",
       "    <tr>\n",
       "      <th>3</th>\n",
       "      <td>10201806043</td>\n",
       "      <td>Active, Not Recruiting</td>\n",
       "      <td>16</td>\n",
       "      <td>Oncology</td>\n",
       "      <td>II</td>\n",
       "      <td>Other</td>\n",
       "      <td>89</td>\n",
       "    </tr>\n",
       "    <tr>\n",
       "      <th>4</th>\n",
       "      <td>10201902001</td>\n",
       "      <td>Enrolling</td>\n",
       "      <td>14</td>\n",
       "      <td>Oncology</td>\n",
       "      <td>I</td>\n",
       "      <td>PPD</td>\n",
       "      <td>0</td>\n",
       "    </tr>\n",
       "    <tr>\n",
       "      <th>...</th>\n",
       "      <td>...</td>\n",
       "      <td>...</td>\n",
       "      <td>...</td>\n",
       "      <td>...</td>\n",
       "      <td>...</td>\n",
       "      <td>...</td>\n",
       "      <td>...</td>\n",
       "    </tr>\n",
       "    <tr>\n",
       "      <th>3044</th>\n",
       "      <td>VV_NOR_201</td>\n",
       "      <td>Reported</td>\n",
       "      <td>450</td>\n",
       "      <td>Vaccine</td>\n",
       "      <td>II</td>\n",
       "      <td>IQVIA</td>\n",
       "      <td>18</td>\n",
       "    </tr>\n",
       "    <tr>\n",
       "      <th>3045</th>\n",
       "      <td>VV_NOR_202</td>\n",
       "      <td>Completed</td>\n",
       "      <td>840</td>\n",
       "      <td>Vaccine</td>\n",
       "      <td>II</td>\n",
       "      <td>IQVIA</td>\n",
       "      <td>71</td>\n",
       "    </tr>\n",
       "    <tr>\n",
       "      <th>3046</th>\n",
       "      <td>VV_NOR_204</td>\n",
       "      <td>Completed</td>\n",
       "      <td>325</td>\n",
       "      <td>Vaccine</td>\n",
       "      <td>II</td>\n",
       "      <td>PPD</td>\n",
       "      <td>129</td>\n",
       "    </tr>\n",
       "    <tr>\n",
       "      <th>3050</th>\n",
       "      <td>VV_NOR_210</td>\n",
       "      <td>Completed</td>\n",
       "      <td>50</td>\n",
       "      <td>Vaccine</td>\n",
       "      <td>II</td>\n",
       "      <td>PPD</td>\n",
       "      <td>48</td>\n",
       "    </tr>\n",
       "    <tr>\n",
       "      <th>3078</th>\n",
       "      <td>VV_ZIK_101</td>\n",
       "      <td>Recruiting</td>\n",
       "      <td>240</td>\n",
       "      <td>Vaccine</td>\n",
       "      <td>I</td>\n",
       "      <td>PRA</td>\n",
       "      <td>151</td>\n",
       "    </tr>\n",
       "  </tbody>\n",
       "</table>\n",
       "<p>448 rows × 7 columns</p>\n",
       "</div>"
      ],
      "text/plain": [
       "          TrialID          ProtocolStatus PlannedEnrollment        TA  \\\n",
       "0     10201806004     Enrollment Complete                32  Oncology   \n",
       "1     10201806038                  Closed                96        GI   \n",
       "2     10201806040                  Closed               278        GI   \n",
       "3     10201806043  Active, Not Recruiting                16  Oncology   \n",
       "4     10201902001               Enrolling                14  Oncology   \n",
       "...           ...                     ...               ...       ...   \n",
       "3044   VV_NOR_201                Reported               450   Vaccine   \n",
       "3045   VV_NOR_202               Completed               840   Vaccine   \n",
       "3046   VV_NOR_204               Completed               325   Vaccine   \n",
       "3050   VV_NOR_210               Completed                50   Vaccine   \n",
       "3078   VV_ZIK_101              Recruiting               240   Vaccine   \n",
       "\n",
       "     ProtocolPhase    CRO  CloseOut  \n",
       "0               II    PRA        56  \n",
       "1                I    PRA       103  \n",
       "2              III  Other       170  \n",
       "3               II  Other        89  \n",
       "4                I    PPD         0  \n",
       "...            ...    ...       ...  \n",
       "3044            II  IQVIA        18  \n",
       "3045            II  IQVIA        71  \n",
       "3046            II    PPD       129  \n",
       "3050            II    PPD        48  \n",
       "3078             I    PRA       151  \n",
       "\n",
       "[448 rows x 7 columns]"
      ]
     },
     "execution_count": 902,
     "metadata": {},
     "output_type": "execute_result"
    }
   ],
   "source": [
    "new_df"
   ]
  },
  {
   "cell_type": "code",
   "execution_count": 913,
   "id": "unlike-diamond",
   "metadata": {},
   "outputs": [],
   "source": [
    "same_CAR_data = sub_CAR_data.loc[sub_CAR_data.TrialID.isin(intersection), :]\n",
    "same_SQL_data = sub_SQL_data.loc[sub_SQL_data.TrialID.isin(intersection), :]"
   ]
  },
  {
   "cell_type": "code",
   "execution_count": 921,
   "id": "retired-accountability",
   "metadata": {},
   "outputs": [
    {
     "name": "stderr",
     "output_type": "stream",
     "text": [
      "/usr/local/lib/python3.6/site-packages/seaborn/distributions.py:2557: FutureWarning: `distplot` is a deprecated function and will be removed in a future version. Please adapt your code to use either `displot` (a figure-level function with similar flexibility) or `histplot` (an axes-level function for histograms).\n",
      "  warnings.warn(msg, FutureWarning)\n",
      "/usr/local/lib/python3.6/site-packages/seaborn/distributions.py:2557: FutureWarning: `distplot` is a deprecated function and will be removed in a future version. Please adapt your code to use either `displot` (a figure-level function with similar flexibility) or `histplot` (an axes-level function for histograms).\n",
      "  warnings.warn(msg, FutureWarning)\n"
     ]
    },
    {
     "data": {
      "text/plain": [
       "<AxesSubplot:xlabel='CloseOut', ylabel='Density'>"
      ]
     },
     "execution_count": 921,
     "metadata": {},
     "output_type": "execute_result"
    },
    {
     "data": {
      "image/png": "[encoded data removed]",
      "text/plain": [
       "<Figure size 432x288 with 1 Axes>"
      ]
     },
     "metadata": {
      "needs_background": "light"
     },
     "output_type": "display_data"
    }
   ],
   "source": [
    "sns.distplot(same_CAR_data.CloseOut)\n",
    "sns.distplot(same_SQL_data.CloseOut)"
   ]
  },
  {
   "cell_type": "code",
   "execution_count": 916,
   "id": "moral-hazard",
   "metadata": {},
   "outputs": [
    {
     "data": {
      "text/plain": [
       "(56.0, 79.0828729281768, 679, 1)"
      ]
     },
     "execution_count": 916,
     "metadata": {},
     "output_type": "execute_result"
    }
   ],
   "source": [
    "same_CAR_data.CloseOut.median(), same_CAR_data.CloseOut.mean(), same_CAR_data.CloseOut.max(), same_CAR_data.CloseOut.min()"
   ]
  },
  {
   "cell_type": "code",
   "execution_count": 917,
   "id": "wanted-ensemble",
   "metadata": {},
   "outputs": [
    {
     "data": {
      "text/plain": [
       "(56.0, 73.89502762430939, 689, 2)"
      ]
     },
     "execution_count": 917,
     "metadata": {},
     "output_type": "execute_result"
    }
   ],
   "source": [
    "same_SQL_data.CloseOut.median(), same_SQL_data.CloseOut.mean(), same_SQL_data.CloseOut.max(), same_SQL_data.CloseOut.min()"
   ]
  },
  {
   "cell_type": "code",
   "execution_count": 914,
   "id": "afraid-buying",
   "metadata": {},
   "outputs": [
    {
     "data": {
      "text/plain": [
       "(181, 7)"
      ]
     },
     "execution_count": 914,
     "metadata": {},
     "output_type": "execute_result"
    }
   ],
   "source": [
    "same_SQL_data.shape"
   ]
  },
  {
   "cell_type": "code",
   "execution_count": 915,
   "id": "ceramic-brown",
   "metadata": {},
   "outputs": [
    {
     "data": {
      "text/plain": [
       "(181, 7)"
      ]
     },
     "execution_count": 915,
     "metadata": {},
     "output_type": "execute_result"
    }
   ],
   "source": [
    "same_CAR_data.shape"
   ]
  },
  {
   "cell_type": "code",
   "execution_count": null,
   "id": "organized-student",
   "metadata": {},
   "outputs": [],
   "source": []
  }
 ],
 "metadata": {
  "kernelspec": {
   "display_name": "Python 3",
   "language": "python",
   "name": "python3"
  },
  "language_info": {
   "codemirror_mode": {
    "name": "ipython",
    "version": 3
   },
   "file_extension": ".py",
   "mimetype": "text/x-python",
   "name": "python",
   "nbconvert_exporter": "python",
   "pygments_lexer": "ipython3",
   "version": "3.8.8"
  }
 },
 "nbformat": 4,
 "nbformat_minor": 5
}
