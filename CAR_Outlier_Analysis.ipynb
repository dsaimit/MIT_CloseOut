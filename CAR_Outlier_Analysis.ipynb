{
 "cells": [
  {
   "cell_type": "markdown",
   "id": "outer-geometry",
   "metadata": {},
   "source": [
    "# Analysis of Outliers"
   ]
  },
  {
   "cell_type": "code",
   "execution_count": 2,
   "id": "covered-southeast",
   "metadata": {},
   "outputs": [],
   "source": [
    "import numpy as np\n",
    "import pandas as pd\n",
    "from scipy import stats\n",
    "\n",
    "import itertools\n",
    "import copy\n",
    "import re\n",
    "\n",
    "import matplotlib.pyplot as plt\n",
    "from matplotlib.ticker import MaxNLocator\n",
    "\n",
    "import seaborn as sns"
   ]
  },
  {
   "cell_type": "markdown",
   "id": "political-major",
   "metadata": {},
   "source": [
    "-----------"
   ]
  },
  {
   "cell_type": "code",
   "execution_count": 423,
   "id": "perfect-block",
   "metadata": {},
   "outputs": [],
   "source": [
    "#df = pd.read_csv('processed_data.csv')\n",
    "\n",
    "CAR_df = pd.read_csv('post_plots_CAR.csv')\n",
    "CAR_df.rename(columns={'CloseOut':'Close_out'}, inplace=True) \n",
    "\n",
    "CAR_df = CAR_df.drop(['Unnamed: 0'], axis = 1)\n",
    "CAR_df = CAR_df[CAR_df.Close_out <= 200]\n",
    "CAR_df = CAR_df[CAR_df.Close_out > 25]\n"
   ]
  },
  {
   "cell_type": "markdown",
   "id": "studied-submission",
   "metadata": {},
   "source": [
    "--------"
   ]
  },
  {
   "cell_type": "code",
   "execution_count": 424,
   "id": "listed-ethnic",
   "metadata": {},
   "outputs": [
    {
     "data": {
      "text/plain": [
       "array(['Oncology', 'GI', 'NS', 'NonCore', 'RGH'], dtype=object)"
      ]
     },
     "execution_count": 424,
     "metadata": {},
     "output_type": "execute_result"
    }
   ],
   "source": [
    "CAR_df.TA.unique()"
   ]
  },
  {
   "cell_type": "code",
   "execution_count": 425,
   "id": "congressional-nation",
   "metadata": {},
   "outputs": [
    {
     "data": {
      "text/html": [
       "<div>\n",
       "<style scoped>\n",
       "    .dataframe tbody tr th:only-of-type {\n",
       "        vertical-align: middle;\n",
       "    }\n",
       "\n",
       "    .dataframe tbody tr th {\n",
       "        vertical-align: top;\n",
       "    }\n",
       "\n",
       "    .dataframe thead th {\n",
       "        text-align: right;\n",
       "    }\n",
       "</style>\n",
       "<table border=\"1\" class=\"dataframe\">\n",
       "  <thead>\n",
       "    <tr style=\"text-align: right;\">\n",
       "      <th></th>\n",
       "      <th>TrialID</th>\n",
       "      <th>Phase</th>\n",
       "      <th>TA</th>\n",
       "      <th>CRO</th>\n",
       "      <th>Close_out</th>\n",
       "    </tr>\n",
       "  </thead>\n",
       "  <tbody>\n",
       "    <tr>\n",
       "      <th>0</th>\n",
       "      <td>C16014  Korea Continuation</td>\n",
       "      <td>III</td>\n",
       "      <td>Oncology</td>\n",
       "      <td>PPD</td>\n",
       "      <td>51</td>\n",
       "    </tr>\n",
       "    <tr>\n",
       "      <th>1</th>\n",
       "      <td>C34007</td>\n",
       "      <td>I</td>\n",
       "      <td>Oncology</td>\n",
       "      <td>IQVIA</td>\n",
       "      <td>100</td>\n",
       "    </tr>\n",
       "    <tr>\n",
       "      <th>2</th>\n",
       "      <td>TAK-438_302</td>\n",
       "      <td>III</td>\n",
       "      <td>GI</td>\n",
       "      <td>IQVIA</td>\n",
       "      <td>112</td>\n",
       "    </tr>\n",
       "    <tr>\n",
       "      <th>3</th>\n",
       "      <td>TAK-438_304</td>\n",
       "      <td>III</td>\n",
       "      <td>GI</td>\n",
       "      <td>IQVIA</td>\n",
       "      <td>146</td>\n",
       "    </tr>\n",
       "    <tr>\n",
       "      <th>4</th>\n",
       "      <td>TAK-935-1005</td>\n",
       "      <td>I</td>\n",
       "      <td>NS</td>\n",
       "      <td>PPD</td>\n",
       "      <td>63</td>\n",
       "    </tr>\n",
       "  </tbody>\n",
       "</table>\n",
       "</div>"
      ],
      "text/plain": [
       "                      TrialID Phase        TA    CRO  Close_out\n",
       "0  C16014  Korea Continuation   III  Oncology    PPD         51\n",
       "1                      C34007     I  Oncology  IQVIA        100\n",
       "2                 TAK-438_302   III        GI  IQVIA        112\n",
       "3                 TAK-438_304   III        GI  IQVIA        146\n",
       "4                TAK-935-1005     I        NS    PPD         63"
      ]
     },
     "execution_count": 425,
     "metadata": {},
     "output_type": "execute_result"
    }
   ],
   "source": [
    "CAR_df.head()"
   ]
  },
  {
   "cell_type": "code",
   "execution_count": 426,
   "id": "corresponding-qatar",
   "metadata": {},
   "outputs": [],
   "source": [
    "def get_aggregated_df(df, isCore):\n",
    "    '''\n",
    "    Takes general dataframe as input and return an aggregated df, with the prevalence data\n",
    "    '''    \n",
    "    # Providing labels for the grouping and the new columns after resetting the index\n",
    "    GROUP_COLS = ['Phase', 'TA','CRO']\n",
    "    NEW_COL_NAMES = ['Phase', 'TA', 'CRO', 'OutlierCounts', 'TotObs']\n",
    "    \n",
    "#     # Difference between TA and GeneralTA is that GeneralTA is mapped -> CHANGE NAME TO MAPPED TA\n",
    "#     if isCore:\n",
    "#         GROUP_COLS.append('TA')\n",
    "#     elif not isCore:\n",
    "#         GROUP_COLS.append('TA')\n",
    "    \n",
    "    CORE_TAU = ['Oncology', 'GI', 'NS', 'RGH', 'NonCore']\n",
    "    NON_CORE_TAU = ['PDT', 'OPHTH', 'CVM', 'Vaccine', 'Others']\n",
    "    \n",
    "    if not isCore:        \n",
    "        df = df[df.TA.isin(NON_CORE_TAU)]\n",
    "     \n",
    "    new_df = df.groupby(by=GROUP_COLS).agg({'isOutlier':'sum','TrialID':'count'}).reset_index()\n",
    "    new_df.columns = NEW_COL_NAMES\n",
    "    \n",
    "    new_df['Prevalence'] = round(new_df.OutlierCounts/new_df.TotObs,2)\n",
    "    new_df = new_df[new_df.Phase != '0']\n",
    "\n",
    "    return new_df"
   ]
  },
  {
   "cell_type": "code",
   "execution_count": null,
   "id": "fatty-reserve",
   "metadata": {},
   "outputs": [],
   "source": []
  },
  {
   "cell_type": "code",
   "execution_count": 427,
   "id": "cloudy-bangladesh",
   "metadata": {},
   "outputs": [],
   "source": [
    "def get_plot_order(category, isCore):\n",
    "    '''\n",
    "    Takes as input the category (CRO, Phase, TA) being analysed and returns the category's order\n",
    "    in the plot\n",
    "    '''\n",
    "    \n",
    "    CRO_order = ['IQVIA', 'PRA', 'PPD', 'Celerion','Other']\n",
    "    CORE_ORDER = ['Oncology', 'GI', 'NS', 'RGH', 'NonCore']\n",
    "    NON_CORE_ORDER = ['PDT', 'CVM', 'Vaccine', 'OPHTH', 'Others']\n",
    "    \n",
    "    if category == 'TA': \n",
    "        if isCore:\n",
    "            plot_order = CORE_ORDER\n",
    "        elif not isCore:\n",
    "            plot_order = NON_CORE_ORDER\n",
    "    elif category == 'CRO':\n",
    "        plot_order = CRO_order\n",
    "    else: \n",
    "        plot_order = None\n",
    "    \n",
    "    return plot_order\n",
    "\n",
    "def get_hue_name(c,isGeneric):\n",
    "    '''\n",
    "    Returns the hue value for the specific plots\n",
    "    '''\n",
    "    if isGeneric or c=='CRO':\n",
    "        return None\n",
    "    elif not isGeneric:\n",
    "        return 'CRO'\n",
    "\n",
    "\n",
    "def get_generic_plot_df(df, c):\n",
    "    '''\n",
    "    Takes as input the original dataframe, and generalizes the group to the desired\n",
    "    category, c. Returns the grouped dataframe to be used in the plot.\n",
    "    '''\n",
    "    df = df.groupby(by=[c]).sum().reset_index()\n",
    "    df.Prevalence = round(df.OutlierCounts/df.TotObs,2)\n",
    "    \n",
    "    return df\n",
    "\n",
    "\n",
    "def get_non_generic_plot_df(df,c):\n",
    "    '''\n",
    "    Takes in the original dataframe and performs a groupby for\n",
    "    a specific category to ensure the outlier counts are correct\n",
    "    '''\n",
    "    if c=='CRO':\n",
    "        plot_df = df\n",
    "    else:\n",
    "        plot_df = df.groupby(by=['CRO', c]).sum().reset_index()\n",
    "        plot_df.Prevalence = round(plot_df.OutlierCounts/plot_df.TotObs,2) \n",
    "\n",
    "    return plot_df\n"
   ]
  },
  {
   "cell_type": "code",
   "execution_count": 428,
   "id": "social-triple",
   "metadata": {},
   "outputs": [],
   "source": [
    "def generate_plots(df, isCore, isGeneric):\n",
    "    '''\n",
    "    Splitting the generation of the plots themselves\n",
    "    '''    \n",
    "    if isCore:\n",
    "        print('Plots for assets in core TAU')\n",
    "    elif not isCore:\n",
    "        print('Plots for assets not in core TAUs')\n",
    "    \n",
    "    yvals = ['Prevalence']#['OutlierCounts', 'Prevalence', 'TotObs'] #changed TotObs to OutlierCounts\n",
    "    \n",
    "    sns.set_palette('cool')\n",
    "    \n",
    "    # Plots for Phase and TA\n",
    "    categories = ['Phase', 'TA', 'CRO']\n",
    "    for yval in yvals: \n",
    "        if yval == 'OutlierCounts':\n",
    "            y_label = '# of Outliers'\n",
    "        elif yval == 'TotObs':\n",
    "            y_label = '# of Trials'\n",
    "        else:\n",
    "            y_label = yval\n",
    "            \n",
    "        for c in categories:\n",
    "            # Groups by to ensure correct ratios are obtained\n",
    "            if isGeneric or c =='CRO':\n",
    "                plot_df = get_generic_plot_df(df,c)\n",
    "            elif not isGeneric:\n",
    "                plot_df = get_non_generic_plot_df(df,c)\n",
    "            \n",
    "            plot_order = get_plot_order(c,isCore)\n",
    "            hue_name = get_hue_name(c, isGeneric)\n",
    "            print(f'Counting trials for {c}...')\n",
    "            print(df.loc[:, c].value_counts())\n",
    "            \n",
    "            plt.figure(figsize = (10,8))\n",
    "            ax = sns.barplot(x = c, y = yval, data = plot_df, hue = hue_name, ci = None, order = plot_order)\n",
    "            plt.xticks(fontsize = 15)\n",
    "            plt.yticks(fontsize = 15)\n",
    "            ax.set(ylim=(0, 0.5))\n",
    "            ax.set_xlabel(c, fontsize = 15)\n",
    "            ax.set_ylabel(y_label, fontsize = 15)\n",
    "            if yval != 'Prevalence':\n",
    "                ax.yaxis.set_major_locator(MaxNLocator(integer=True))\n",
    "            \n",
    "            plt.savefig(f'CAR_{MODE}_{days}_days_{yval}_{c}_isGeneric_{isGeneric}.png')\n",
    "    \n",
    "    pass"
   ]
  },
  {
   "cell_type": "code",
   "execution_count": 429,
   "id": "accredited-zealand",
   "metadata": {},
   "outputs": [],
   "source": [
    "def label_outliers(df, MODE, days):\n",
    "    '''\n",
    "    Returns a df with a column labelling the outliers. Here, an outlier is defined in \n",
    "    accordance with the MODE and days used. I.e. MODE = 'more than' and days = 50, \n",
    "    will have an outlier trial as one whose Close_out took over 50 days\n",
    "    '''\n",
    "    df['isOutlier'] = 0\n",
    "    \n",
    "    if MODE == 'greater than':\n",
    "        df.loc[df.Close_out > days, ['isOutlier']] = 1\n",
    "    elif MODE == 'less than':\n",
    "        df.loc[df.Close_out <= days, ['isOutlier']] = 1\n",
    "    \n",
    "    return df"
   ]
  },
  {
   "cell_type": "code",
   "execution_count": 430,
   "id": "interim-client",
   "metadata": {},
   "outputs": [],
   "source": [
    "def get_prevalence_plots(df, MODE, days, isCore, isGeneric):\n",
    "    '''\n",
    "    Given a dataframe with outlier counts, compute the prevalance \n",
    "    and distributon of outliers across CRO, TA, and Phase\n",
    "    '''\n",
    "    print(f'Outliers considered as trials with a close-out time {MODE} {days} days')\n",
    "    \n",
    "    # Generating a df with a column labelling outliers\n",
    "    df = label_outliers(df, MODE, days)\n",
    "    \n",
    "    # Obtaining a new, aggregated dataframe \n",
    "    new_df = get_aggregated_df(df,isCore)\n",
    "    \n",
    "    totTrials = df.shape[0]\n",
    "    totOutliers = new_df.OutlierCounts.sum()\n",
    "    percOutliers = round(100*totOutliers/totTrials,2)\n",
    "    \n",
    "    print(f'{percOutliers}% of trials ({totOutliers} out of {totTrials}) with a close-out time {MODE} {days} days')\n",
    "    \n",
    "    if isCore:\n",
    "        ### Plots for CORE_TA assets ###    \n",
    "        generate_plots(new_df, isCore, isGeneric)\n",
    "    elif not isCore:\n",
    "        ### Plots for NON_CORE_TA assets ###\n",
    "        generate_plots(new_df, isCore, isGeneric)\n",
    "    \n",
    "    return new_df"
   ]
  },
  {
   "cell_type": "markdown",
   "id": "emerging-screening",
   "metadata": {},
   "source": [
    "-----"
   ]
  },
  {
   "cell_type": "code",
   "execution_count": 431,
   "id": "educated-blake",
   "metadata": {},
   "outputs": [],
   "source": [
    "def outlier_analysis(df, MODE, days, isCore, isGeneric):\n",
    "    '''\n",
    "    Combines all the previous functions to simplify whether the \n",
    "    outlier analysis will be for trials that took more or less than a certain amount of days\n",
    "    \n",
    "    df = process dataframe \n",
    "    MODE = either 'less than' or 'more than' (corresponds to <= or >)\n",
    "    days = # of days to use as delimiter \n",
    "    \n",
    "    isCore = bool (True = analysis for CORE TAU, False = analysis for Non-CORE TAU)\n",
    "    isGeneric = bool (True = not breaking down analysis by CRO, False = breaks down analysis by CRO)\n",
    "    \n",
    "    Function will return the aggregated df used to make the plots\n",
    "    ''' \n",
    "    new_df = get_prevalence_plots(df, MODE, days, isCore, isGeneric)\n",
    "    \n",
    "    return new_df "
   ]
  },
  {
   "cell_type": "code",
   "execution_count": 432,
   "id": "starting-guinea",
   "metadata": {},
   "outputs": [],
   "source": [
    "MODE = 'less than'\n",
    "days = 33"
   ]
  },
  {
   "cell_type": "code",
   "execution_count": 433,
   "id": "harmful-daughter",
   "metadata": {},
   "outputs": [
    {
     "data": {
      "text/plain": [
       "I      103\n",
       "III     70\n",
       "II      61\n",
       "IV      11\n",
       "Name: Phase, dtype: int64"
      ]
     },
     "execution_count": 433,
     "metadata": {},
     "output_type": "execute_result"
    }
   ],
   "source": [
    "CAR_df.Phase.value_counts()"
   ]
  },
  {
   "cell_type": "code",
   "execution_count": 434,
   "id": "documented-netscape",
   "metadata": {},
   "outputs": [
    {
     "data": {
      "text/plain": [
       "Oncology    82\n",
       "GI          60\n",
       "NonCore     43\n",
       "NS          43\n",
       "RGH         17\n",
       "Name: TA, dtype: int64"
      ]
     },
     "execution_count": 434,
     "metadata": {},
     "output_type": "execute_result"
    }
   ],
   "source": [
    "CAR_df.TA.value_counts()"
   ]
  },
  {
   "cell_type": "code",
   "execution_count": 435,
   "id": "ideal-commitment",
   "metadata": {},
   "outputs": [
    {
     "data": {
      "text/plain": [
       "IQVIA       65\n",
       "Other       62\n",
       "PPD         57\n",
       "PRA         43\n",
       "Celerion    18\n",
       "Name: CRO, dtype: int64"
      ]
     },
     "execution_count": 435,
     "metadata": {},
     "output_type": "execute_result"
    }
   ],
   "source": [
    "CAR_df.CRO.value_counts()"
   ]
  },
  {
   "cell_type": "code",
   "execution_count": 149,
   "id": "metropolitan-husband",
   "metadata": {
    "scrolled": true
   },
   "outputs": [
    {
     "name": "stdout",
     "output_type": "stream",
     "text": [
      "Outliers considered as trials with a close-out time less than 33 days\n",
      "10.26% of trials (24 out of 234) with a close-out time less than 33 days\n",
      "Plots for assets in core TAU\n",
      "Counting trials for Phase...\n",
      "I      21\n",
      "III    16\n",
      "II     15\n",
      "IV      6\n",
      "Name: Phase, dtype: int64\n",
      "Counting trials for TA...\n",
      "Oncology    14\n",
      "NonCore     12\n",
      "NS          12\n",
      "GI          11\n",
      "RGH          9\n",
      "Name: TA, dtype: int64\n",
      "Counting trials for CRO...\n",
      "IQVIA       18\n",
      "PPD         14\n",
      "Other       14\n",
      "PRA          8\n",
      "Celerion     4\n",
      "Name: CRO, dtype: int64\n"
     ]
    },
    {
     "data": {
      "image/png": "[encoded data removed]",
      "text/plain": [
       "<Figure size 720x576 with 1 Axes>"
      ]
     },
     "metadata": {
      "needs_background": "light"
     },
     "output_type": "display_data"
    },
    {
     "data": {
      "image/png": "[encoded data removed]",
      "text/plain": [
       "<Figure size 720x576 with 1 Axes>"
      ]
     },
     "metadata": {
      "needs_background": "light"
     },
     "output_type": "display_data"
    },
    {
     "data": {
      "image/png": "[encoded data removed]",
      "text/plain": [
       "<Figure size 720x576 with 1 Axes>"
      ]
     },
     "metadata": {
      "needs_background": "light"
     },
     "output_type": "display_data"
    }
   ],
   "source": [
    "new_df = outlier_analysis(CAR_df, MODE, days, isCore=True, isGeneric=True)"
   ]
  },
  {
   "cell_type": "code",
   "execution_count": null,
   "id": "surprising-applicant",
   "metadata": {},
   "outputs": [],
   "source": []
  },
  {
   "cell_type": "markdown",
   "id": "chinese-present",
   "metadata": {},
   "source": [
    "### Creating the stacked barchart "
   ]
  },
  {
   "cell_type": "markdown",
   "id": "twelve-alert",
   "metadata": {},
   "source": [
    "- Requirements\n",
    "    - Stacked horizontal\n",
    "    - Colour by type of class not category \n",
    "    - Categories: top, bottom, middle quartiles \n",
    "    - Plots by CRO, Phase, and TA"
   ]
  },
  {
   "cell_type": "code",
   "execution_count": 436,
   "id": "speaking-arrest",
   "metadata": {},
   "outputs": [],
   "source": [
    "temp_df = copy.deepcopy(CAR_df)"
   ]
  },
  {
   "cell_type": "code",
   "execution_count": 437,
   "id": "about-franchise",
   "metadata": {},
   "outputs": [],
   "source": [
    "temp_df['TopQuartile'] = 0\n",
    "temp_df['BottomQuartile'] = 0\n",
    "temp_df['MidQuartile'] = 0"
   ]
  },
  {
   "cell_type": "code",
   "execution_count": 438,
   "id": "dynamic-interstate",
   "metadata": {},
   "outputs": [],
   "source": [
    "top_quartile_bound = 33\n",
    "bot_quartile_bound = 82"
   ]
  },
  {
   "cell_type": "code",
   "execution_count": 439,
   "id": "saving-hampton",
   "metadata": {},
   "outputs": [],
   "source": [
    "temp_df.loc[temp_df.Close_out < top_quartile_bound, 'TopQuartile'] = 1\n",
    "temp_df.loc[(temp_df.Close_out >= top_quartile_bound)&(temp_df.Close_out <= bot_quartile_bound), 'MidQuartile'] = 1\n",
    "temp_df.loc[temp_df.Close_out > bot_quartile_bound, 'BottomQuartile'] = 1"
   ]
  },
  {
   "cell_type": "code",
   "execution_count": 440,
   "id": "exotic-investing",
   "metadata": {},
   "outputs": [],
   "source": [
    "def get_row_order(label_order):\n",
    "    '''\n",
    "    Takes in the order of the labels for a group and returns the priority index\n",
    "    to be used for future sorting\n",
    "    '''\n",
    "    \n",
    "    label_dict = dict()\n",
    "    \n",
    "    i = 1\n",
    "    for label in label_order:\n",
    "        label_dict[label] = i\n",
    "        i += 1\n",
    "    \n",
    "    return label_dict\n",
    "\n",
    "def get_priority(label_dict, group, label):\n",
    "    '''\n",
    "    Given an order of priorities, return the priority for the given label\n",
    "    '''\n",
    "    priority = label_dict[label]\n",
    "    return priority \n",
    "\n",
    "def order_df(df, group, label_dict):\n",
    "    '''\n",
    "    Takes in median_df and returns ordered df in accordance with the desired label order\n",
    "    '''\n",
    "    df['Priority'] = df.loc[:, group]\n",
    "    df.loc[:, 'Priority'] = df.loc[:, 'Priority'].apply(lambda x: get_priority(label_dict, group, label = x)) \n",
    "    df = df.sort_values(by ='Priority')\n",
    "    \n",
    "    return df\n",
    "\n",
    "\n",
    "def get_agg_df(df, group, label_order):\n",
    "    \n",
    "    agg_df = df.groupby(by =[group]).agg({'TopQuartile': 'sum', \n",
    "                                          'MidQuartile': 'sum',\n",
    "                                          'BottomQuartile': 'sum', \n",
    "                                          'TrialID': 'count'}).reset_index()\n",
    "\n",
    "    agg_df.loc[:, 'TopQuartile'] = agg_df.loc[:, 'TopQuartile']/agg_df.TrialID\n",
    "    agg_df.loc[:, 'MidQuartile'] = agg_df.loc[:, 'MidQuartile']/agg_df.TrialID\n",
    "    agg_df.loc[:, 'BottomQuartile'] = agg_df.loc[:, 'BottomQuartile']/agg_df.TrialID\n",
    "    \n",
    "    label_dict = get_row_order(label_order)\n",
    "    agg_df = order_df(agg_df, group, label_dict)\n",
    "    \n",
    "    \n",
    "    return agg_df"
   ]
  },
  {
   "cell_type": "code",
   "execution_count": 445,
   "id": "persistent-advisory",
   "metadata": {},
   "outputs": [],
   "source": [
    "def get_quartiles(df, horizontal):\n",
    "    '''\n",
    "    Provides the quartile values, in accordance with whether horizontal or vertical stacked plots are desired\n",
    "    '''\n",
    "    \n",
    "    if horizontal:\n",
    "        TopQ = df.loc[:, 'TopQuartile'][::-1]\n",
    "        MidQ = df.loc[:, 'MidQuartile'][::-1]\n",
    "        BottomQ = df.loc[:, 'BottomQuartile'][::-1]\n",
    "    \n",
    "    elif not horizontal:\n",
    "        TopQ = df.loc[:, 'TopQuartile']\n",
    "        MidQ = df.loc[:, 'MidQuartile']\n",
    "        BottomQ = df.loc[:, 'BottomQuartile']\n",
    "    \n",
    "    \n",
    "    return TopQ, MidQ, BottomQ\n",
    "\n",
    "\n",
    "def generate_plots(names, r, TopQ, MidQ, BottomQ, horizontal):\n",
    "    \n",
    "    sns.set(font_scale=1)\n",
    "    sns.set_style('ticks')\n",
    "    sns.set_palette('cool')\n",
    "\n",
    "    \n",
    "    if horizontal:\n",
    "\n",
    "        plt.barh(names, TopQ, color='#b5ffb9', edgecolor='white', label = 'Top Quartile')\n",
    "        plt.barh(names, MidQ, left=TopQ, color='#f9bc86', edgecolor='white', label = 'Interquartile')\n",
    "        plt.barh(names, BottomQ, left=MidQ+TopQ, color='#a3acff', edgecolor='white', label = 'Bottom Quartile')\n",
    "        plt.yticks(r, names)\n",
    "        plt.ylabel(f'{group}')\n",
    "        plt.xlabel('Percentage')\n",
    "    \n",
    "    elif not horizontal:\n",
    "            \n",
    "        barWidth = 0.85\n",
    "        \n",
    "        plt.bar(r, TopQ, color='#b5ffb9', edgecolor='white', width=barWidth, label = 'Top Quartile')\n",
    "        plt.bar(r, MidQ, bottom=TopQ, color='#f9bc86', edgecolor='white', width=barWidth, label = 'Interquartile')\n",
    "        plt.bar(r, BottomQ, bottom=[i+j for i,j in zip(TopQ, MidQ)], \n",
    "                color='#a3acff', edgecolor='white', width=barWidth, label = 'Bottom Quartile')\n",
    "\n",
    "        plt.xticks(r, names)\n",
    "        plt.xlabel(f'{group}')\n",
    "        plt.ylabel('Percentage')\n",
    "    \n",
    "    plt.legend(loc='best', bbox_to_anchor=(1,1), ncol=1)\n",
    "    \n",
    "    pass"
   ]
  },
  {
   "cell_type": "code",
   "execution_count": 446,
   "id": "distinguished-acrobat",
   "metadata": {},
   "outputs": [],
   "source": [
    "def stacked_plot(df, group, label_order, horizontal):\n",
    "    '''\n",
    "    Aggregates the values needed to generate the stacked plot \n",
    "    Outputs a horizontal or vertical stacked plot\n",
    "    '''\n",
    "    r = [i for i in range(df.shape[0])][::-1]\n",
    "    names = label_order\n",
    "    \n",
    "    TopQ, MidQ, BottomQ = get_quartiles(df, horizontal)\n",
    "    \n",
    "    plt.figure(figsize = (10,8))\n",
    "    generate_plots(names, r, TopQ, MidQ, BottomQ, horizontal)\n",
    "\n",
    "    pass"
   ]
  },
  {
   "cell_type": "code",
   "execution_count": 447,
   "id": "frank-guide",
   "metadata": {},
   "outputs": [],
   "source": [
    "groups = ['CRO', 'TA', 'Phase']\n",
    "\n",
    "label_orders = [['IQVIA', 'PPD', 'PRA', 'Celerion', 'Other'],\n",
    "                ['Oncology', 'GI', 'NS', 'RGH', 'NonCore'],\n",
    "                ['I', 'II', 'III', 'IV']]\n"
   ]
  },
  {
   "cell_type": "code",
   "execution_count": 450,
   "id": "armed-start",
   "metadata": {},
   "outputs": [
    {
     "name": "stderr",
     "output_type": "stream",
     "text": [
      "The PostScript backend does not support transparency; partially transparent artists will be rendered opaque.\n",
      "The PostScript backend does not support transparency; partially transparent artists will be rendered opaque.\n"
     ]
    },
    {
     "data": {
      "image/png": "[encoded data removed]",
      "text/plain": [
       "<Figure size 720x576 with 1 Axes>"
      ]
     },
     "metadata": {},
     "output_type": "display_data"
    },
    {
     "name": "stderr",
     "output_type": "stream",
     "text": [
      "The PostScript backend does not support transparency; partially transparent artists will be rendered opaque.\n",
      "The PostScript backend does not support transparency; partially transparent artists will be rendered opaque.\n"
     ]
    },
    {
     "data": {
      "image/png": "[encoded data removed]",
      "text/plain": [
       "<Figure size 720x576 with 1 Axes>"
      ]
     },
     "metadata": {},
     "output_type": "display_data"
    },
    {
     "name": "stderr",
     "output_type": "stream",
     "text": [
      "The PostScript backend does not support transparency; partially transparent artists will be rendered opaque.\n",
      "The PostScript backend does not support transparency; partially transparent artists will be rendered opaque.\n"
     ]
    },
    {
     "data": {
      "image/png": "[encoded data removed]",
      "text/plain": [
       "<Figure size 720x576 with 1 Axes>"
      ]
     },
     "metadata": {},
     "output_type": "display_data"
    }
   ],
   "source": [
    "i = 0\n",
    "\n",
    "\n",
    "for group in groups:\n",
    "    label_order = label_orders[i]\n",
    "    group = groups[i]\n",
    "    agg_df = get_agg_df(temp_df, group, label_order)\n",
    "    stacked_plot(agg_df, group, label_order, horizontal = True)\n",
    "    plt.savefig(f'{group}_quartiles.eps', bbox_inches = 'tight')\n",
    "    plt.show()\n",
    "    i+=1\n",
    "    "
   ]
  },
  {
   "cell_type": "markdown",
   "id": "explicit-typing",
   "metadata": {},
   "source": [
    "--------"
   ]
  },
  {
   "cell_type": "markdown",
   "id": "stretch-compatibility",
   "metadata": {},
   "source": [
    "### BACK UP "
   ]
  },
  {
   "cell_type": "code",
   "execution_count": null,
   "id": "union-stake",
   "metadata": {},
   "outputs": [],
   "source": [
    "def get_rate(df2, outlier_thresh):\n",
    "    df2['isOutlier'] = 0\n",
    "    df2.loc[df2.Close_out > outlier_thresh, ['isOutlier']] = 1\n",
    "    return df2.isOutlier.sum()/df2.shape[0]\n",
    "\n",
    "\n",
    "# Rate of outliers as a function of threshold value\n",
    "plt.plot([i for i in range(0,151,10)], [get_rate(df2,i) for i in range(0,151,10)], color = 'red')\n",
    "\n",
    "# Get this same plot, but add hues for Phase and CRO, for TA --> CHECK with Takeda if there are particular \n",
    "# phases they're interested in "
   ]
  },
  {
   "cell_type": "code",
   "execution_count": null,
   "id": "comprehensive-zambia",
   "metadata": {},
   "outputs": [],
   "source": [
    "# Getting plots by each category\n",
    "def get_outliers_category(df, INPUT_COL, isCore):\n",
    "    '''\n",
    "    Will plot the percentage of outliers by category. Takes input of processed df with outliers labeled \n",
    "    and desired category, returns a plot that tells you the prevalence of outliers. \n",
    "    I.e. \"10% of IQVIA observations are outliers\"\n",
    "    '''\n",
    "        \n",
    "    distributions = {'Item': [], 'OutlierCount': [], 'TotObservations':[], 'Prevalence':[]}\n",
    "\n",
    "    COL_MAP = {'Phase': 'GeneralPhase', 'CRO': 'GeneralCRO', 'CORE_TA': 'GeneralTA', 'NON_CORE_TA': 'TA'}\n",
    "\n",
    "    \n",
    "    label_order = {'Phase': ['I', 'II', 'III', 'IV'], \n",
    "                   'CRO':['IQVIA', 'PRA', 'PPD', 'Celerion', 'Other']}\n",
    "    \n",
    "    if isCore:\n",
    "        label_order['CORE_TA'] = ['GI', 'Oncology', 'CNS', 'RGH', 'NonCore'] \n",
    "    elif not isCore:\n",
    "        label_order['NON_CORE_TA'] = ['PDT', 'OPHTH', 'CVM', 'Vaccine', 'Others']\n",
    "\n",
    "    COL_NAME = COL_MAP[INPUT_COL]\n",
    "    name_list = label_order[INPUT_COL]\n",
    "\n",
    "    prevalence_list = list()\n",
    "\n",
    "    for name in name_list:\n",
    "        # Calculating values\n",
    "        outlier_counts = df[df.loc[:,COL_NAME] == name].isOutlier.sum()\n",
    "        tot_obs = df[df.loc[:,COL_NAME] == name].shape[0]\n",
    "        prevalence = round(outlier_counts/tot_obs, 2)\n",
    "        \n",
    "        # Adding info to dictionary \n",
    "        distributions['Item'].append(name)\n",
    "        distributions['OutlierCount'].append(outlier_counts)\n",
    "        distributions['TotObservations'].append(tot_obs)\n",
    "        distributions['Prevalence'].append(prevalence)\n",
    "        obs = distributions['TotObservations']\n",
    "        \n",
    "\n",
    "    # Plots \"10% of IQVIA obs are outliers, 5% of PRA obs are outliers, etc.\"\n",
    "    plt.figure(figsize = (10,6))\n",
    "    ax = sns.barplot(x = distributions['Item'], \n",
    "                     y = distributions['Prevalence'], \n",
    "                     color = 'red')\n",
    "    \n",
    "    ax.set_xlabel(COL_NAME)\n",
    "    ax.set_ylabel('Prevalence')\n",
    "    ax.set_title(f'% of outliers per {INPUT_COL} category')\n",
    "    \n",
    "    \n",
    "    return distributions"
   ]
  },
  {
   "cell_type": "code",
   "execution_count": null,
   "id": "tough-stanford",
   "metadata": {},
   "outputs": [],
   "source": [
    "COLS = ['Phase', 'CRO', 'CORE_TA', 'NON_CORE_TA']\n",
    "distributions_dict = dict()\n",
    "\n",
    "for INPUT_COL in COLS:   \n",
    "    distributions_dict[INPUT_COL] = get_outliers_category(grouped_df, INPUT_COL)"
   ]
  },
  {
   "cell_type": "code",
   "execution_count": null,
   "id": "public-mayor",
   "metadata": {},
   "outputs": [],
   "source": [
    "def country_outlier_breakdown(outlier_data):\n",
    "    '''\n",
    "    Takes in a subset dataset a returns a ranked list of countries \n",
    "    ranked by frequency of occurrence in the outlier set\n",
    "    '''\n",
    "    \n",
    "    # Calculating the set of countries used in the trial \n",
    "\n",
    "    # Loop finds all countries in all trials (will include repeated names)\n",
    "    country_meta_ls = outlier_data.Country\n",
    "    agg_country_ls = list()\n",
    "    for country_ls in country_meta_ls:\n",
    "        if ',' in country_ls:\n",
    "            temp_ls = country_ls.split(',')\n",
    "            agg_country_ls.extend(temp_ls)\n",
    "        else:\n",
    "            agg_country_ls.append(country_ls)\n",
    "\n",
    "    # Loop returns the unique list of countries, with typos (such as whitespaces) fixed \n",
    "    temp_ls = list()\n",
    "    for country in agg_country_ls:\n",
    "        if country[0] == ' ':\n",
    "            country = country[1:]\n",
    "            temp_ls.append(country)\n",
    "        else:\n",
    "            temp_ls.append(country)\n",
    "    country_ls = list(set(temp_ls))\n",
    "    country_ls.sort()\n",
    "    \n",
    "    \n",
    "    # Assigning a frequency of use and average close_out time per country\n",
    "    country_dict = dict() \n",
    "\n",
    "    # Iterate through each row so that you count the number of times a country is selected, and finds the close out of the \n",
    "    # trial \n",
    "\n",
    "    country_idx = outlier_data.columns.get_loc('Country')\n",
    "    close_out_idx = outlier_data.columns.get_loc('Close_out')\n",
    "\n",
    "    # Loop returns the a dictionary with the specified structure above\n",
    "    for country in country_ls:\n",
    "        country_dict[country] = [0,[]]\n",
    "        for row in outlier_data.values:\n",
    "            trial_countries = row[country_idx]\n",
    "            trial_close_out = row[close_out_idx]\n",
    "            if country in trial_countries:\n",
    "                country_dict[country][0] += 1\n",
    "                country_dict[country][1].append(trial_close_out)\n",
    "    \n",
    "    # Visualising how many times each country is used in a trial\n",
    "    country_names = list(country_dict.keys())\n",
    "    vals = country_dict.values()\n",
    "\n",
    "    # Frequency of appearance in trial\n",
    "    country_freq = list()\n",
    "    country_close_out = list()\n",
    "    for val in vals:\n",
    "        country_freq.append(val[0])\n",
    "        country_close_out.append(val[1])\n",
    "\n",
    "    country_freq_df = pd.DataFrame({'Country':country_names, 'Frequency': country_freq, 'CloseOut': country_close_out})\n",
    "    country_rank = country_freq_df.sort_values('Frequency', ascending = False)\n",
    "    \n",
    "    occurrences = country_rank.Frequency.sum()\n",
    "\n",
    "    country_rank['Weight'] = country_rank.Frequency.apply(lambda x: round(100*x/occurrences,2))\n",
    "    country_rank.Country = country_rank.Country.apply(lambda x: change_country_name(x))\n",
    "    \n",
    "    return country_rank"
   ]
  }
 ],
 "metadata": {
  "kernelspec": {
   "display_name": "Python 3",
   "language": "python",
   "name": "python3"
  },
  "language_info": {
   "codemirror_mode": {
    "name": "ipython",
    "version": 3
   },
   "file_extension": ".py",
   "mimetype": "text/x-python",
   "name": "python",
   "nbconvert_exporter": "python",
   "pygments_lexer": "ipython3",
   "version": "3.8.8"
  }
 },
 "nbformat": 4,
 "nbformat_minor": 5
}
